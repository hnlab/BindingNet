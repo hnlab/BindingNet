{
 "cells": [
  {
   "cell_type": "code",
   "execution_count": 11,
   "metadata": {},
   "outputs": [],
   "source": [
    "from pathlib import Path\n",
    "import pandas as pd\n",
    "import numpy as np\n",
    "import seaborn as sns\n",
    "from matplotlib import pyplot as plt\n",
    "from scipy.stats import gaussian_kde\n",
    "from scipy import stats\n",
    "from rdkit import Chem\n",
    "from rdkit.Chem import rdMolDescriptors"
   ]
  },
  {
   "cell_type": "code",
   "execution_count": 13,
   "metadata": {},
   "outputs": [
    {
     "data": {
      "text/plain": [
       "69826"
      ]
     },
     "execution_count": 13,
     "metadata": {},
     "output_type": "execute_result"
    }
   ],
   "source": [
    "Uw_dealt_median = f'/pubhome/xli02/project/PLIM/v2019_dataset/index/PLANet_Uw_dealt_median.csv'\n",
    "Uw_dealt_median_df = pd.read_csv(Uw_dealt_median, sep='\\t')\n",
    "len(Uw_dealt_median_df)"
   ]
  },
  {
   "cell_type": "code",
   "execution_count": null,
   "metadata": {},
   "outputs": [],
   "source": []
  },
  {
   "cell_type": "markdown",
   "metadata": {},
   "source": [
    "# 1. Core_set_v16"
   ]
  },
  {
   "cell_type": "code",
   "execution_count": 2,
   "metadata": {},
   "outputs": [],
   "source": [
    "PDBbind_dir = '/pubhome/xli02/Downloads/dataset/PDBbind/PDBbind_v2019'"
   ]
  },
  {
   "cell_type": "code",
   "execution_count": 18,
   "metadata": {},
   "outputs": [
    {
     "data": {
      "text/html": [
       "<div>\n",
       "<style scoped>\n",
       "    .dataframe tbody tr th:only-of-type {\n",
       "        vertical-align: middle;\n",
       "    }\n",
       "\n",
       "    .dataframe tbody tr th {\n",
       "        vertical-align: top;\n",
       "    }\n",
       "\n",
       "    .dataframe thead th {\n",
       "        text-align: right;\n",
       "    }\n",
       "</style>\n",
       "<table border=\"1\" class=\"dataframe\">\n",
       "  <thead>\n",
       "    <tr style=\"text-align: right;\">\n",
       "      <th></th>\n",
       "      <th>pdb_id</th>\n",
       "      <th>-logAffi</th>\n",
       "    </tr>\n",
       "  </thead>\n",
       "  <tbody>\n",
       "    <tr>\n",
       "      <th>0</th>\n",
       "      <td>3ao4</td>\n",
       "      <td>2.07</td>\n",
       "    </tr>\n",
       "    <tr>\n",
       "      <th>1</th>\n",
       "      <td>3gv9</td>\n",
       "      <td>2.12</td>\n",
       "    </tr>\n",
       "    <tr>\n",
       "      <th>2</th>\n",
       "      <td>1uto</td>\n",
       "      <td>2.27</td>\n",
       "    </tr>\n",
       "    <tr>\n",
       "      <th>3</th>\n",
       "      <td>1ps3</td>\n",
       "      <td>2.28</td>\n",
       "    </tr>\n",
       "    <tr>\n",
       "      <th>4</th>\n",
       "      <td>4ddk</td>\n",
       "      <td>2.29</td>\n",
       "    </tr>\n",
       "  </tbody>\n",
       "</table>\n",
       "</div>"
      ],
      "text/plain": [
       "  pdb_id  -logAffi\n",
       "0   3ao4      2.07\n",
       "1   3gv9      2.12\n",
       "2   1uto      2.27\n",
       "3   1ps3      2.28\n",
       "4   4ddk      2.29"
      ]
     },
     "execution_count": 18,
     "metadata": {},
     "output_type": "execute_result"
    }
   ],
   "source": [
    "core_f = f'{PDBbind_dir}/CASF_v16_index_dealt.csv'\n",
    "core_df = pd.read_csv(core_f, sep='\\t')\n",
    "core_df.head()"
   ]
  },
  {
   "cell_type": "code",
   "execution_count": 4,
   "metadata": {},
   "outputs": [
    {
     "data": {
      "text/plain": [
       "285"
      ]
     },
     "execution_count": 4,
     "metadata": {},
     "output_type": "execute_result"
    }
   ],
   "source": [
    "len(core_df)"
   ]
  },
  {
   "cell_type": "code",
   "execution_count": 19,
   "metadata": {},
   "outputs": [
    {
     "name": "stderr",
     "output_type": "stream",
     "text": [
      "RDKit ERROR: [12:58:53] ERROR: Explicit valence for atom # 16 N, 4, is greater than permitted\n",
      "RDKit ERROR: [13:02:38] Explicit valence for atom # 16 N, 4, is greater than permitted\n",
      "RDKit ERROR: [13:02:38] ERROR: Could not sanitize molecule on line 0\n"
     ]
    }
   ],
   "source": [
    "for row in core_df.itertuples():\n",
    "    cry_lig_smi = f'{PDBbind_dir}/general_structure_only/{row.pdb_id}/{row.pdb_id}_ligand.smi'\n",
    "    if Path(cry_lig_smi).exists():\n",
    "        cry_lig_mol = Chem.SmilesMolSupplier(cry_lig_smi, delimiter='\\t',titleLine=False)[0]\n",
    "        if cry_lig_mol is not None:\n",
    "            Mw = Chem.rdMolDescriptors.CalcExactMolWt(cry_lig_mol)\n",
    "            core_df.loc[row.Index,'Mw'] = Mw"
   ]
  },
  {
   "cell_type": "code",
   "execution_count": 20,
   "metadata": {},
   "outputs": [
    {
     "data": {
      "text/html": [
       "<div>\n",
       "<style scoped>\n",
       "    .dataframe tbody tr th:only-of-type {\n",
       "        vertical-align: middle;\n",
       "    }\n",
       "\n",
       "    .dataframe tbody tr th {\n",
       "        vertical-align: top;\n",
       "    }\n",
       "\n",
       "    .dataframe thead th {\n",
       "        text-align: right;\n",
       "    }\n",
       "</style>\n",
       "<table border=\"1\" class=\"dataframe\">\n",
       "  <thead>\n",
       "    <tr style=\"text-align: right;\">\n",
       "      <th></th>\n",
       "      <th>pdb_id</th>\n",
       "      <th>-logAffi</th>\n",
       "      <th>Mw</th>\n",
       "    </tr>\n",
       "  </thead>\n",
       "  <tbody>\n",
       "    <tr>\n",
       "      <th>0</th>\n",
       "      <td>3ao4</td>\n",
       "      <td>2.07</td>\n",
       "      <td>217.085127</td>\n",
       "    </tr>\n",
       "    <tr>\n",
       "      <th>1</th>\n",
       "      <td>3gv9</td>\n",
       "      <td>2.12</td>\n",
       "      <td>185.014664</td>\n",
       "    </tr>\n",
       "    <tr>\n",
       "      <th>2</th>\n",
       "      <td>1uto</td>\n",
       "      <td>2.27</td>\n",
       "      <td>122.096426</td>\n",
       "    </tr>\n",
       "    <tr>\n",
       "      <th>3</th>\n",
       "      <td>1ps3</td>\n",
       "      <td>2.28</td>\n",
       "      <td>232.069536</td>\n",
       "    </tr>\n",
       "    <tr>\n",
       "      <th>4</th>\n",
       "      <td>4ddk</td>\n",
       "      <td>2.29</td>\n",
       "      <td>166.026609</td>\n",
       "    </tr>\n",
       "    <tr>\n",
       "      <th>...</th>\n",
       "      <td>...</td>\n",
       "      <td>...</td>\n",
       "      <td>...</td>\n",
       "    </tr>\n",
       "    <tr>\n",
       "      <th>280</th>\n",
       "      <td>5dwr</td>\n",
       "      <td>11.22</td>\n",
       "      <td>441.189672</td>\n",
       "    </tr>\n",
       "    <tr>\n",
       "      <th>281</th>\n",
       "      <td>4f2w</td>\n",
       "      <td>11.30</td>\n",
       "      <td>294.138308</td>\n",
       "    </tr>\n",
       "    <tr>\n",
       "      <th>282</th>\n",
       "      <td>2x00</td>\n",
       "      <td>11.33</td>\n",
       "      <td>509.350509</td>\n",
       "    </tr>\n",
       "    <tr>\n",
       "      <th>283</th>\n",
       "      <td>3o9i</td>\n",
       "      <td>11.82</td>\n",
       "      <td>617.222943</td>\n",
       "    </tr>\n",
       "    <tr>\n",
       "      <th>284</th>\n",
       "      <td>4f3c</td>\n",
       "      <td>11.82</td>\n",
       "      <td>336.185258</td>\n",
       "    </tr>\n",
       "  </tbody>\n",
       "</table>\n",
       "<p>285 rows × 3 columns</p>\n",
       "</div>"
      ],
      "text/plain": [
       "    pdb_id  -logAffi          Mw\n",
       "0     3ao4      2.07  217.085127\n",
       "1     3gv9      2.12  185.014664\n",
       "2     1uto      2.27  122.096426\n",
       "3     1ps3      2.28  232.069536\n",
       "4     4ddk      2.29  166.026609\n",
       "..     ...       ...         ...\n",
       "280   5dwr     11.22  441.189672\n",
       "281   4f2w     11.30  294.138308\n",
       "282   2x00     11.33  509.350509\n",
       "283   3o9i     11.82  617.222943\n",
       "284   4f3c     11.82  336.185258\n",
       "\n",
       "[285 rows x 3 columns]"
      ]
     },
     "execution_count": 20,
     "metadata": {},
     "output_type": "execute_result"
    }
   ],
   "source": [
    "core_df"
   ]
  },
  {
   "cell_type": "code",
   "execution_count": 21,
   "metadata": {},
   "outputs": [
    {
     "data": {
      "text/html": [
       "<div>\n",
       "<style scoped>\n",
       "    .dataframe tbody tr th:only-of-type {\n",
       "        vertical-align: middle;\n",
       "    }\n",
       "\n",
       "    .dataframe tbody tr th {\n",
       "        vertical-align: top;\n",
       "    }\n",
       "\n",
       "    .dataframe thead th {\n",
       "        text-align: right;\n",
       "    }\n",
       "</style>\n",
       "<table border=\"1\" class=\"dataframe\">\n",
       "  <thead>\n",
       "    <tr style=\"text-align: right;\">\n",
       "      <th></th>\n",
       "      <th>pdb_id</th>\n",
       "      <th>-logAffi</th>\n",
       "      <th>Mw</th>\n",
       "    </tr>\n",
       "  </thead>\n",
       "  <tbody>\n",
       "    <tr>\n",
       "      <th>143</th>\n",
       "      <td>4mme</td>\n",
       "      <td>6.5</td>\n",
       "      <td>NaN</td>\n",
       "    </tr>\n",
       "  </tbody>\n",
       "</table>\n",
       "</div>"
      ],
      "text/plain": [
       "    pdb_id  -logAffi  Mw\n",
       "143   4mme       6.5 NaN"
      ]
     },
     "execution_count": 21,
     "metadata": {},
     "output_type": "execute_result"
    }
   ],
   "source": [
    "core_df[core_df['Mw'].isna()]"
   ]
  },
  {
   "cell_type": "code",
   "execution_count": 26,
   "metadata": {},
   "outputs": [
    {
     "data": {
      "text/plain": [
       "284"
      ]
     },
     "execution_count": 26,
     "metadata": {},
     "output_type": "execute_result"
    }
   ],
   "source": [
    "core_df_notna = core_df[core_df['Mw'].notna()].copy()\n",
    "len(core_df_notna)"
   ]
  },
  {
   "cell_type": "code",
   "execution_count": 28,
   "metadata": {},
   "outputs": [],
   "source": [
    "core_df_notna.reset_index(drop=True, inplace=True)"
   ]
  },
  {
   "cell_type": "markdown",
   "metadata": {},
   "source": [
    "# 2. core_intersected_Uw"
   ]
  },
  {
   "cell_type": "code",
   "execution_count": 22,
   "metadata": {},
   "outputs": [
    {
     "data": {
      "text/html": [
       "<div>\n",
       "<style scoped>\n",
       "    .dataframe tbody tr th:only-of-type {\n",
       "        vertical-align: middle;\n",
       "    }\n",
       "\n",
       "    .dataframe tbody tr th {\n",
       "        vertical-align: top;\n",
       "    }\n",
       "\n",
       "    .dataframe thead th {\n",
       "        text-align: right;\n",
       "    }\n",
       "</style>\n",
       "<table border=\"1\" class=\"dataframe\">\n",
       "  <thead>\n",
       "    <tr style=\"text-align: right;\">\n",
       "      <th></th>\n",
       "      <th>pdb_id</th>\n",
       "      <th>-logAffi</th>\n",
       "    </tr>\n",
       "  </thead>\n",
       "  <tbody>\n",
       "    <tr>\n",
       "      <th>0</th>\n",
       "      <td>1uto</td>\n",
       "      <td>2.27</td>\n",
       "    </tr>\n",
       "    <tr>\n",
       "      <th>1</th>\n",
       "      <td>3l7b</td>\n",
       "      <td>2.40</td>\n",
       "    </tr>\n",
       "    <tr>\n",
       "      <th>2</th>\n",
       "      <td>3udh</td>\n",
       "      <td>2.85</td>\n",
       "    </tr>\n",
       "    <tr>\n",
       "      <th>3</th>\n",
       "      <td>4llx</td>\n",
       "      <td>2.89</td>\n",
       "    </tr>\n",
       "    <tr>\n",
       "      <th>4</th>\n",
       "      <td>5aba</td>\n",
       "      <td>2.98</td>\n",
       "    </tr>\n",
       "  </tbody>\n",
       "</table>\n",
       "</div>"
      ],
      "text/plain": [
       "  pdb_id  -logAffi\n",
       "0   1uto      2.27\n",
       "1   3l7b      2.40\n",
       "2   3udh      2.85\n",
       "3   4llx      2.89\n",
       "4   5aba      2.98"
      ]
     },
     "execution_count": 22,
     "metadata": {},
     "output_type": "execute_result"
    }
   ],
   "source": [
    "core_intersected_Uw_f = '/pubhome/xli02/project/PLIM/deep_learning/FAST/fast_plim/test_on_core_set/2-core_intersected_Uw/core_intersected_Uw.csv'\n",
    "core_intersected_Uw_df = pd.read_csv(core_intersected_Uw_f, sep='\\t')\n",
    "core_intersected_Uw_df.head()"
   ]
  },
  {
   "cell_type": "code",
   "execution_count": 15,
   "metadata": {},
   "outputs": [
    {
     "data": {
      "text/plain": [
       "115"
      ]
     },
     "execution_count": 15,
     "metadata": {},
     "output_type": "execute_result"
    }
   ],
   "source": [
    "len(core_intersected_Uw_df)"
   ]
  },
  {
   "cell_type": "code",
   "execution_count": 23,
   "metadata": {},
   "outputs": [],
   "source": [
    "for row in core_intersected_Uw_df.itertuples():\n",
    "    cry_lig_smi = f'{PDBbind_dir}/general_structure_only/{row.pdb_id}/{row.pdb_id}_ligand.smi'\n",
    "    if Path(cry_lig_smi).exists():\n",
    "        cry_lig_mol = Chem.SmilesMolSupplier(cry_lig_smi, delimiter='\\t',titleLine=False)[0]\n",
    "        if cry_lig_mol is not None:\n",
    "            Mw = Chem.rdMolDescriptors.CalcExactMolWt(cry_lig_mol)\n",
    "            core_intersected_Uw_df.loc[row.Index,'Mw'] = Mw"
   ]
  },
  {
   "cell_type": "code",
   "execution_count": 24,
   "metadata": {},
   "outputs": [
    {
     "data": {
      "text/html": [
       "<div>\n",
       "<style scoped>\n",
       "    .dataframe tbody tr th:only-of-type {\n",
       "        vertical-align: middle;\n",
       "    }\n",
       "\n",
       "    .dataframe tbody tr th {\n",
       "        vertical-align: top;\n",
       "    }\n",
       "\n",
       "    .dataframe thead th {\n",
       "        text-align: right;\n",
       "    }\n",
       "</style>\n",
       "<table border=\"1\" class=\"dataframe\">\n",
       "  <thead>\n",
       "    <tr style=\"text-align: right;\">\n",
       "      <th></th>\n",
       "      <th>pdb_id</th>\n",
       "      <th>-logAffi</th>\n",
       "      <th>Mw</th>\n",
       "    </tr>\n",
       "  </thead>\n",
       "  <tbody>\n",
       "    <tr>\n",
       "      <th>0</th>\n",
       "      <td>1uto</td>\n",
       "      <td>2.27</td>\n",
       "      <td>122.096426</td>\n",
       "    </tr>\n",
       "    <tr>\n",
       "      <th>1</th>\n",
       "      <td>3l7b</td>\n",
       "      <td>2.40</td>\n",
       "      <td>275.091749</td>\n",
       "    </tr>\n",
       "    <tr>\n",
       "      <th>2</th>\n",
       "      <td>3udh</td>\n",
       "      <td>2.85</td>\n",
       "      <td>189.102239</td>\n",
       "    </tr>\n",
       "    <tr>\n",
       "      <th>3</th>\n",
       "      <td>4llx</td>\n",
       "      <td>2.89</td>\n",
       "      <td>123.079647</td>\n",
       "    </tr>\n",
       "    <tr>\n",
       "      <th>4</th>\n",
       "      <td>5aba</td>\n",
       "      <td>2.98</td>\n",
       "      <td>404.085521</td>\n",
       "    </tr>\n",
       "  </tbody>\n",
       "</table>\n",
       "</div>"
      ],
      "text/plain": [
       "  pdb_id  -logAffi          Mw\n",
       "0   1uto      2.27  122.096426\n",
       "1   3l7b      2.40  275.091749\n",
       "2   3udh      2.85  189.102239\n",
       "3   4llx      2.89  123.079647\n",
       "4   5aba      2.98  404.085521"
      ]
     },
     "execution_count": 24,
     "metadata": {},
     "output_type": "execute_result"
    }
   ],
   "source": [
    "core_intersected_Uw_df.head()"
   ]
  },
  {
   "cell_type": "code",
   "execution_count": 29,
   "metadata": {},
   "outputs": [
    {
     "data": {
      "image/png": "[encoded data removed]",
      "text/plain": [
       "<Figure size 1152x1152 with 2 Axes>"
      ]
     },
     "metadata": {
      "needs_background": "light"
     },
     "output_type": "display_data"
    }
   ],
   "source": [
    "fig = plt.figure(figsize=(16,16))\n",
    "names = ['CASF_v16', 'CASF_v16_intersected_Uw']\n",
    "for i, df in enumerate([core_df_notna, core_intersected_Uw_df]):\n",
    "    pearsonr = stats.pearsonr(df['Mw'], df['-logAffi'])\n",
    "    spearmanr = stats.spearmanr(df['Mw'], df['-logAffi'])\n",
    "    \n",
    "    ax = fig.add_subplot(3, 3, i+1)\n",
    "    xy = np.vstack([df['Mw'], df['-logAffi']])  #按行叠加\n",
    "    g = gaussian_kde(xy)  #根据xy进行核密度估计(kde) -> 关于xy的概率密度函数\n",
    "    z = g(xy)  #计算每个xy样本点的概率密度\n",
    "\n",
    "    # Sort the points by density, so that the densest points are plotted last\n",
    "    idx = z.argsort()  #对z值排序并返回索引\n",
    "    y, y_, z = df['Mw'][idx], df['-logAffi'][idx], z[idx]  #对y, y_根据z的大小进行排序\n",
    "\n",
    "    ax.scatter(y, y_, s=2, c=z, zorder=2)\n",
    "    ax.set_xlabel('MolWt')\n",
    "    ax.set_ylabel('-logAffi')\n",
    "    ax.set_title(f'{names[i]}\\npearsonr={round(pearsonr[0],3)}, spearmanr={round(spearmanr[0],3)}')\n",
    "    ax.set_xlim((0,1000))\n",
    "    ax.set_ylim((0,14))\n",
    "plt.savefig('/pubhome/xli02/project/PLIM/analysis/distribution/PDBbind/core_and_intersected_Uw_Affi_Mw.png', dpi=300, bbox_inches='tight')"
   ]
  }
 ],
 "metadata": {
  "interpreter": {
   "hash": "5392cf84ae432ebab9f45f1fd0edec7dfa96ae36dec81e4e087ac13f199efb24"
  },
  "kernelspec": {
   "display_name": "Python 3.6.13 64-bit ('fast': conda)",
   "name": "python3"
  },
  "language_info": {
   "codemirror_mode": {
    "name": "ipython",
    "version": 3
   },
   "file_extension": ".py",
   "mimetype": "text/x-python",
   "name": "python",
   "nbconvert_exporter": "python",
   "pygments_lexer": "ipython3",
   "version": "3.6.13"
  },
  "orig_nbformat": 4
 },
 "nbformat": 4,
 "nbformat_minor": 2
}
