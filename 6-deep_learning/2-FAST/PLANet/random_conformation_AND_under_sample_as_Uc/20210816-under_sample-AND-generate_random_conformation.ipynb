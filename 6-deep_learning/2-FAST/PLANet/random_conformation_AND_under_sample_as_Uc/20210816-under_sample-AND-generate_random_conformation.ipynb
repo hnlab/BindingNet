{
 "cells": [
  {
   "cell_type": "markdown",
   "source": [
    "# 1. under sampling\n",
    "## 1.1 PLIM_unique_cross_target\n",
    "- split into train/valid/test(8/1/1)"
   ],
   "metadata": {}
  },
  {
   "cell_type": "code",
   "execution_count": 6,
   "source": [
    "import pandas as pd\n",
    "import numpy as np"
   ],
   "outputs": [],
   "metadata": {}
  },
  {
   "cell_type": "code",
   "execution_count": 3,
   "source": [
    "wrkdir = '/pubhome/xli02/project/PLIM'\n",
    "uniq_cross_target = f'{wrkdir}/v2019_dataset/index/PLIM_dataset_v1_final_unique_cross_target_modified.csv'"
   ],
   "outputs": [],
   "metadata": {}
  },
  {
   "cell_type": "code",
   "execution_count": 5,
   "source": [
    "uniq_cross = pd.read_csv(uniq_cross_target, sep = \"\\t\")\n",
    "uniq_cross.head()"
   ],
   "outputs": [
    {
     "output_type": "execute_result",
     "data": {
      "text/plain": [
       "                unique_identify  -logAffi\n",
       "0       CHEMBL260_3gcp_CHEMBL10  8.387216\n",
       "1   CHEMBL268_1snk_CHEMBL100095  6.216811\n",
       "2  CHEMBL4904_4qlq_CHEMBL100097  4.823909\n",
       "3   CHEMBL280_1fls_CHEMBL100134  8.154902\n",
       "4   CHEMBL206_5t97_CHEMBL100231  8.283997"
      ],
      "text/html": [
       "<div>\n",
       "<style scoped>\n",
       "    .dataframe tbody tr th:only-of-type {\n",
       "        vertical-align: middle;\n",
       "    }\n",
       "\n",
       "    .dataframe tbody tr th {\n",
       "        vertical-align: top;\n",
       "    }\n",
       "\n",
       "    .dataframe thead th {\n",
       "        text-align: right;\n",
       "    }\n",
       "</style>\n",
       "<table border=\"1\" class=\"dataframe\">\n",
       "  <thead>\n",
       "    <tr style=\"text-align: right;\">\n",
       "      <th></th>\n",
       "      <th>unique_identify</th>\n",
       "      <th>-logAffi</th>\n",
       "    </tr>\n",
       "  </thead>\n",
       "  <tbody>\n",
       "    <tr>\n",
       "      <th>0</th>\n",
       "      <td>CHEMBL260_3gcp_CHEMBL10</td>\n",
       "      <td>8.387216</td>\n",
       "    </tr>\n",
       "    <tr>\n",
       "      <th>1</th>\n",
       "      <td>CHEMBL268_1snk_CHEMBL100095</td>\n",
       "      <td>6.216811</td>\n",
       "    </tr>\n",
       "    <tr>\n",
       "      <th>2</th>\n",
       "      <td>CHEMBL4904_4qlq_CHEMBL100097</td>\n",
       "      <td>4.823909</td>\n",
       "    </tr>\n",
       "    <tr>\n",
       "      <th>3</th>\n",
       "      <td>CHEMBL280_1fls_CHEMBL100134</td>\n",
       "      <td>8.154902</td>\n",
       "    </tr>\n",
       "    <tr>\n",
       "      <th>4</th>\n",
       "      <td>CHEMBL206_5t97_CHEMBL100231</td>\n",
       "      <td>8.283997</td>\n",
       "    </tr>\n",
       "  </tbody>\n",
       "</table>\n",
       "</div>"
      ]
     },
     "metadata": {},
     "execution_count": 5
    }
   ],
   "metadata": {}
  },
  {
   "cell_type": "code",
   "execution_count": 27,
   "source": [
    "len(uniq_cross)"
   ],
   "outputs": [
    {
     "output_type": "execute_result",
     "data": {
      "text/plain": [
       "66938"
      ]
     },
     "metadata": {},
     "execution_count": 27
    }
   ],
   "metadata": {}
  },
  {
   "cell_type": "code",
   "execution_count": 8,
   "source": [
    "index = np.random.permutation(len(uniq_cross))\n",
    "train_ratio=0.8\n",
    "valid_ratio=0.1\n",
    "test_ratio=0.1\n",
    "train_idx = index[:int(len(uniq_cross)*train_ratio)]\n",
    "valid_idx = index[int(len(uniq_cross)*train_ratio):int(len(uniq_cross)*(train_ratio+valid_ratio))]\n",
    "test_idx = index[int(len(uniq_cross)*(train_ratio+valid_ratio)):]\n",
    "# sort by affinity within subset\n",
    "test_df, valid_df, train_df = uniq_cross.iloc[test_idx].sort_values(by=['-logAffi']), uniq_cross.iloc[valid_idx].sort_values(by=['-logAffi']), uniq_cross.iloc[train_idx].sort_values(by=['-logAffi'])"
   ],
   "outputs": [],
   "metadata": {}
  },
  {
   "cell_type": "code",
   "execution_count": 9,
   "source": [
    "# test_df.head()"
   ],
   "outputs": [
    {
     "output_type": "execute_result",
     "data": {
      "text/plain": [
       "                     unique_identify  -logAffi\n",
       "20165   CHEMBL1827_2h42_CHEMBL245595  0.690000\n",
       "12221    CHEMBL205_6bc9_CHEMBL205458  0.778100\n",
       "16055   CHEMBL335_2cma_CHEMBL2297006  1.000000\n",
       "19490  CHEMBL2360_4rac_CHEMBL2420976  1.136677\n",
       "15764  CHEMBL4630_2xf0_CHEMBL2235320  1.660000"
      ],
      "text/html": [
       "<div>\n",
       "<style scoped>\n",
       "    .dataframe tbody tr th:only-of-type {\n",
       "        vertical-align: middle;\n",
       "    }\n",
       "\n",
       "    .dataframe tbody tr th {\n",
       "        vertical-align: top;\n",
       "    }\n",
       "\n",
       "    .dataframe thead th {\n",
       "        text-align: right;\n",
       "    }\n",
       "</style>\n",
       "<table border=\"1\" class=\"dataframe\">\n",
       "  <thead>\n",
       "    <tr style=\"text-align: right;\">\n",
       "      <th></th>\n",
       "      <th>unique_identify</th>\n",
       "      <th>-logAffi</th>\n",
       "    </tr>\n",
       "  </thead>\n",
       "  <tbody>\n",
       "    <tr>\n",
       "      <th>20165</th>\n",
       "      <td>CHEMBL1827_2h42_CHEMBL245595</td>\n",
       "      <td>0.690000</td>\n",
       "    </tr>\n",
       "    <tr>\n",
       "      <th>12221</th>\n",
       "      <td>CHEMBL205_6bc9_CHEMBL205458</td>\n",
       "      <td>0.778100</td>\n",
       "    </tr>\n",
       "    <tr>\n",
       "      <th>16055</th>\n",
       "      <td>CHEMBL335_2cma_CHEMBL2297006</td>\n",
       "      <td>1.000000</td>\n",
       "    </tr>\n",
       "    <tr>\n",
       "      <th>19490</th>\n",
       "      <td>CHEMBL2360_4rac_CHEMBL2420976</td>\n",
       "      <td>1.136677</td>\n",
       "    </tr>\n",
       "    <tr>\n",
       "      <th>15764</th>\n",
       "      <td>CHEMBL4630_2xf0_CHEMBL2235320</td>\n",
       "      <td>1.660000</td>\n",
       "    </tr>\n",
       "  </tbody>\n",
       "</table>\n",
       "</div>"
      ]
     },
     "metadata": {},
     "execution_count": 9
    }
   ],
   "metadata": {}
  },
  {
   "cell_type": "code",
   "execution_count": 10,
   "source": [
    "# len(test_df)"
   ],
   "outputs": [
    {
     "output_type": "execute_result",
     "data": {
      "text/plain": [
       "6694"
      ]
     },
     "metadata": {},
     "execution_count": 10
    }
   ],
   "metadata": {}
  },
  {
   "cell_type": "code",
   "execution_count": 14,
   "source": [
    "uniq_cross_test = f'{wrkdir}/deep_learning/FAST/fast_plim/under_sample/PLIM_unique_cross_target/test.csv'\n",
    "test_df.to_csv(uniq_cross_test, sep = \"\\t\", index = False)"
   ],
   "outputs": [],
   "metadata": {}
  },
  {
   "cell_type": "code",
   "execution_count": 15,
   "source": [
    "uniq_cross_valid = f'{wrkdir}/deep_learning/FAST/fast_plim/under_sample/PLIM_unique_cross_target/valid.csv'\n",
    "valid_df.to_csv(uniq_cross_valid, sep = \"\\t\", index = False)"
   ],
   "outputs": [],
   "metadata": {}
  },
  {
   "cell_type": "code",
   "execution_count": 16,
   "source": [
    "uniq_cross_train = f'{wrkdir}/deep_learning/FAST/fast_plim/under_sample/PLIM_unique_cross_target/train.csv'\n",
    "train_df.to_csv(uniq_cross_train, sep = \"\\t\", index = False)"
   ],
   "outputs": [],
   "metadata": {}
  },
  {
   "cell_type": "code",
   "execution_count": 29,
   "source": [
    "valid_num = len(valid_idx)\n",
    "valid_num"
   ],
   "outputs": [
    {
     "output_type": "execute_result",
     "data": {
      "text/plain": [
       "6694"
      ]
     },
     "metadata": {},
     "execution_count": 29
    }
   ],
   "metadata": {}
  },
  {
   "cell_type": "code",
   "execution_count": 28,
   "source": [
    "train_num = len(train_idx)\n",
    "train_num"
   ],
   "outputs": [
    {
     "output_type": "execute_result",
     "data": {
      "text/plain": [
       "53550"
      ]
     },
     "metadata": {},
     "execution_count": 28
    }
   ],
   "metadata": {}
  },
  {
   "cell_type": "markdown",
   "source": [
    "## 1.2 PLIM_unique_within_target"
   ],
   "metadata": {}
  },
  {
   "cell_type": "code",
   "execution_count": 48,
   "source": [
    "uniq_within_target = f'{wrkdir}/v2019_dataset/index/PLIM_dataset_v1_final_unique_modified.csv'\n",
    "uniq_within = pd.read_csv(uniq_within_target, sep = \"\\t\")\n",
    "uniq_within.head()"
   ],
   "outputs": [
    {
     "output_type": "execute_result",
     "data": {
      "text/plain": [
       "                   unique_identify   -logAffi\n",
       "0     CHEMBL1075026_1swr_CHEMBL857  14.000000\n",
       "1  CHEMBL1075027_1jak_CHEMBL253537   4.677781\n",
       "2  CHEMBL1075027_1hp5_CHEMBL257158   4.698970\n",
       "3  CHEMBL1075027_1hp5_CHEMBL403756   4.000000\n",
       "4  CHEMBL1075027_1hp5_CHEMBL404356   3.698970"
      ],
      "text/html": [
       "<div>\n",
       "<style scoped>\n",
       "    .dataframe tbody tr th:only-of-type {\n",
       "        vertical-align: middle;\n",
       "    }\n",
       "\n",
       "    .dataframe tbody tr th {\n",
       "        vertical-align: top;\n",
       "    }\n",
       "\n",
       "    .dataframe thead th {\n",
       "        text-align: right;\n",
       "    }\n",
       "</style>\n",
       "<table border=\"1\" class=\"dataframe\">\n",
       "  <thead>\n",
       "    <tr style=\"text-align: right;\">\n",
       "      <th></th>\n",
       "      <th>unique_identify</th>\n",
       "      <th>-logAffi</th>\n",
       "    </tr>\n",
       "  </thead>\n",
       "  <tbody>\n",
       "    <tr>\n",
       "      <th>0</th>\n",
       "      <td>CHEMBL1075026_1swr_CHEMBL857</td>\n",
       "      <td>14.000000</td>\n",
       "    </tr>\n",
       "    <tr>\n",
       "      <th>1</th>\n",
       "      <td>CHEMBL1075027_1jak_CHEMBL253537</td>\n",
       "      <td>4.677781</td>\n",
       "    </tr>\n",
       "    <tr>\n",
       "      <th>2</th>\n",
       "      <td>CHEMBL1075027_1hp5_CHEMBL257158</td>\n",
       "      <td>4.698970</td>\n",
       "    </tr>\n",
       "    <tr>\n",
       "      <th>3</th>\n",
       "      <td>CHEMBL1075027_1hp5_CHEMBL403756</td>\n",
       "      <td>4.000000</td>\n",
       "    </tr>\n",
       "    <tr>\n",
       "      <th>4</th>\n",
       "      <td>CHEMBL1075027_1hp5_CHEMBL404356</td>\n",
       "      <td>3.698970</td>\n",
       "    </tr>\n",
       "  </tbody>\n",
       "</table>\n",
       "</div>"
      ]
     },
     "metadata": {},
     "execution_count": 48
    }
   ],
   "metadata": {}
  },
  {
   "cell_type": "code",
   "execution_count": 49,
   "source": [
    "len(uniq_within)"
   ],
   "outputs": [
    {
     "output_type": "execute_result",
     "data": {
      "text/plain": [
       "71060"
      ]
     },
     "metadata": {},
     "execution_count": 49
    }
   ],
   "metadata": {}
  },
  {
   "cell_type": "code",
   "execution_count": 54,
   "source": [
    "test_patt_list = list(test_df['unique_identify'])\n",
    "for row in uniq_within.itertuples():\n",
    "    if row.unique_identify in test_patt_list:\n",
    "        uniq_within = uniq_within.drop(row.Index)\n"
   ],
   "outputs": [],
   "metadata": {}
  },
  {
   "cell_type": "code",
   "execution_count": 55,
   "source": [
    "len(uniq_within)"
   ],
   "outputs": [
    {
     "output_type": "execute_result",
     "data": {
      "text/plain": [
       "64366"
      ]
     },
     "metadata": {},
     "execution_count": 55
    }
   ],
   "metadata": {}
  },
  {
   "cell_type": "code",
   "execution_count": 56,
   "source": [
    "index = np.random.permutation(len(uniq_within))\n",
    "train_num = len(train_idx)\n",
    "valid_num = len(valid_idx)\n",
    "train_idx_1 = index[:train_num]\n",
    "valid_idx_1 = index[train_num:train_num + valid_num]\n",
    "\n",
    "# sort by affinity within subset\n",
    "valid_df_1, train_df_1 = uniq_within.iloc[valid_idx_1].sort_values(by=['-logAffi']), uniq_within.iloc[train_idx_1].sort_values(by=['-logAffi'])"
   ],
   "outputs": [],
   "metadata": {}
  },
  {
   "cell_type": "code",
   "execution_count": 57,
   "source": [
    "len(valid_df_1)"
   ],
   "outputs": [
    {
     "output_type": "execute_result",
     "data": {
      "text/plain": [
       "6694"
      ]
     },
     "metadata": {},
     "execution_count": 57
    }
   ],
   "metadata": {}
  },
  {
   "cell_type": "code",
   "execution_count": 58,
   "source": [
    "len(train_df_1)"
   ],
   "outputs": [
    {
     "output_type": "execute_result",
     "data": {
      "text/plain": [
       "53550"
      ]
     },
     "metadata": {},
     "execution_count": 58
    }
   ],
   "metadata": {}
  },
  {
   "cell_type": "code",
   "execution_count": 59,
   "source": [
    "valid_df_1.head()"
   ],
   "outputs": [
    {
     "output_type": "execute_result",
     "data": {
      "text/plain": [
       "                     unique_identify  -logAffi\n",
       "57636  CHEMBL4630_2xf0_CHEMBL1236804    0.1800\n",
       "43437   CHEMBL3589_4o1l_CHEMBL608326    0.2700\n",
       "43442   CHEMBL3589_2i6a_CHEMBL611270    0.5100\n",
       "58028  CHEMBL4630_2xey_CHEMBL2235323    0.7000\n",
       "10806    CHEMBL205_2pov_CHEMBL381906    0.9543"
      ],
      "text/html": [
       "<div>\n",
       "<style scoped>\n",
       "    .dataframe tbody tr th:only-of-type {\n",
       "        vertical-align: middle;\n",
       "    }\n",
       "\n",
       "    .dataframe tbody tr th {\n",
       "        vertical-align: top;\n",
       "    }\n",
       "\n",
       "    .dataframe thead th {\n",
       "        text-align: right;\n",
       "    }\n",
       "</style>\n",
       "<table border=\"1\" class=\"dataframe\">\n",
       "  <thead>\n",
       "    <tr style=\"text-align: right;\">\n",
       "      <th></th>\n",
       "      <th>unique_identify</th>\n",
       "      <th>-logAffi</th>\n",
       "    </tr>\n",
       "  </thead>\n",
       "  <tbody>\n",
       "    <tr>\n",
       "      <th>57636</th>\n",
       "      <td>CHEMBL4630_2xf0_CHEMBL1236804</td>\n",
       "      <td>0.1800</td>\n",
       "    </tr>\n",
       "    <tr>\n",
       "      <th>43437</th>\n",
       "      <td>CHEMBL3589_4o1l_CHEMBL608326</td>\n",
       "      <td>0.2700</td>\n",
       "    </tr>\n",
       "    <tr>\n",
       "      <th>43442</th>\n",
       "      <td>CHEMBL3589_2i6a_CHEMBL611270</td>\n",
       "      <td>0.5100</td>\n",
       "    </tr>\n",
       "    <tr>\n",
       "      <th>58028</th>\n",
       "      <td>CHEMBL4630_2xey_CHEMBL2235323</td>\n",
       "      <td>0.7000</td>\n",
       "    </tr>\n",
       "    <tr>\n",
       "      <th>10806</th>\n",
       "      <td>CHEMBL205_2pov_CHEMBL381906</td>\n",
       "      <td>0.9543</td>\n",
       "    </tr>\n",
       "  </tbody>\n",
       "</table>\n",
       "</div>"
      ]
     },
     "metadata": {},
     "execution_count": 59
    }
   ],
   "metadata": {}
  },
  {
   "cell_type": "code",
   "execution_count": 60,
   "source": [
    "uniq_within_valid = f'{wrkdir}/deep_learning/FAST/fast_plim/under_sample/PLIM_unique_within_target/valid.csv'\n",
    "valid_df_1.to_csv(uniq_within_valid, sep = \"\\t\", index = False)"
   ],
   "outputs": [],
   "metadata": {}
  },
  {
   "cell_type": "code",
   "execution_count": 61,
   "source": [
    "uniq_within_train = f'{wrkdir}/deep_learning/FAST/fast_plim/under_sample/PLIM_unique_within_target/train.csv'\n",
    "train_df_1.to_csv(uniq_within_train, sep = \"\\t\", index = False)"
   ],
   "outputs": [],
   "metadata": {}
  },
  {
   "cell_type": "markdown",
   "source": [
    "## 1.3 PLIM_unique_cross_target"
   ],
   "metadata": {}
  },
  {
   "cell_type": "code",
   "execution_count": 62,
   "source": [
    "all_file = f'{wrkdir}/v2019_dataset/index/PLIM_dataset_v1_final_modified.csv'\n",
    "all_df = pd.read_csv(all_file, sep = \"\\t\")\n",
    "all_df.head()"
   ],
   "outputs": [
    {
     "output_type": "execute_result",
     "data": {
      "text/plain": [
       "                    unique_identify  -logAffi\n",
       "0  CHEMBL2093869_3nif_CHEMBL1234739  5.017729\n",
       "1  CHEMBL2093869_4z7q_CHEMBL2370659  5.385103\n",
       "2   CHEMBL2093869_4z7q_CHEMBL130189  5.504456\n",
       "3    CHEMBL2093869_4z7q_CHEMBL85578  5.974694\n",
       "4   CHEMBL2093869_4z7q_CHEMBL309709  6.200659"
      ],
      "text/html": [
       "<div>\n",
       "<style scoped>\n",
       "    .dataframe tbody tr th:only-of-type {\n",
       "        vertical-align: middle;\n",
       "    }\n",
       "\n",
       "    .dataframe tbody tr th {\n",
       "        vertical-align: top;\n",
       "    }\n",
       "\n",
       "    .dataframe thead th {\n",
       "        text-align: right;\n",
       "    }\n",
       "</style>\n",
       "<table border=\"1\" class=\"dataframe\">\n",
       "  <thead>\n",
       "    <tr style=\"text-align: right;\">\n",
       "      <th></th>\n",
       "      <th>unique_identify</th>\n",
       "      <th>-logAffi</th>\n",
       "    </tr>\n",
       "  </thead>\n",
       "  <tbody>\n",
       "    <tr>\n",
       "      <th>0</th>\n",
       "      <td>CHEMBL2093869_3nif_CHEMBL1234739</td>\n",
       "      <td>5.017729</td>\n",
       "    </tr>\n",
       "    <tr>\n",
       "      <th>1</th>\n",
       "      <td>CHEMBL2093869_4z7q_CHEMBL2370659</td>\n",
       "      <td>5.385103</td>\n",
       "    </tr>\n",
       "    <tr>\n",
       "      <th>2</th>\n",
       "      <td>CHEMBL2093869_4z7q_CHEMBL130189</td>\n",
       "      <td>5.504456</td>\n",
       "    </tr>\n",
       "    <tr>\n",
       "      <th>3</th>\n",
       "      <td>CHEMBL2093869_4z7q_CHEMBL85578</td>\n",
       "      <td>5.974694</td>\n",
       "    </tr>\n",
       "    <tr>\n",
       "      <th>4</th>\n",
       "      <td>CHEMBL2093869_4z7q_CHEMBL309709</td>\n",
       "      <td>6.200659</td>\n",
       "    </tr>\n",
       "  </tbody>\n",
       "</table>\n",
       "</div>"
      ]
     },
     "metadata": {},
     "execution_count": 62
    }
   ],
   "metadata": {}
  },
  {
   "cell_type": "code",
   "execution_count": 63,
   "source": [
    "len(all_df)"
   ],
   "outputs": [
    {
     "output_type": "execute_result",
     "data": {
      "text/plain": [
       "162337"
      ]
     },
     "metadata": {},
     "execution_count": 63
    }
   ],
   "metadata": {}
  },
  {
   "cell_type": "code",
   "execution_count": 64,
   "source": [
    "# test_patt_list = list(test_df['unique_identify'])\n",
    "for row in all_df.itertuples():\n",
    "    if row.unique_identify in test_patt_list:\n",
    "        all_df = all_df.drop(row.Index)\n"
   ],
   "outputs": [],
   "metadata": {}
  },
  {
   "cell_type": "code",
   "execution_count": 65,
   "source": [
    "len(all_df)"
   ],
   "outputs": [
    {
     "output_type": "execute_result",
     "data": {
      "text/plain": [
       "155643"
      ]
     },
     "metadata": {},
     "execution_count": 65
    }
   ],
   "metadata": {}
  },
  {
   "cell_type": "code",
   "execution_count": 69,
   "source": [
    "index = np.random.permutation(len(all_df))\n",
    "# train_num = len(train_idx)\n",
    "# valid_num = len(valid_idx)\n",
    "train_idx_2 = index[:train_num]\n",
    "valid_idx_2 = index[train_num:train_num + valid_num]\n",
    "\n",
    "# sort by affinity within subset\n",
    "valid_df_2, train_df_2 = all_df.iloc[valid_idx_2].sort_values(by=['-logAffi']), all_df.iloc[train_idx_2].sort_values(by=['-logAffi'])"
   ],
   "outputs": [],
   "metadata": {}
  },
  {
   "cell_type": "code",
   "execution_count": 70,
   "source": [
    "len(valid_df_2)"
   ],
   "outputs": [
    {
     "output_type": "execute_result",
     "data": {
      "text/plain": [
       "6694"
      ]
     },
     "metadata": {},
     "execution_count": 70
    }
   ],
   "metadata": {}
  },
  {
   "cell_type": "code",
   "execution_count": 71,
   "source": [
    "len(train_df_2)"
   ],
   "outputs": [
    {
     "output_type": "execute_result",
     "data": {
      "text/plain": [
       "53550"
      ]
     },
     "metadata": {},
     "execution_count": 71
    }
   ],
   "metadata": {}
  },
  {
   "cell_type": "code",
   "execution_count": 72,
   "source": [
    "all_valid = f'{wrkdir}/deep_learning/FAST/fast_plim/under_sample/PLIM_all/valid.csv'\n",
    "valid_df_2.to_csv(all_valid, sep = \"\\t\", index = False)"
   ],
   "outputs": [],
   "metadata": {}
  },
  {
   "cell_type": "code",
   "execution_count": 73,
   "source": [
    "all_train = f'{wrkdir}/deep_learning/FAST/fast_plim/under_sample/PLIM_all/train.csv'\n",
    "train_df_2.to_csv(all_train, sep = \"\\t\", index = False)"
   ],
   "outputs": [],
   "metadata": {}
  },
  {
   "cell_type": "markdown",
   "source": [
    "# 2. generate random conformation by rdkit"
   ],
   "metadata": {}
  },
  {
   "cell_type": "code",
   "execution_count": 91,
   "source": [
    "from rdkit import Chem\n",
    "from rdkit.Chem import AllChem\n",
    "from pathlib import Path\n",
    "import py3Dmol\n"
   ],
   "outputs": [],
   "metadata": {}
  },
  {
   "cell_type": "code",
   "execution_count": 74,
   "source": [
    "wrkdir"
   ],
   "outputs": [
    {
     "output_type": "execute_result",
     "data": {
      "text/plain": [
       "'/pubhome/xli02/project/PLIM'"
      ]
     },
     "metadata": {},
     "execution_count": 74
    }
   ],
   "metadata": {}
  },
  {
   "cell_type": "code",
   "execution_count": 75,
   "source": [
    "uniq_cross_target"
   ],
   "outputs": [
    {
     "output_type": "execute_result",
     "data": {
      "text/plain": [
       "'/pubhome/xli02/project/PLIM/v2019_dataset/index/PLIM_dataset_v1_final_unique_cross_target_modified.csv'"
      ]
     },
     "metadata": {},
     "execution_count": 75
    }
   ],
   "metadata": {}
  },
  {
   "cell_type": "code",
   "execution_count": 76,
   "source": [
    "uniq_cross = pd.read_csv(uniq_cross_target, sep = \"\\t\")\n",
    "uniq_cross.head()"
   ],
   "outputs": [
    {
     "output_type": "execute_result",
     "data": {
      "text/plain": [
       "                unique_identify  -logAffi\n",
       "0       CHEMBL260_3gcp_CHEMBL10  8.387216\n",
       "1   CHEMBL268_1snk_CHEMBL100095  6.216811\n",
       "2  CHEMBL4904_4qlq_CHEMBL100097  4.823909\n",
       "3   CHEMBL280_1fls_CHEMBL100134  8.154902\n",
       "4   CHEMBL206_5t97_CHEMBL100231  8.283997"
      ],
      "text/html": [
       "<div>\n",
       "<style scoped>\n",
       "    .dataframe tbody tr th:only-of-type {\n",
       "        vertical-align: middle;\n",
       "    }\n",
       "\n",
       "    .dataframe tbody tr th {\n",
       "        vertical-align: top;\n",
       "    }\n",
       "\n",
       "    .dataframe thead th {\n",
       "        text-align: right;\n",
       "    }\n",
       "</style>\n",
       "<table border=\"1\" class=\"dataframe\">\n",
       "  <thead>\n",
       "    <tr style=\"text-align: right;\">\n",
       "      <th></th>\n",
       "      <th>unique_identify</th>\n",
       "      <th>-logAffi</th>\n",
       "    </tr>\n",
       "  </thead>\n",
       "  <tbody>\n",
       "    <tr>\n",
       "      <th>0</th>\n",
       "      <td>CHEMBL260_3gcp_CHEMBL10</td>\n",
       "      <td>8.387216</td>\n",
       "    </tr>\n",
       "    <tr>\n",
       "      <th>1</th>\n",
       "      <td>CHEMBL268_1snk_CHEMBL100095</td>\n",
       "      <td>6.216811</td>\n",
       "    </tr>\n",
       "    <tr>\n",
       "      <th>2</th>\n",
       "      <td>CHEMBL4904_4qlq_CHEMBL100097</td>\n",
       "      <td>4.823909</td>\n",
       "    </tr>\n",
       "    <tr>\n",
       "      <th>3</th>\n",
       "      <td>CHEMBL280_1fls_CHEMBL100134</td>\n",
       "      <td>8.154902</td>\n",
       "    </tr>\n",
       "    <tr>\n",
       "      <th>4</th>\n",
       "      <td>CHEMBL206_5t97_CHEMBL100231</td>\n",
       "      <td>8.283997</td>\n",
       "    </tr>\n",
       "  </tbody>\n",
       "</table>\n",
       "</div>"
      ]
     },
     "metadata": {},
     "execution_count": 76
    }
   ],
   "metadata": {}
  },
  {
   "cell_type": "code",
   "execution_count": 77,
   "source": [
    "len(uniq_cross)"
   ],
   "outputs": [
    {
     "output_type": "execute_result",
     "data": {
      "text/plain": [
       "66938"
      ]
     },
     "metadata": {},
     "execution_count": 77
    }
   ],
   "metadata": {}
  },
  {
   "cell_type": "code",
   "execution_count": 83,
   "source": [
    "# uniq_cross['unique_identify'][0].split('_')[0]"
   ],
   "outputs": [
    {
     "output_type": "execute_result",
     "data": {
      "text/plain": [
       "'CHEMBL260'"
      ]
     },
     "metadata": {},
     "execution_count": 83
    }
   ],
   "metadata": {}
  },
  {
   "cell_type": "code",
   "execution_count": 85,
   "source": [
    "compnd_mols = []\n",
    "sdf_mol_none = []\n",
    "for row in uniq_cross.itertuples():\n",
    "    target = row.unique_identify.split('_')[0]\n",
    "    pdbid = row.unique_identify.split('_')[1]\n",
    "    compnd = row.unique_identify.split('_')[2]\n",
    "    compnd_dir = f'{wrkdir}/v2019_dataset/web_client_{target}/{target}_{pdbid}/{compnd}'\n",
    "    compnd_sdf = f'{compnd_dir}/compound.sdf'\n",
    "    if not Path(compnd_sdf).exists():\n",
    "        continue\n",
    "    compnd_mol = Chem.SDMolSupplier(compnd_sdf)[0]\n",
    "    if compnd_mol is None:\n",
    "        sdf_mol_none.append(row.unique_identify)\n",
    "        continue\n",
    "    compnd_mol.SetProp('_Name', row.unique_identify)\n",
    "    compnd_mols.append(compnd_mol)"
   ],
   "outputs": [],
   "metadata": {}
  },
  {
   "cell_type": "code",
   "execution_count": 86,
   "source": [
    "len(compnd_mols)"
   ],
   "outputs": [
    {
     "output_type": "execute_result",
     "data": {
      "text/plain": [
       "66930"
      ]
     },
     "metadata": {},
     "execution_count": 86
    }
   ],
   "metadata": {}
  },
  {
   "cell_type": "code",
   "execution_count": 87,
   "source": [
    "len(sdf_mol_none)"
   ],
   "outputs": [
    {
     "output_type": "execute_result",
     "data": {
      "text/plain": [
       "0"
      ]
     },
     "metadata": {},
     "execution_count": 87
    }
   ],
   "metadata": {}
  },
  {
   "cell_type": "code",
   "execution_count": 89,
   "source": [
    "# compnd_mols[0].GetProp('_Name')"
   ],
   "outputs": [
    {
     "output_type": "execute_result",
     "data": {
      "text/plain": [
       "'CHEMBL260_3gcp_CHEMBL10'"
      ]
     },
     "metadata": {},
     "execution_count": 89
    }
   ],
   "metadata": {}
  },
  {
   "cell_type": "code",
   "execution_count": 92,
   "source": [
    "# p = py3Dmol.view(width=400, height=400)\n",
    "# for m in [compnd_mols[0]]:\n",
    "#     mb = Chem.MolToMolBlock(m)\n",
    "#     p.addModel(mb, 'sdf')\n",
    "# p.setStyle({'stick':{}})\n",
    "# # p.setBackgroundColor('0xeeeeee')\n",
    "# p.zoomTo()\n",
    "# p.show()"
   ],
   "outputs": [
    {
     "output_type": "display_data",
     "data": {
      "application/3dmoljs_load.v0": "<div id=\"3dmolviewer_1628674789025344\"  style=\"position: relative; width: 400px; height: 400px\">\n        <p id=\"3dmolwarning_1628674789025344\" style=\"background-color:#ffcccc;color:black\">You appear to be running in JupyterLab (or JavaScript failed to load for some other reason).  You need to install the 3dmol extension: <br>\n        <tt>jupyter labextension install jupyterlab_3dmol</tt></p>\n        </div>\n<script>\n\nvar loadScriptAsync = function(uri){\n  return new Promise((resolve, reject) => {\n    var tag = document.createElement('script');\n    tag.src = uri;\n    tag.async = true;\n    tag.onload = () => {\n      resolve();\n    };\n  var firstScriptTag = document.getElementsByTagName('script')[0];\n  firstScriptTag.parentNode.insertBefore(tag, firstScriptTag);\n});\n};\n\nif(typeof $3Dmolpromise === 'undefined') {\n$3Dmolpromise = null;\n  $3Dmolpromise = loadScriptAsync('https://3dmol.org/build/3Dmol.js');\n}\n\nvar viewer_1628674789025344 = null;\nvar warn = document.getElementById(\"3dmolwarning_1628674789025344\");\nif(warn) {\n    warn.parentNode.removeChild(warn);\n}\n$3Dmolpromise.then(function() {\nviewer_1628674789025344 = $3Dmol.createViewer($(\"#3dmolviewer_1628674789025344\"),{backgroundColor:\"white\"});\nviewer_1628674789025344.zoomTo();\n\tviewer_1628674789025344.addModel(\"CHEMBL260_3gcp_CHEMBL10\\n     RDKit          3D\\n\\n 27 30  0  0  0  0  0  0  0  0999 V2000\\n   19.7580    3.1010  -13.2990 S   0  0  0  0  0  0  0  0  0  0  0  0\\n   25.1190   -5.6670  -21.6580 F   0  0  0  0  0  0  0  0  0  0  0  0\\n   20.7880    4.3960  -12.8780 O   0  0  0  0  0  0  0  0  0  0  0  0\\n   22.3450    1.4860  -24.4940 N   0  0  0  0  0  0  0  0  0  0  0  0\\n   22.8640   -0.6530  -18.3820 N   0  0  0  0  0  0  0  0  0  0  0  0\\n   22.4500    1.2670  -19.3530 N   0  0  0  0  0  0  0  0  0  0  0  0\\n   20.4500    2.0670  -11.9200 C   0  0  0  0  0  0  0  0  0  0  0  0\\n   22.2020    0.2060  -24.0890 C   0  0  0  0  0  0  0  0  0  0  0  0\\n   22.6070    2.4050  -23.5400 C   0  0  0  0  0  0  0  0  0  0  0  0\\n   20.8280    3.1260  -15.9270 C   0  0  0  0  0  0  0  0  0  0  0  0\\n   21.1030    0.9490  -14.7000 C   0  0  0  0  0  0  0  0  0  0  0  0\\n   23.5320   -4.5050  -20.3040 C   0  0  0  0  0  0  0  0  0  0  0  0\\n   25.1730   -3.2760  -21.6250 C   0  0  0  0  0  0  0  0  0  0  0  0\\n   22.3810   -0.2150  -22.7600 C   0  0  0  0  0  0  0  0  0  0  0  0\\n   22.7760    2.0880  -22.1800 C   0  0  0  0  0  0  0  0  0  0  0  0\\n   21.4090    2.5800  -17.0160 C   0  0  0  0  0  0  0  0  0  0  0  0\\n   21.6860    0.4210  -15.7960 C   0  0  0  0  0  0  0  0  0  0  0  0\\n   23.0030   -3.2890  -19.8280 C   0  0  0  0  0  0  0  0  0  0  0  0\\n   24.6280   -2.0580  -21.1720 C   0  0  0  0  0  0  0  0  0  0  0  0\\n   20.6320    2.3350  -14.7150 C   0  0  0  0  0  0  0  0  0  0  0  0\\n   24.6180   -4.4980  -21.1990 C   0  0  0  0  0  0  0  0  0  0  0  0\\n   22.3910    0.6000  -18.1430 C   0  0  0  0  0  0  0  0  0  0  0  0\\n   23.0420   -0.7950  -19.7120 C   0  0  0  0  0  0  0  0  0  0  0  0\\n   22.7950    0.3910  -20.3480 C   0  0  0  0  0  0  0  0  0  0  0  0\\n   21.8690    1.1980  -17.0080 C   0  0  0  0  0  0  0  0  0  0  0  0\\n   22.6760    0.7440  -21.7760 C   0  0  0  0  0  0  0  0  0  0  0  0\\n   23.5500   -2.0630  -20.2610 C   0  0  0  0  0  0  0  0  0  0  0  0\\n  1  3  1  0\\n  1  7  1  0\\n  1 20  2  3\\n  2 21  1  0\\n  4  8  2  0\\n  4  9  1  0\\n  5 22  1  0\\n  5 23  1  0\\n  6 22  1  0\\n  6 24  1  0\\n  8 14  1  0\\n  9 15  2  0\\n 10 16  2  0\\n 10 20  1  0\\n 11 17  2  0\\n 11 20  1  0\\n 12 18  2  0\\n 12 21  1  0\\n 13 19  1  0\\n 13 21  2  0\\n 14 26  2  0\\n 15 26  1  0\\n 16 25  1  0\\n 17 25  1  0\\n 18 27  1  0\\n 19 27  2  0\\n 22 25  2  3\\n 23 24  2  0\\n 23 27  1  0\\n 24 26  1  0\\nM  END\\n\",\"sdf\");\n\tviewer_1628674789025344.setStyle({\"stick\": {}});\n\tviewer_1628674789025344.zoomTo();\nviewer_1628674789025344.render();\n});\n</script>",
      "text/html": [
       "<div id=\"3dmolviewer_1628674789025344\"  style=\"position: relative; width: 400px; height: 400px\">\n",
       "        <p id=\"3dmolwarning_1628674789025344\" style=\"background-color:#ffcccc;color:black\">You appear to be running in JupyterLab (or JavaScript failed to load for some other reason).  You need to install the 3dmol extension: <br>\n",
       "        <tt>jupyter labextension install jupyterlab_3dmol</tt></p>\n",
       "        </div>\n",
       "<script>\n",
       "\n",
       "var loadScriptAsync = function(uri){\n",
       "  return new Promise((resolve, reject) => {\n",
       "    var tag = document.createElement('script');\n",
       "    tag.src = uri;\n",
       "    tag.async = true;\n",
       "    tag.onload = () => {\n",
       "      resolve();\n",
       "    };\n",
       "  var firstScriptTag = document.getElementsByTagName('script')[0];\n",
       "  firstScriptTag.parentNode.insertBefore(tag, firstScriptTag);\n",
       "});\n",
       "};\n",
       "\n",
       "if(typeof $3Dmolpromise === 'undefined') {\n",
       "$3Dmolpromise = null;\n",
       "  $3Dmolpromise = loadScriptAsync('https://3dmol.org/build/3Dmol.js');\n",
       "}\n",
       "\n",
       "var viewer_1628674789025344 = null;\n",
       "var warn = document.getElementById(\"3dmolwarning_1628674789025344\");\n",
       "if(warn) {\n",
       "    warn.parentNode.removeChild(warn);\n",
       "}\n",
       "$3Dmolpromise.then(function() {\n",
       "viewer_1628674789025344 = $3Dmol.createViewer($(\"#3dmolviewer_1628674789025344\"),{backgroundColor:\"white\"});\n",
       "viewer_1628674789025344.zoomTo();\n",
       "\tviewer_1628674789025344.addModel(\"CHEMBL260_3gcp_CHEMBL10\\n     RDKit          3D\\n\\n 27 30  0  0  0  0  0  0  0  0999 V2000\\n   19.7580    3.1010  -13.2990 S   0  0  0  0  0  0  0  0  0  0  0  0\\n   25.1190   -5.6670  -21.6580 F   0  0  0  0  0  0  0  0  0  0  0  0\\n   20.7880    4.3960  -12.8780 O   0  0  0  0  0  0  0  0  0  0  0  0\\n   22.3450    1.4860  -24.4940 N   0  0  0  0  0  0  0  0  0  0  0  0\\n   22.8640   -0.6530  -18.3820 N   0  0  0  0  0  0  0  0  0  0  0  0\\n   22.4500    1.2670  -19.3530 N   0  0  0  0  0  0  0  0  0  0  0  0\\n   20.4500    2.0670  -11.9200 C   0  0  0  0  0  0  0  0  0  0  0  0\\n   22.2020    0.2060  -24.0890 C   0  0  0  0  0  0  0  0  0  0  0  0\\n   22.6070    2.4050  -23.5400 C   0  0  0  0  0  0  0  0  0  0  0  0\\n   20.8280    3.1260  -15.9270 C   0  0  0  0  0  0  0  0  0  0  0  0\\n   21.1030    0.9490  -14.7000 C   0  0  0  0  0  0  0  0  0  0  0  0\\n   23.5320   -4.5050  -20.3040 C   0  0  0  0  0  0  0  0  0  0  0  0\\n   25.1730   -3.2760  -21.6250 C   0  0  0  0  0  0  0  0  0  0  0  0\\n   22.3810   -0.2150  -22.7600 C   0  0  0  0  0  0  0  0  0  0  0  0\\n   22.7760    2.0880  -22.1800 C   0  0  0  0  0  0  0  0  0  0  0  0\\n   21.4090    2.5800  -17.0160 C   0  0  0  0  0  0  0  0  0  0  0  0\\n   21.6860    0.4210  -15.7960 C   0  0  0  0  0  0  0  0  0  0  0  0\\n   23.0030   -3.2890  -19.8280 C   0  0  0  0  0  0  0  0  0  0  0  0\\n   24.6280   -2.0580  -21.1720 C   0  0  0  0  0  0  0  0  0  0  0  0\\n   20.6320    2.3350  -14.7150 C   0  0  0  0  0  0  0  0  0  0  0  0\\n   24.6180   -4.4980  -21.1990 C   0  0  0  0  0  0  0  0  0  0  0  0\\n   22.3910    0.6000  -18.1430 C   0  0  0  0  0  0  0  0  0  0  0  0\\n   23.0420   -0.7950  -19.7120 C   0  0  0  0  0  0  0  0  0  0  0  0\\n   22.7950    0.3910  -20.3480 C   0  0  0  0  0  0  0  0  0  0  0  0\\n   21.8690    1.1980  -17.0080 C   0  0  0  0  0  0  0  0  0  0  0  0\\n   22.6760    0.7440  -21.7760 C   0  0  0  0  0  0  0  0  0  0  0  0\\n   23.5500   -2.0630  -20.2610 C   0  0  0  0  0  0  0  0  0  0  0  0\\n  1  3  1  0\\n  1  7  1  0\\n  1 20  2  3\\n  2 21  1  0\\n  4  8  2  0\\n  4  9  1  0\\n  5 22  1  0\\n  5 23  1  0\\n  6 22  1  0\\n  6 24  1  0\\n  8 14  1  0\\n  9 15  2  0\\n 10 16  2  0\\n 10 20  1  0\\n 11 17  2  0\\n 11 20  1  0\\n 12 18  2  0\\n 12 21  1  0\\n 13 19  1  0\\n 13 21  2  0\\n 14 26  2  0\\n 15 26  1  0\\n 16 25  1  0\\n 17 25  1  0\\n 18 27  1  0\\n 19 27  2  0\\n 22 25  2  3\\n 23 24  2  0\\n 23 27  1  0\\n 24 26  1  0\\nM  END\\n\",\"sdf\");\n",
       "\tviewer_1628674789025344.setStyle({\"stick\": {}});\n",
       "\tviewer_1628674789025344.zoomTo();\n",
       "viewer_1628674789025344.render();\n",
       "});\n",
       "</script>"
      ]
     },
     "metadata": {}
    }
   ],
   "metadata": {}
  },
  {
   "cell_type": "code",
   "execution_count": 93,
   "source": [
    "# m = Chem.Mol(compnd_mols[0])\n",
    "# m = Chem.AddHs(m)\n",
    "# AllChem.EmbedMolecule(m)"
   ],
   "outputs": [
    {
     "output_type": "execute_result",
     "data": {
      "text/plain": [
       "0"
      ]
     },
     "metadata": {},
     "execution_count": 93
    }
   ],
   "metadata": {}
  },
  {
   "cell_type": "code",
   "execution_count": 94,
   "source": [
    "# p = py3Dmol.view(width=400, height=400)\n",
    "# for m in [m]:\n",
    "#     mb = Chem.MolToMolBlock(m)\n",
    "#     p.addModel(mb, 'sdf')\n",
    "# p.setStyle({'stick':{}})\n",
    "# # p.setBackgroundColor('0xeeeeee')\n",
    "# p.zoomTo()\n",
    "# p.show()"
   ],
   "outputs": [
    {
     "output_type": "display_data",
     "data": {
      "application/3dmoljs_load.v0": "<div id=\"3dmolviewer_16286748370812523\"  style=\"position: relative; width: 400px; height: 400px\">\n        <p id=\"3dmolwarning_16286748370812523\" style=\"background-color:#ffcccc;color:black\">You appear to be running in JupyterLab (or JavaScript failed to load for some other reason).  You need to install the 3dmol extension: <br>\n        <tt>jupyter labextension install jupyterlab_3dmol</tt></p>\n        </div>\n<script>\n\nvar loadScriptAsync = function(uri){\n  return new Promise((resolve, reject) => {\n    var tag = document.createElement('script');\n    tag.src = uri;\n    tag.async = true;\n    tag.onload = () => {\n      resolve();\n    };\n  var firstScriptTag = document.getElementsByTagName('script')[0];\n  firstScriptTag.parentNode.insertBefore(tag, firstScriptTag);\n});\n};\n\nif(typeof $3Dmolpromise === 'undefined') {\n$3Dmolpromise = null;\n  $3Dmolpromise = loadScriptAsync('https://3dmol.org/build/3Dmol.js');\n}\n\nvar viewer_16286748370812523 = null;\nvar warn = document.getElementById(\"3dmolwarning_16286748370812523\");\nif(warn) {\n    warn.parentNode.removeChild(warn);\n}\n$3Dmolpromise.then(function() {\nviewer_16286748370812523 = $3Dmol.createViewer($(\"#3dmolviewer_16286748370812523\"),{backgroundColor:\"white\"});\nviewer_16286748370812523.zoomTo();\n\tviewer_16286748370812523.addModel(\"CHEMBL260_3gcp_CHEMBL10\\n     RDKit          3D\\n\\n 45 48  0  0  0  0  0  0  0  0999 V2000\\n    6.4094    0.7997   -0.5012 S   0  0  0  0  0  4  0  0  0  0  0  0\\n   -6.6490    2.8890   -0.1945 F   0  0  0  0  0  0  0  0  0  0  0  0\\n    7.0479    2.3704   -0.8512 O   0  0  0  0  0  0  0  0  0  0  0  0\\n   -4.3497   -3.8091    0.8616 N   0  0  0  0  0  0  0  0  0  0  0  0\\n   -0.3502    1.1172   -0.3356 N   0  0  0  0  0  0  0  0  0  0  0  0\\n   -0.0025   -1.0661    0.1173 N   0  0  0  0  0  0  0  0  0  0  0  0\\n    7.4715   -0.3554    0.4382 C   0  0  0  0  0  0  0  0  0  0  0  0\\n   -4.5069   -2.9210   -0.1245 C   0  0  0  0  0  0  0  0  0  0  0  0\\n   -3.2368   -3.7493    1.6303 C   0  0  0  0  0  0  0  0  0  0  0  0\\n    3.8748    1.7233   -0.6221 C   0  0  0  0  0  0  0  0  0  0  0  0\\n    4.2139   -0.7182   -0.1119 C   0  0  0  0  0  0  0  0  0  0  0  0\\n   -5.0743    1.4245    0.7684 C   0  0  0  0  0  0  0  0  0  0  0  0\\n   -4.4855    2.6200   -1.1953 C   0  0  0  0  0  0  0  0  0  0  0  0\\n   -3.5894   -1.9283   -0.4141 C   0  0  0  0  0  0  0  0  0  0  0  0\\n   -2.3161   -2.7789    1.3652 C   0  0  0  0  0  0  0  0  0  0  0  0\\n    2.5588    1.6043   -0.5538 C   0  0  0  0  0  0  0  0  0  0  0  0\\n    2.9029   -0.8254   -0.0461 C   0  0  0  0  0  0  0  0  0  0  0  0\\n   -3.8532    0.8270    0.7974 C   0  0  0  0  0  0  0  0  0  0  0  0\\n   -3.2532    2.0104   -1.1573 C   0  0  0  0  0  0  0  0  0  0  0  0\\n    4.7711    0.5938   -0.4099 C   0  0  0  0  0  0  0  0  0  0  0  0\\n   -5.3969    2.3217   -0.2245 C   0  0  0  0  0  0  0  0  0  0  0  0\\n    0.6711    0.1479   -0.1720 C   0  0  0  0  0  0  0  0  0  0  0  0\\n   -1.5912    0.4542   -0.1388 C   0  0  0  0  0  0  0  0  0  0  0  0\\n   -1.4287   -0.8269    0.1277 C   0  0  0  0  0  0  0  0  0  0  0  0\\n    1.9797    0.2826   -0.2523 C   0  0  0  0  0  0  0  0  0  0  0  0\\n   -2.4436   -1.8479    0.3590 C   0  0  0  0  0  0  0  0  0  0  0  0\\n   -2.8968    1.1131   -0.1848 C   0  0  0  0  0  0  0  0  0  0  0  0\\n    7.0634    2.8715    0.0019 H   0  0  0  0  0  0  0  0  0  0  0  0\\n   -0.2089    2.1429   -0.5625 H   0  0  0  0  0  0  0  0  0  0  0  0\\n    0.4516   -1.9929    0.2974 H   0  0  0  0  0  0  0  0  0  0  0  0\\n    7.4104   -1.3570   -0.0098 H   0  0  0  0  0  0  0  0  0  0  0  0\\n    7.1230   -0.3719    1.5098 H   0  0  0  0  0  0  0  0  0  0  0  0\\n    8.5343   -0.0414    0.3731 H   0  0  0  0  0  0  0  0  0  0  0  0\\n   -5.4255   -3.0113   -0.7209 H   0  0  0  0  0  0  0  0  0  0  0  0\\n   -3.0579   -4.4421    2.4420 H   0  0  0  0  0  0  0  0  0  0  0  0\\n    4.2879    2.7081   -0.8472 H   0  0  0  0  0  0  0  0  0  0  0  0\\n    4.8859   -1.5626    0.0465 H   0  0  0  0  0  0  0  0  0  0  0  0\\n   -5.8150    1.2102    1.5209 H   0  0  0  0  0  0  0  0  0  0  0  0\\n   -4.7806    3.3341   -1.9647 H   0  0  0  0  0  0  0  0  0  0  0  0\\n   -3.7670   -1.2404   -1.2232 H   0  0  0  0  0  0  0  0  0  0  0  0\\n   -1.4254   -2.7434    1.9938 H   0  0  0  0  0  0  0  0  0  0  0  0\\n    1.9166    2.4473   -0.7142 H   0  0  0  0  0  0  0  0  0  0  0  0\\n    2.4776   -1.8163    0.1795 H   0  0  0  0  0  0  0  0  0  0  0  0\\n   -3.5942    0.1250    1.5836 H   0  0  0  0  0  0  0  0  0  0  0  0\\n   -2.5531    2.2678   -1.9407 H   0  0  0  0  0  0  0  0  0  0  0  0\\n  1  3  1  0\\n  1  7  1  0\\n  1 20  2  3\\n  2 21  1  0\\n  4  8  2  0\\n  4  9  1  0\\n  5 22  1  0\\n  5 23  1  0\\n  6 22  1  0\\n  6 24  1  0\\n  8 14  1  0\\n  9 15  2  0\\n 10 16  2  0\\n 10 20  1  0\\n 11 17  2  0\\n 11 20  1  0\\n 12 18  2  0\\n 12 21  1  0\\n 13 19  1  0\\n 13 21  2  0\\n 14 26  2  0\\n 15 26  1  0\\n 16 25  1  0\\n 17 25  1  0\\n 18 27  1  0\\n 19 27  2  0\\n 22 25  2  3\\n 23 24  2  0\\n 23 27  1  0\\n 24 26  1  0\\n  3 28  1  0\\n  5 29  1  0\\n  6 30  1  0\\n  7 31  1  0\\n  7 32  1  0\\n  7 33  1  0\\n  8 34  1  0\\n  9 35  1  0\\n 10 36  1  0\\n 11 37  1  0\\n 12 38  1  0\\n 13 39  1  0\\n 14 40  1  0\\n 15 41  1  0\\n 16 42  1  0\\n 17 43  1  0\\n 18 44  1  0\\n 19 45  1  0\\nM  END\\n\",\"sdf\");\n\tviewer_16286748370812523.setStyle({\"stick\": {}});\n\tviewer_16286748370812523.zoomTo();\nviewer_16286748370812523.render();\n});\n</script>",
      "text/html": [
       "<div id=\"3dmolviewer_16286748370812523\"  style=\"position: relative; width: 400px; height: 400px\">\n",
       "        <p id=\"3dmolwarning_16286748370812523\" style=\"background-color:#ffcccc;color:black\">You appear to be running in JupyterLab (or JavaScript failed to load for some other reason).  You need to install the 3dmol extension: <br>\n",
       "        <tt>jupyter labextension install jupyterlab_3dmol</tt></p>\n",
       "        </div>\n",
       "<script>\n",
       "\n",
       "var loadScriptAsync = function(uri){\n",
       "  return new Promise((resolve, reject) => {\n",
       "    var tag = document.createElement('script');\n",
       "    tag.src = uri;\n",
       "    tag.async = true;\n",
       "    tag.onload = () => {\n",
       "      resolve();\n",
       "    };\n",
       "  var firstScriptTag = document.getElementsByTagName('script')[0];\n",
       "  firstScriptTag.parentNode.insertBefore(tag, firstScriptTag);\n",
       "});\n",
       "};\n",
       "\n",
       "if(typeof $3Dmolpromise === 'undefined') {\n",
       "$3Dmolpromise = null;\n",
       "  $3Dmolpromise = loadScriptAsync('https://3dmol.org/build/3Dmol.js');\n",
       "}\n",
       "\n",
       "var viewer_16286748370812523 = null;\n",
       "var warn = document.getElementById(\"3dmolwarning_16286748370812523\");\n",
       "if(warn) {\n",
       "    warn.parentNode.removeChild(warn);\n",
       "}\n",
       "$3Dmolpromise.then(function() {\n",
       "viewer_16286748370812523 = $3Dmol.createViewer($(\"#3dmolviewer_16286748370812523\"),{backgroundColor:\"white\"});\n",
       "viewer_16286748370812523.zoomTo();\n",
       "\tviewer_16286748370812523.addModel(\"CHEMBL260_3gcp_CHEMBL10\\n     RDKit          3D\\n\\n 45 48  0  0  0  0  0  0  0  0999 V2000\\n    6.4094    0.7997   -0.5012 S   0  0  0  0  0  4  0  0  0  0  0  0\\n   -6.6490    2.8890   -0.1945 F   0  0  0  0  0  0  0  0  0  0  0  0\\n    7.0479    2.3704   -0.8512 O   0  0  0  0  0  0  0  0  0  0  0  0\\n   -4.3497   -3.8091    0.8616 N   0  0  0  0  0  0  0  0  0  0  0  0\\n   -0.3502    1.1172   -0.3356 N   0  0  0  0  0  0  0  0  0  0  0  0\\n   -0.0025   -1.0661    0.1173 N   0  0  0  0  0  0  0  0  0  0  0  0\\n    7.4715   -0.3554    0.4382 C   0  0  0  0  0  0  0  0  0  0  0  0\\n   -4.5069   -2.9210   -0.1245 C   0  0  0  0  0  0  0  0  0  0  0  0\\n   -3.2368   -3.7493    1.6303 C   0  0  0  0  0  0  0  0  0  0  0  0\\n    3.8748    1.7233   -0.6221 C   0  0  0  0  0  0  0  0  0  0  0  0\\n    4.2139   -0.7182   -0.1119 C   0  0  0  0  0  0  0  0  0  0  0  0\\n   -5.0743    1.4245    0.7684 C   0  0  0  0  0  0  0  0  0  0  0  0\\n   -4.4855    2.6200   -1.1953 C   0  0  0  0  0  0  0  0  0  0  0  0\\n   -3.5894   -1.9283   -0.4141 C   0  0  0  0  0  0  0  0  0  0  0  0\\n   -2.3161   -2.7789    1.3652 C   0  0  0  0  0  0  0  0  0  0  0  0\\n    2.5588    1.6043   -0.5538 C   0  0  0  0  0  0  0  0  0  0  0  0\\n    2.9029   -0.8254   -0.0461 C   0  0  0  0  0  0  0  0  0  0  0  0\\n   -3.8532    0.8270    0.7974 C   0  0  0  0  0  0  0  0  0  0  0  0\\n   -3.2532    2.0104   -1.1573 C   0  0  0  0  0  0  0  0  0  0  0  0\\n    4.7711    0.5938   -0.4099 C   0  0  0  0  0  0  0  0  0  0  0  0\\n   -5.3969    2.3217   -0.2245 C   0  0  0  0  0  0  0  0  0  0  0  0\\n    0.6711    0.1479   -0.1720 C   0  0  0  0  0  0  0  0  0  0  0  0\\n   -1.5912    0.4542   -0.1388 C   0  0  0  0  0  0  0  0  0  0  0  0\\n   -1.4287   -0.8269    0.1277 C   0  0  0  0  0  0  0  0  0  0  0  0\\n    1.9797    0.2826   -0.2523 C   0  0  0  0  0  0  0  0  0  0  0  0\\n   -2.4436   -1.8479    0.3590 C   0  0  0  0  0  0  0  0  0  0  0  0\\n   -2.8968    1.1131   -0.1848 C   0  0  0  0  0  0  0  0  0  0  0  0\\n    7.0634    2.8715    0.0019 H   0  0  0  0  0  0  0  0  0  0  0  0\\n   -0.2089    2.1429   -0.5625 H   0  0  0  0  0  0  0  0  0  0  0  0\\n    0.4516   -1.9929    0.2974 H   0  0  0  0  0  0  0  0  0  0  0  0\\n    7.4104   -1.3570   -0.0098 H   0  0  0  0  0  0  0  0  0  0  0  0\\n    7.1230   -0.3719    1.5098 H   0  0  0  0  0  0  0  0  0  0  0  0\\n    8.5343   -0.0414    0.3731 H   0  0  0  0  0  0  0  0  0  0  0  0\\n   -5.4255   -3.0113   -0.7209 H   0  0  0  0  0  0  0  0  0  0  0  0\\n   -3.0579   -4.4421    2.4420 H   0  0  0  0  0  0  0  0  0  0  0  0\\n    4.2879    2.7081   -0.8472 H   0  0  0  0  0  0  0  0  0  0  0  0\\n    4.8859   -1.5626    0.0465 H   0  0  0  0  0  0  0  0  0  0  0  0\\n   -5.8150    1.2102    1.5209 H   0  0  0  0  0  0  0  0  0  0  0  0\\n   -4.7806    3.3341   -1.9647 H   0  0  0  0  0  0  0  0  0  0  0  0\\n   -3.7670   -1.2404   -1.2232 H   0  0  0  0  0  0  0  0  0  0  0  0\\n   -1.4254   -2.7434    1.9938 H   0  0  0  0  0  0  0  0  0  0  0  0\\n    1.9166    2.4473   -0.7142 H   0  0  0  0  0  0  0  0  0  0  0  0\\n    2.4776   -1.8163    0.1795 H   0  0  0  0  0  0  0  0  0  0  0  0\\n   -3.5942    0.1250    1.5836 H   0  0  0  0  0  0  0  0  0  0  0  0\\n   -2.5531    2.2678   -1.9407 H   0  0  0  0  0  0  0  0  0  0  0  0\\n  1  3  1  0\\n  1  7  1  0\\n  1 20  2  3\\n  2 21  1  0\\n  4  8  2  0\\n  4  9  1  0\\n  5 22  1  0\\n  5 23  1  0\\n  6 22  1  0\\n  6 24  1  0\\n  8 14  1  0\\n  9 15  2  0\\n 10 16  2  0\\n 10 20  1  0\\n 11 17  2  0\\n 11 20  1  0\\n 12 18  2  0\\n 12 21  1  0\\n 13 19  1  0\\n 13 21  2  0\\n 14 26  2  0\\n 15 26  1  0\\n 16 25  1  0\\n 17 25  1  0\\n 18 27  1  0\\n 19 27  2  0\\n 22 25  2  3\\n 23 24  2  0\\n 23 27  1  0\\n 24 26  1  0\\n  3 28  1  0\\n  5 29  1  0\\n  6 30  1  0\\n  7 31  1  0\\n  7 32  1  0\\n  7 33  1  0\\n  8 34  1  0\\n  9 35  1  0\\n 10 36  1  0\\n 11 37  1  0\\n 12 38  1  0\\n 13 39  1  0\\n 14 40  1  0\\n 15 41  1  0\\n 16 42  1  0\\n 17 43  1  0\\n 18 44  1  0\\n 19 45  1  0\\nM  END\\n\",\"sdf\");\n",
       "\tviewer_16286748370812523.setStyle({\"stick\": {}});\n",
       "\tviewer_16286748370812523.zoomTo();\n",
       "viewer_16286748370812523.render();\n",
       "});\n",
       "</script>"
      ]
     },
     "metadata": {}
    }
   ],
   "metadata": {}
  },
  {
   "cell_type": "code",
   "execution_count": 95,
   "source": [
    "# m.GetProp('_Name')"
   ],
   "outputs": [
    {
     "output_type": "execute_result",
     "data": {
      "text/plain": [
       "'CHEMBL260_3gcp_CHEMBL10'"
      ]
     },
     "metadata": {},
     "execution_count": 95
    }
   ],
   "metadata": {}
  },
  {
   "cell_type": "code",
   "execution_count": 100,
   "source": [
    "len(embed_mols)"
   ],
   "outputs": [
    {
     "output_type": "execute_result",
     "data": {
      "text/plain": [
       "66903"
      ]
     },
     "metadata": {},
     "execution_count": 100
    }
   ],
   "metadata": {}
  },
  {
   "cell_type": "code",
   "execution_count": 101,
   "source": [
    "len(failed_mols)"
   ],
   "outputs": [
    {
     "output_type": "execute_result",
     "data": {
      "text/plain": [
       "27"
      ]
     },
     "metadata": {},
     "execution_count": 101
    }
   ],
   "metadata": {}
  },
  {
   "cell_type": "code",
   "execution_count": 103,
   "source": [
    "len(compnd_mols)"
   ],
   "outputs": [
    {
     "output_type": "execute_result",
     "data": {
      "text/plain": [
       "66930"
      ]
     },
     "metadata": {},
     "execution_count": 103
    }
   ],
   "metadata": {}
  },
  {
   "cell_type": "code",
   "execution_count": 205,
   "source": [
    "failed_embed_mols = []\n",
    "failed_minimize_mols = []\n",
    "success_mols = []\n",
    "mols_none = []\n",
    "for mol in compnd_mols:\n",
    "    m = Chem.Mol(mol)\n",
    "    m = Chem.AddHs(m)\n",
    "    for _ in range(30):\n",
    "        code = AllChem.EmbedMolecule(m)\n",
    "        if code == 0:\n",
    "            break\n",
    "    if code != 0:\n",
    "        failed_embed_mols.append(mol)\n",
    "        continue\n",
    "    code_1 = AllChem.UFFOptimizeMolecule(m, maxIters = 1000)\n",
    "    if code_1 != 0:\n",
    "        failed_minimize_mols.append(mol)\n",
    "        continue\n",
    "    if m is None:\n",
    "        mols_none.append(mol)\n",
    "        continue\n",
    "    success_mols.append(m)\n",
    "    "
   ],
   "outputs": [
    {
     "output_type": "stream",
     "name": "stderr",
     "text": [
      "RDKit ERROR: [17:07:04] UFFTYPER: Unrecognized atom type: Se2+2 (0)\n",
      "RDKit ERROR: [17:07:04] UFFTYPER: Unrecognized atom type: Se2+2 (0)\n",
      "RDKit ERROR: [17:07:04] UFFTYPER: Unrecognized atom type: Se2+2 (0)\n",
      "RDKit ERROR: [17:07:04] UFFTYPER: Unrecognized atom type: Se2+2 (0)\n",
      "RDKit ERROR: [17:07:04] UFFTYPER: Unrecognized atom type: Se2+2 (0)\n",
      "RDKit ERROR: [17:07:04] UFFTYPER: Unrecognized atom type: Se2+2 (0)\n",
      "RDKit ERROR: [17:07:04] UFFTYPER: Unrecognized atom type: Se2+2 (0)\n",
      "RDKit ERROR: [17:07:04] UFFTYPER: Unrecognized atom type: Se2+2 (0)\n",
      "RDKit ERROR: [17:07:04] UFFTYPER: Unrecognized atom type: Se2+2 (0)\n",
      "RDKit ERROR: [17:07:04] UFFTYPER: Unrecognized atom type: Se2+2 (0)\n",
      "RDKit ERROR: [17:07:05] UFFTYPER: Unrecognized atom type: Se2+2 (0)\n",
      "RDKit ERROR: [17:07:05] UFFTYPER: Unrecognized atom type: Se2+2 (0)\n",
      "RDKit ERROR: [17:07:05] UFFTYPER: Unrecognized atom type: Se2+2 (0)\n",
      "RDKit ERROR: [17:07:05] UFFTYPER: Unrecognized atom type: Se2+2 (0)\n",
      "RDKit ERROR: [17:07:05] UFFTYPER: Unrecognized atom type: Se2+2 (0)\n",
      "RDKit ERROR: [17:07:06] UFFTYPER: Unrecognized atom type: Se2+2 (0)\n",
      "RDKit ERROR: [17:07:07] UFFTYPER: Unrecognized atom type: Se2+2 (0)\n",
      "RDKit ERROR: [17:07:07] UFFTYPER: Unrecognized atom type: Se2+2 (0)\n",
      "RDKit ERROR: [17:07:07] UFFTYPER: Unrecognized atom type: Se2+2 (0)\n",
      "RDKit ERROR: [17:07:07] UFFTYPER: Unrecognized atom type: Se2+2 (0)\n"
     ]
    }
   ],
   "metadata": {}
  },
  {
   "cell_type": "code",
   "execution_count": 206,
   "source": [
    "len(success_mols)"
   ],
   "outputs": [
    {
     "output_type": "execute_result",
     "data": {
      "text/plain": [
       "66865"
      ]
     },
     "metadata": {},
     "execution_count": 206
    }
   ],
   "metadata": {}
  },
  {
   "cell_type": "code",
   "execution_count": 207,
   "source": [
    "len(failed_embed_mols)"
   ],
   "outputs": [
    {
     "output_type": "execute_result",
     "data": {
      "text/plain": [
       "5"
      ]
     },
     "metadata": {},
     "execution_count": 207
    }
   ],
   "metadata": {}
  },
  {
   "cell_type": "code",
   "execution_count": 208,
   "source": [
    "len(failed_minimize_mols)"
   ],
   "outputs": [
    {
     "output_type": "execute_result",
     "data": {
      "text/plain": [
       "60"
      ]
     },
     "metadata": {},
     "execution_count": 208
    }
   ],
   "metadata": {}
  },
  {
   "cell_type": "code",
   "execution_count": 209,
   "source": [
    "len(mols_none)"
   ],
   "outputs": [
    {
     "output_type": "execute_result",
     "data": {
      "text/plain": [
       "0"
      ]
     },
     "metadata": {},
     "execution_count": 209
    }
   ],
   "metadata": {}
  },
  {
   "cell_type": "code",
   "execution_count": 222,
   "source": [
    "# m = Chem.Mol(failed_embed_mols[0])\n",
    "# m = Chem.AddHs(m)\n",
    "# AllChem.EmbedMolecule(m)"
   ],
   "outputs": [
    {
     "output_type": "execute_result",
     "data": {
      "text/plain": [
       "0"
      ]
     },
     "metadata": {},
     "execution_count": 222
    }
   ],
   "metadata": {}
  },
  {
   "cell_type": "code",
   "execution_count": 228,
   "source": [
    "# success_mols = success_mols_bak\n",
    "# failed_minimize_mols = failed_minimize_mols_bak\n",
    "failed_embed_still_2 = []\n",
    "for mol in failed_embed_still:\n",
    "    m = Chem.Mol(mol)\n",
    "    m = Chem.AddHs(m)\n",
    "    for _ in range(30):\n",
    "        code = AllChem.EmbedMolecule(m)\n",
    "        if code == 0:\n",
    "            break\n",
    "    if code != 0:\n",
    "        failed_embed_still_2.append(mol)\n",
    "        continue\n",
    "    code_1 = AllChem.UFFOptimizeMolecule(m, maxIters = 1000)\n",
    "    if code_1 != 0:\n",
    "        failed_minimize_mols.append(mol)\n",
    "        continue\n",
    "    if m is None:\n",
    "        mols_none.append(mol)\n",
    "        continue\n",
    "    success_mols.append(m)\n"
   ],
   "outputs": [],
   "metadata": {}
  },
  {
   "cell_type": "code",
   "execution_count": 229,
   "source": [
    "len(success_mols)"
   ],
   "outputs": [
    {
     "output_type": "execute_result",
     "data": {
      "text/plain": [
       "66870"
      ]
     },
     "metadata": {},
     "execution_count": 229
    }
   ],
   "metadata": {}
  },
  {
   "cell_type": "code",
   "execution_count": 231,
   "source": [
    "len(failed_embed_still_2)"
   ],
   "outputs": [
    {
     "output_type": "execute_result",
     "data": {
      "text/plain": [
       "0"
      ]
     },
     "metadata": {},
     "execution_count": 231
    }
   ],
   "metadata": {}
  },
  {
   "cell_type": "code",
   "execution_count": 232,
   "source": [
    "len(failed_minimize_mols)"
   ],
   "outputs": [
    {
     "output_type": "execute_result",
     "data": {
      "text/plain": [
       "60"
      ]
     },
     "metadata": {},
     "execution_count": 232
    }
   ],
   "metadata": {}
  },
  {
   "cell_type": "code",
   "execution_count": 233,
   "source": [
    "# success_mols_bak = success_mols\n",
    "# failed_minimize_mols_bak = failed_minimize_mols\n",
    "# print(len(success_mols_bak), len(failed_minimize_mols_bak))\n",
    "#bak会跟着最初的list变化？\n",
    "import copy\n",
    "success_mols_bak = copy.deepcopy(success_mols)\n",
    "failed_minimize_mols_bak = copy.deepcopy(failed_minimize_mols)\n",
    "print(len(success_mols_bak), len(failed_minimize_mols_bak))"
   ],
   "outputs": [
    {
     "output_type": "stream",
     "name": "stdout",
     "text": [
      "66870 60\n"
     ]
    }
   ],
   "metadata": {}
  },
  {
   "cell_type": "code",
   "execution_count": 235,
   "source": [
    "# m = Chem.Mol(failed_minimize_mols[0])\n",
    "# m = Chem.AddHs(m)\n",
    "# code = AllChem.EmbedMolecule(m)\n",
    "# print(code)\n",
    "# AllChem.UFFOptimizeMolecule(m, maxIters = 1000)"
   ],
   "outputs": [
    {
     "output_type": "stream",
     "name": "stdout",
     "text": [
      "0\n"
     ]
    },
    {
     "output_type": "execute_result",
     "data": {
      "text/plain": [
       "0"
      ]
     },
     "metadata": {},
     "execution_count": 235
    }
   ],
   "metadata": {}
  },
  {
   "cell_type": "code",
   "execution_count": 236,
   "source": [
    "failed_mini_embed = []\n",
    "failed_mini_still = []\n",
    "for mol in failed_minimize_mols:\n",
    "    m = Chem.Mol(mol)\n",
    "    m = Chem.AddHs(m)\n",
    "    for _ in range(50):\n",
    "        code = AllChem.EmbedMolecule(m)\n",
    "        if code == 0:\n",
    "            break\n",
    "    if code != 0:\n",
    "        failed_mini_embed.append(mol)\n",
    "        continue\n",
    "    code_1 = AllChem.UFFOptimizeMolecule(m, maxIters = 1000)\n",
    "    if code_1 != 0:\n",
    "        failed_mini_still.append(m)\n",
    "        continue\n",
    "    if m is None:\n",
    "        mols_none.append(mol)\n",
    "        continue\n",
    "    success_mols.append(m)"
   ],
   "outputs": [],
   "metadata": {}
  },
  {
   "cell_type": "code",
   "execution_count": 237,
   "source": [
    "len(success_mols)"
   ],
   "outputs": [
    {
     "output_type": "execute_result",
     "data": {
      "text/plain": [
       "66926"
      ]
     },
     "metadata": {},
     "execution_count": 237
    }
   ],
   "metadata": {}
  },
  {
   "cell_type": "code",
   "execution_count": 238,
   "source": [
    "len(failed_mini_embed)"
   ],
   "outputs": [
    {
     "output_type": "execute_result",
     "data": {
      "text/plain": [
       "0"
      ]
     },
     "metadata": {},
     "execution_count": 238
    }
   ],
   "metadata": {}
  },
  {
   "cell_type": "code",
   "execution_count": 239,
   "source": [
    "len(failed_mini_still)"
   ],
   "outputs": [
    {
     "output_type": "execute_result",
     "data": {
      "text/plain": [
       "4"
      ]
     },
     "metadata": {},
     "execution_count": 239
    }
   ],
   "metadata": {}
  },
  {
   "cell_type": "code",
   "execution_count": 240,
   "source": [
    "failed_mini_still_2 = []\n",
    "for mol in failed_mini_still:\n",
    "    m = Chem.Mol(mol)\n",
    "    for _ in range(10):\n",
    "        code_1 = AllChem.UFFOptimizeMolecule(m, maxIters = 1000)\n",
    "        if code_1 == 0:\n",
    "            break\n",
    "    if code_1 != 0:\n",
    "        failed_mini_still_2.append(m)\n",
    "        continue\n",
    "    if m is None:\n",
    "        mols_none.append(mol)\n",
    "        continue\n",
    "    success_mols.append(m)"
   ],
   "outputs": [],
   "metadata": {}
  },
  {
   "cell_type": "code",
   "execution_count": 241,
   "source": [
    "len(success_mols)"
   ],
   "outputs": [
    {
     "output_type": "execute_result",
     "data": {
      "text/plain": [
       "66930"
      ]
     },
     "metadata": {},
     "execution_count": 241
    }
   ],
   "metadata": {}
  },
  {
   "cell_type": "code",
   "execution_count": 242,
   "source": [
    "len(failed_mini_still_2)"
   ],
   "outputs": [
    {
     "output_type": "execute_result",
     "data": {
      "text/plain": [
       "0"
      ]
     },
     "metadata": {},
     "execution_count": 242
    }
   ],
   "metadata": {}
  },
  {
   "cell_type": "code",
   "execution_count": 245,
   "source": [
    "# random_conf_file = '/pubhome/xli02/project/PLIM/deep_learning/FAST/fast_plim/random_conformation/PLIM_unique_cross_target.sdf'\n",
    "# w1 = Chem.SDWriter(random_conf_file)\n",
    "# for m in success_mols:\n",
    "#     w1.write(m)\n",
    "# w1.close()"
   ],
   "outputs": [],
   "metadata": {}
  },
  {
   "cell_type": "code",
   "execution_count": 2,
   "source": [
    "success_mols[1].GetProp('_Name')"
   ],
   "outputs": [],
   "metadata": {}
  },
  {
   "cell_type": "code",
   "execution_count": 3,
   "source": [
    "random_conf_dir = '/pubhome/xli02/project/PLIM/deep_learning/FAST/fast_plim/random_conformation/PLIM_unique_cross_target'\n",
    "for mol in success_mols:\n",
    "    random_conf_file = f'{random_conf_dir}/{mol.GetProp(\"_Name\")}.sdf'\n",
    "    w1 = Chem.SDWriter(random_conf_file)\n",
    "    w1.write(mol)\n",
    "    w1.close()"
   ],
   "outputs": [],
   "metadata": {}
  },
  {
   "cell_type": "code",
   "execution_count": null,
   "source": [],
   "outputs": [],
   "metadata": {}
  },
  {
   "cell_type": "code",
   "execution_count": null,
   "source": [],
   "outputs": [],
   "metadata": {}
  },
  {
   "cell_type": "code",
   "execution_count": 198,
   "source": [
    "# failed_still[0]"
   ],
   "outputs": [
    {
     "output_type": "execute_result",
     "data": {
      "text/plain": [
       "<rdkit.Chem.rdchem.Mol at 0x7fffad417b70>"
      ],
      "image/png": "[encoded data removed]"
     },
     "metadata": {},
     "execution_count": 198
    }
   ],
   "metadata": {}
  },
  {
   "cell_type": "code",
   "execution_count": 197,
   "source": [
    "# mol = Chem.Mol(failed_still[0])\n",
    "# mol = Chem.AddHs(mol)\n",
    "# AllChem.EmbedMolecule(mol)"
   ],
   "outputs": [
    {
     "output_type": "execute_result",
     "data": {
      "text/plain": [
       "0"
      ]
     },
     "metadata": {},
     "execution_count": 197
    }
   ],
   "metadata": {}
  },
  {
   "cell_type": "code",
   "execution_count": null,
   "source": [],
   "outputs": [],
   "metadata": {}
  },
  {
   "cell_type": "code",
   "execution_count": 148,
   "source": [
    "# for mol in compnd_mols[2551:2552]:\n",
    "#     m = Chem.Mol(mol)\n",
    "#     m = Chem.AddHs(m)\n",
    "#     code = AllChem.EmbedMolecule(m)\n",
    "#     if code != 0:\n",
    "#         continue\n",
    "#     code_1 = AllChem.UFFOptimizeMolecule(m)\n",
    "#     print(mol.GetProp('_Name'))"
   ],
   "outputs": [
    {
     "output_type": "stream",
     "name": "stdout",
     "text": [
      "CHEMBL4630_2ayp_CHEMBL1223040\n"
     ]
    },
    {
     "output_type": "stream",
     "name": "stderr",
     "text": [
      "RDKit ERROR: [10:42:26] UFFTYPER: Unrecognized atom type: Se2+2 (0)\n",
      "RDKit ERROR: [10:42:26] UFFTYPER: Unrecognized atom type: Se2+2 (0)\n"
     ]
    }
   ],
   "metadata": {}
  },
  {
   "cell_type": "code",
   "execution_count": 144,
   "source": [
    "# compnd_mols[2551]"
   ],
   "outputs": [
    {
     "output_type": "execute_result",
     "data": {
      "text/plain": [
       "<rdkit.Chem.rdchem.Mol at 0x7fffad513e90>"
      ],
      "image/png": "[encoded data removed]"
     },
     "metadata": {},
     "execution_count": 144
    }
   ],
   "metadata": {}
  },
  {
   "cell_type": "code",
   "execution_count": 149,
   "source": [
    "# code_1"
   ],
   "outputs": [
    {
     "output_type": "execute_result",
     "data": {
      "text/plain": [
       "0"
      ]
     },
     "metadata": {},
     "execution_count": 149
    }
   ],
   "metadata": {}
  },
  {
   "cell_type": "code",
   "execution_count": 152,
   "source": [
    "# p = py3Dmol.view(width=400, height=400)\n",
    "# for m in [mol]:\n",
    "#     mb = Chem.MolToMolBlock(m)\n",
    "#     p.addModel(mb, 'sdf')\n",
    "# p.setStyle({'stick':{}})\n",
    "# # p.setBackgroundColor('0xeeeeee')\n",
    "# p.zoomTo()\n",
    "# p.show()"
   ],
   "outputs": [
    {
     "output_type": "display_data",
     "data": {
      "application/3dmoljs_load.v0": "<div id=\"3dmolviewer_16287361893375058\"  style=\"position: relative; width: 400px; height: 400px\">\n        <p id=\"3dmolwarning_16287361893375058\" style=\"background-color:#ffcccc;color:black\">You appear to be running in JupyterLab (or JavaScript failed to load for some other reason).  You need to install the 3dmol extension: <br>\n        <tt>jupyter labextension install jupyterlab_3dmol</tt></p>\n        </div>\n<script>\n\nvar loadScriptAsync = function(uri){\n  return new Promise((resolve, reject) => {\n    var tag = document.createElement('script');\n    tag.src = uri;\n    tag.async = true;\n    tag.onload = () => {\n      resolve();\n    };\n  var firstScriptTag = document.getElementsByTagName('script')[0];\n  firstScriptTag.parentNode.insertBefore(tag, firstScriptTag);\n});\n};\n\nif(typeof $3Dmolpromise === 'undefined') {\n$3Dmolpromise = null;\n  $3Dmolpromise = loadScriptAsync('https://3dmol.org/build/3Dmol.js');\n}\n\nvar viewer_16287361893375058 = null;\nvar warn = document.getElementById(\"3dmolwarning_16287361893375058\");\nif(warn) {\n    warn.parentNode.removeChild(warn);\n}\n$3Dmolpromise.then(function() {\nviewer_16287361893375058 = $3Dmol.createViewer($(\"#3dmolviewer_16287361893375058\"),{backgroundColor:\"white\"});\nviewer_16287361893375058.zoomTo();\n\tviewer_16287361893375058.addModel(\"CHEMBL4630_2ayp_CHEMBL1223040\\n     RDKit          3D\\n\\n 25 28  0  0  0  0  0  0  0  0999 V2000\\n    0.5570   -4.8970   19.2430 Se  0  0  0  0  0  2  0  0  0  0  0  0\\n    3.9920   -1.1790   20.4780 O   0  0  0  0  0  0  0  0  0  0  0  0\\n   13.2000   -3.5510   14.4210 O   0  0  0  0  0  0  0  0  0  0  0  0\\n   12.0480   -1.0800   14.7230 O   0  0  0  0  0  0  0  0  0  0  0  0\\n    5.9000   -1.4090   19.2880 N   0  0  0  0  0  0  0  0  0  0  0  0\\n   11.4970    0.2090   14.9220 C   0  0  0  0  0  0  0  0  0  0  0  0\\n   -0.6590   -3.7770   20.1370 C   0  0  0  0  0  0  0  0  0  0  0  0\\n   -0.0740   -2.5330   20.3820 C   0  0  0  0  0  0  0  0  0  0  0  0\\n    1.2400   -2.3820   19.9410 C   0  0  0  0  0  0  0  0  0  0  0  0\\n   11.3120   -4.5840   15.4220 C   0  0  0  0  0  0  0  0  0  0  0  0\\n   10.0260   -4.5350   15.9780 C   0  0  0  0  0  0  0  0  0  0  0  0\\n    7.0830   -4.2790   16.5260 C   0  0  0  0  0  0  0  0  0  0  0  0\\n    5.8210   -4.2930   17.1600 C   0  0  0  0  0  0  0  0  0  0  0  0\\n    3.1630   -3.6680   18.7460 C   0  0  0  0  0  0  0  0  0  0  0  0\\n   10.0340   -2.1230   15.7220 C   0  0  0  0  0  0  0  0  0  0  0  0\\n    7.7390   -2.2790   17.7680 C   0  0  0  0  0  0  0  0  0  0  0  0\\n    1.8120   -3.4920   19.3120 C   0  0  0  0  0  0  0  0  0  0  0  0\\n    4.6510   -1.7710   19.6260 C   0  0  0  0  0  0  0  0  0  0  0  0\\n   11.9630   -3.4270   14.9920 C   0  0  0  0  0  0  0  0  0  0  0  0\\n   11.3340   -2.1760   15.1450 C   0  0  0  0  0  0  0  0  0  0  0  0\\n    6.4690   -2.2980   18.3710 C   0  0  0  0  0  0  0  0  0  0  0  0\\n    9.3680   -3.3020   16.1430 C   0  0  0  0  0  0  0  0  0  0  0  0\\n    8.0510   -3.2770   16.8110 C   0  0  0  0  0  0  0  0  0  0  0  0\\n    4.3210   -2.9700   18.8370 C   0  0  0  0  0  0  0  0  0  0  0  0\\n    5.5350   -3.2760   18.0860 C   0  0  0  0  0  0  0  0  0  0  0  0\\n  1  7  1  0\\n  1 17  1  0\\n  2 18  2  0\\n  3 19  1  0\\n  4  6  1  0\\n  4 20  1  0\\n  5 18  1  0\\n  5 21  1  0\\n  7  8  2  0\\n  8  9  1  0\\n  9 17  2  0\\n 10 11  2  0\\n 10 19  1  0\\n 11 22  1  0\\n 12 13  1  0\\n 12 23  2  0\\n 13 25  2  0\\n 14 17  1  0\\n 14 24  2  0\\n 15 20  1  0\\n 15 22  2  0\\n 16 21  2  0\\n 16 23  1  0\\n 18 24  1  0\\n 19 20  2  0\\n 21 25  1  0\\n 22 23  1  0\\n 24 25  1  0\\nM  END\\n\",\"sdf\");\n\tviewer_16287361893375058.setStyle({\"stick\": {}});\n\tviewer_16287361893375058.zoomTo();\nviewer_16287361893375058.render();\n});\n</script>",
      "text/html": [
       "<div id=\"3dmolviewer_16287361893375058\"  style=\"position: relative; width: 400px; height: 400px\">\n",
       "        <p id=\"3dmolwarning_16287361893375058\" style=\"background-color:#ffcccc;color:black\">You appear to be running in JupyterLab (or JavaScript failed to load for some other reason).  You need to install the 3dmol extension: <br>\n",
       "        <tt>jupyter labextension install jupyterlab_3dmol</tt></p>\n",
       "        </div>\n",
       "<script>\n",
       "\n",
       "var loadScriptAsync = function(uri){\n",
       "  return new Promise((resolve, reject) => {\n",
       "    var tag = document.createElement('script');\n",
       "    tag.src = uri;\n",
       "    tag.async = true;\n",
       "    tag.onload = () => {\n",
       "      resolve();\n",
       "    };\n",
       "  var firstScriptTag = document.getElementsByTagName('script')[0];\n",
       "  firstScriptTag.parentNode.insertBefore(tag, firstScriptTag);\n",
       "});\n",
       "};\n",
       "\n",
       "if(typeof $3Dmolpromise === 'undefined') {\n",
       "$3Dmolpromise = null;\n",
       "  $3Dmolpromise = loadScriptAsync('https://3dmol.org/build/3Dmol.js');\n",
       "}\n",
       "\n",
       "var viewer_16287361893375058 = null;\n",
       "var warn = document.getElementById(\"3dmolwarning_16287361893375058\");\n",
       "if(warn) {\n",
       "    warn.parentNode.removeChild(warn);\n",
       "}\n",
       "$3Dmolpromise.then(function() {\n",
       "viewer_16287361893375058 = $3Dmol.createViewer($(\"#3dmolviewer_16287361893375058\"),{backgroundColor:\"white\"});\n",
       "viewer_16287361893375058.zoomTo();\n",
       "\tviewer_16287361893375058.addModel(\"CHEMBL4630_2ayp_CHEMBL1223040\\n     RDKit          3D\\n\\n 25 28  0  0  0  0  0  0  0  0999 V2000\\n    0.5570   -4.8970   19.2430 Se  0  0  0  0  0  2  0  0  0  0  0  0\\n    3.9920   -1.1790   20.4780 O   0  0  0  0  0  0  0  0  0  0  0  0\\n   13.2000   -3.5510   14.4210 O   0  0  0  0  0  0  0  0  0  0  0  0\\n   12.0480   -1.0800   14.7230 O   0  0  0  0  0  0  0  0  0  0  0  0\\n    5.9000   -1.4090   19.2880 N   0  0  0  0  0  0  0  0  0  0  0  0\\n   11.4970    0.2090   14.9220 C   0  0  0  0  0  0  0  0  0  0  0  0\\n   -0.6590   -3.7770   20.1370 C   0  0  0  0  0  0  0  0  0  0  0  0\\n   -0.0740   -2.5330   20.3820 C   0  0  0  0  0  0  0  0  0  0  0  0\\n    1.2400   -2.3820   19.9410 C   0  0  0  0  0  0  0  0  0  0  0  0\\n   11.3120   -4.5840   15.4220 C   0  0  0  0  0  0  0  0  0  0  0  0\\n   10.0260   -4.5350   15.9780 C   0  0  0  0  0  0  0  0  0  0  0  0\\n    7.0830   -4.2790   16.5260 C   0  0  0  0  0  0  0  0  0  0  0  0\\n    5.8210   -4.2930   17.1600 C   0  0  0  0  0  0  0  0  0  0  0  0\\n    3.1630   -3.6680   18.7460 C   0  0  0  0  0  0  0  0  0  0  0  0\\n   10.0340   -2.1230   15.7220 C   0  0  0  0  0  0  0  0  0  0  0  0\\n    7.7390   -2.2790   17.7680 C   0  0  0  0  0  0  0  0  0  0  0  0\\n    1.8120   -3.4920   19.3120 C   0  0  0  0  0  0  0  0  0  0  0  0\\n    4.6510   -1.7710   19.6260 C   0  0  0  0  0  0  0  0  0  0  0  0\\n   11.9630   -3.4270   14.9920 C   0  0  0  0  0  0  0  0  0  0  0  0\\n   11.3340   -2.1760   15.1450 C   0  0  0  0  0  0  0  0  0  0  0  0\\n    6.4690   -2.2980   18.3710 C   0  0  0  0  0  0  0  0  0  0  0  0\\n    9.3680   -3.3020   16.1430 C   0  0  0  0  0  0  0  0  0  0  0  0\\n    8.0510   -3.2770   16.8110 C   0  0  0  0  0  0  0  0  0  0  0  0\\n    4.3210   -2.9700   18.8370 C   0  0  0  0  0  0  0  0  0  0  0  0\\n    5.5350   -3.2760   18.0860 C   0  0  0  0  0  0  0  0  0  0  0  0\\n  1  7  1  0\\n  1 17  1  0\\n  2 18  2  0\\n  3 19  1  0\\n  4  6  1  0\\n  4 20  1  0\\n  5 18  1  0\\n  5 21  1  0\\n  7  8  2  0\\n  8  9  1  0\\n  9 17  2  0\\n 10 11  2  0\\n 10 19  1  0\\n 11 22  1  0\\n 12 13  1  0\\n 12 23  2  0\\n 13 25  2  0\\n 14 17  1  0\\n 14 24  2  0\\n 15 20  1  0\\n 15 22  2  0\\n 16 21  2  0\\n 16 23  1  0\\n 18 24  1  0\\n 19 20  2  0\\n 21 25  1  0\\n 22 23  1  0\\n 24 25  1  0\\nM  END\\n\",\"sdf\");\n",
       "\tviewer_16287361893375058.setStyle({\"stick\": {}});\n",
       "\tviewer_16287361893375058.zoomTo();\n",
       "viewer_16287361893375058.render();\n",
       "});\n",
       "</script>"
      ]
     },
     "metadata": {}
    }
   ],
   "metadata": {}
  },
  {
   "cell_type": "code",
   "execution_count": null,
   "source": [],
   "outputs": [],
   "metadata": {}
  },
  {
   "cell_type": "code",
   "execution_count": 4,
   "source": [
    "# log_file = '/pubhome/xli02/project/PLIM/deep_learning/FAST/fast_plim/2-train/complex/complex_6A/shuffle_true/log/PLIM_unique_within_target_complex_shuffle_true_pock_6A_epoch_300.log'\n",
    "# with open(log_file, 'r') as f:\n",
    "#     lines = f.readlines()"
   ],
   "outputs": [],
   "metadata": {}
  },
  {
   "cell_type": "code",
   "execution_count": 5,
   "source": [
    "# R2=[]\n",
    "# for line in lines:\n",
    "#     if 'Performance on validate set' in line:\n",
    "#         R2.append(float(line.split('\\t')[2].split(':')[1]))"
   ],
   "outputs": [],
   "metadata": {}
  },
  {
   "cell_type": "code",
   "execution_count": 8,
   "source": [
    "# R2[1]"
   ],
   "outputs": [
    {
     "output_type": "execute_result",
     "data": {
      "text/plain": [
       "0.19772762387835874"
      ]
     },
     "metadata": {},
     "execution_count": 8
    }
   ],
   "metadata": {}
  },
  {
   "cell_type": "code",
   "execution_count": 7,
   "source": [
    "# len(R2)"
   ],
   "outputs": [
    {
     "output_type": "execute_result",
     "data": {
      "text/plain": [
       "150"
      ]
     },
     "metadata": {},
     "execution_count": 7
    }
   ],
   "metadata": {}
  },
  {
   "cell_type": "code",
   "execution_count": 9,
   "source": [
    "# max(R2)"
   ],
   "outputs": [
    {
     "output_type": "execute_result",
     "data": {
      "text/plain": [
       "0.6151803006345422"
      ]
     },
     "metadata": {},
     "execution_count": 9
    }
   ],
   "metadata": {}
  }
 ],
 "metadata": {
  "orig_nbformat": 4,
  "language_info": {
   "name": "python",
   "version": "3.6.13",
   "mimetype": "text/x-python",
   "codemirror_mode": {
    "name": "ipython",
    "version": 3
   },
   "pygments_lexer": "ipython3",
   "nbconvert_exporter": "python",
   "file_extension": ".py"
  },
  "kernelspec": {
   "name": "python3",
   "display_name": "Python 3.6.13 64-bit ('fast': conda)"
  },
  "interpreter": {
   "hash": "5392cf84ae432ebab9f45f1fd0edec7dfa96ae36dec81e4e087ac13f199efb24"
  }
 },
 "nbformat": 4,
 "nbformat_minor": 2
}