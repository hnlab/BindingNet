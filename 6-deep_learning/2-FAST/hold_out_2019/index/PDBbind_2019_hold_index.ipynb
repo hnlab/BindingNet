{
 "cells": [
  {
   "cell_type": "code",
   "execution_count": 1,
   "metadata": {},
   "outputs": [],
   "source": [
    "import pandas as pd\n",
    "from pathlib import Path\n",
    "from rdkit import Chem\n",
    "from rdkit.Chem import rdMolDescriptors, Draw, AllChem\n",
    "from rdkit import DataStructs\n",
    "\n",
    "from matplotlib import pyplot as plt\n",
    "import seaborn as sns"
   ]
  },
  {
   "cell_type": "code",
   "execution_count": 2,
   "metadata": {},
   "outputs": [
    {
     "data": {
      "text/plain": [
       "5907"
      ]
     },
     "execution_count": 2,
     "metadata": {},
     "output_type": "execute_result"
    }
   ],
   "source": [
    "PDBbind_minimized_intersected_Uw_df = pd.read_csv('/pubhome/xli02/project/PLIM/v2019_dataset/index/For_ML/PIP.csv', sep='\\t')\n",
    "len(PDBbind_minimized_intersected_Uw_df)"
   ]
  },
  {
   "cell_type": "code",
   "execution_count": 2,
   "metadata": {},
   "outputs": [
    {
     "data": {
      "text/html": [
       "<div>\n",
       "<style scoped>\n",
       "    .dataframe tbody tr th:only-of-type {\n",
       "        vertical-align: middle;\n",
       "    }\n",
       "\n",
       "    .dataframe tbody tr th {\n",
       "        vertical-align: top;\n",
       "    }\n",
       "\n",
       "    .dataframe thead th {\n",
       "        text-align: right;\n",
       "    }\n",
       "</style>\n",
       "<table border=\"1\" class=\"dataframe\">\n",
       "  <thead>\n",
       "    <tr style=\"text-align: right;\">\n",
       "      <th></th>\n",
       "      <th>pdb_id</th>\n",
       "      <th>-logAffi</th>\n",
       "    </tr>\n",
       "  </thead>\n",
       "  <tbody>\n",
       "    <tr>\n",
       "      <th>0</th>\n",
       "      <td>3zzf</td>\n",
       "      <td>0.40</td>\n",
       "    </tr>\n",
       "    <tr>\n",
       "      <th>1</th>\n",
       "      <td>3gww</td>\n",
       "      <td>0.45</td>\n",
       "    </tr>\n",
       "    <tr>\n",
       "      <th>2</th>\n",
       "      <td>1w8l</td>\n",
       "      <td>0.49</td>\n",
       "    </tr>\n",
       "    <tr>\n",
       "      <th>3</th>\n",
       "      <td>3fqa</td>\n",
       "      <td>0.49</td>\n",
       "    </tr>\n",
       "    <tr>\n",
       "      <th>4</th>\n",
       "      <td>1zsb</td>\n",
       "      <td>0.60</td>\n",
       "    </tr>\n",
       "    <tr>\n",
       "      <th>...</th>\n",
       "      <td>...</td>\n",
       "      <td>...</td>\n",
       "    </tr>\n",
       "    <tr>\n",
       "      <th>16146</th>\n",
       "      <td>7cpa</td>\n",
       "      <td>13.96</td>\n",
       "    </tr>\n",
       "    <tr>\n",
       "      <th>16147</th>\n",
       "      <td>2xuf</td>\n",
       "      <td>14.39</td>\n",
       "    </tr>\n",
       "    <tr>\n",
       "      <th>16148</th>\n",
       "      <td>1avd</td>\n",
       "      <td>15.00</td>\n",
       "    </tr>\n",
       "    <tr>\n",
       "      <th>16149</th>\n",
       "      <td>2xui</td>\n",
       "      <td>15.00</td>\n",
       "    </tr>\n",
       "    <tr>\n",
       "      <th>16150</th>\n",
       "      <td>2avi</td>\n",
       "      <td>15.22</td>\n",
       "    </tr>\n",
       "  </tbody>\n",
       "</table>\n",
       "<p>16151 rows × 2 columns</p>\n",
       "</div>"
      ],
      "text/plain": [
       "      pdb_id  -logAffi\n",
       "0       3zzf      0.40\n",
       "1       3gww      0.45\n",
       "2       1w8l      0.49\n",
       "3       3fqa      0.49\n",
       "4       1zsb      0.60\n",
       "...      ...       ...\n",
       "16146   7cpa     13.96\n",
       "16147   2xuf     14.39\n",
       "16148   1avd     15.00\n",
       "16149   2xui     15.00\n",
       "16150   2avi     15.22\n",
       "\n",
       "[16151 rows x 2 columns]"
      ]
     },
     "execution_count": 2,
     "metadata": {},
     "output_type": "execute_result"
    }
   ],
   "source": [
    "PDBbind_v18 = pd.read_csv('INDEX_general_PL_data.2018.grepped', sep=' ', names=['pdb_id', '-logAffi'])\n",
    "PDBbind_v18"
   ]
  },
  {
   "cell_type": "markdown",
   "metadata": {},
   "source": [
    "# PDBbind original"
   ]
  },
  {
   "cell_type": "code",
   "execution_count": 3,
   "metadata": {},
   "outputs": [
    {
     "data": {
      "text/html": [
       "<div>\n",
       "<style scoped>\n",
       "    .dataframe tbody tr th:only-of-type {\n",
       "        vertical-align: middle;\n",
       "    }\n",
       "\n",
       "    .dataframe tbody tr th {\n",
       "        vertical-align: top;\n",
       "    }\n",
       "\n",
       "    .dataframe thead th {\n",
       "        text-align: right;\n",
       "    }\n",
       "</style>\n",
       "<table border=\"1\" class=\"dataframe\">\n",
       "  <thead>\n",
       "    <tr style=\"text-align: right;\">\n",
       "      <th></th>\n",
       "      <th>pdb_id</th>\n",
       "      <th>-logAffi</th>\n",
       "    </tr>\n",
       "  </thead>\n",
       "  <tbody>\n",
       "    <tr>\n",
       "      <th>0</th>\n",
       "      <td>3zzf</td>\n",
       "      <td>0.40</td>\n",
       "    </tr>\n",
       "    <tr>\n",
       "      <th>1</th>\n",
       "      <td>3gww</td>\n",
       "      <td>0.45</td>\n",
       "    </tr>\n",
       "    <tr>\n",
       "      <th>2</th>\n",
       "      <td>1w8l</td>\n",
       "      <td>0.49</td>\n",
       "    </tr>\n",
       "    <tr>\n",
       "      <th>3</th>\n",
       "      <td>3fqa</td>\n",
       "      <td>0.49</td>\n",
       "    </tr>\n",
       "    <tr>\n",
       "      <th>4</th>\n",
       "      <td>1zsb</td>\n",
       "      <td>0.60</td>\n",
       "    </tr>\n",
       "    <tr>\n",
       "      <th>...</th>\n",
       "      <td>...</td>\n",
       "      <td>...</td>\n",
       "    </tr>\n",
       "    <tr>\n",
       "      <th>17674</th>\n",
       "      <td>7cpa</td>\n",
       "      <td>13.96</td>\n",
       "    </tr>\n",
       "    <tr>\n",
       "      <th>17675</th>\n",
       "      <td>2xuf</td>\n",
       "      <td>14.39</td>\n",
       "    </tr>\n",
       "    <tr>\n",
       "      <th>17676</th>\n",
       "      <td>1avd</td>\n",
       "      <td>15.00</td>\n",
       "    </tr>\n",
       "    <tr>\n",
       "      <th>17677</th>\n",
       "      <td>2xui</td>\n",
       "      <td>15.00</td>\n",
       "    </tr>\n",
       "    <tr>\n",
       "      <th>17678</th>\n",
       "      <td>2avi</td>\n",
       "      <td>15.22</td>\n",
       "    </tr>\n",
       "  </tbody>\n",
       "</table>\n",
       "<p>17679 rows × 2 columns</p>\n",
       "</div>"
      ],
      "text/plain": [
       "      pdb_id  -logAffi\n",
       "0       3zzf      0.40\n",
       "1       3gww      0.45\n",
       "2       1w8l      0.49\n",
       "3       3fqa      0.49\n",
       "4       1zsb      0.60\n",
       "...      ...       ...\n",
       "17674   7cpa     13.96\n",
       "17675   2xuf     14.39\n",
       "17676   1avd     15.00\n",
       "17677   2xui     15.00\n",
       "17678   2avi     15.22\n",
       "\n",
       "[17679 rows x 2 columns]"
      ]
     },
     "execution_count": 3,
     "metadata": {},
     "output_type": "execute_result"
    }
   ],
   "source": [
    "PDBbind_v19 = pd.read_csv('/pubhome/xli02/Downloads/dataset/PDBbind/PDBbind_v2019/INDEX_general_PL_data_grepped.2019', sep='\\t')\n",
    "PDBbind_v19"
   ]
  },
  {
   "cell_type": "code",
   "execution_count": 13,
   "metadata": {},
   "outputs": [
    {
     "data": {
      "text/plain": [
       "1528"
      ]
     },
     "execution_count": 13,
     "metadata": {},
     "output_type": "execute_result"
    }
   ],
   "source": [
    "17679 - 16151"
   ]
  },
  {
   "cell_type": "code",
   "execution_count": 23,
   "metadata": {},
   "outputs": [
    {
     "data": {
      "text/plain": [
       "14"
      ]
     },
     "execution_count": 23,
     "metadata": {},
     "output_type": "execute_result"
    }
   ],
   "source": [
    "len(PDBbind_v18[~PDBbind_v18['pdb_id'].isin(PDBbind_v19['pdb_id'])])"
   ]
  },
  {
   "cell_type": "code",
   "execution_count": 4,
   "metadata": {},
   "outputs": [
    {
     "data": {
      "text/html": [
       "<div>\n",
       "<style scoped>\n",
       "    .dataframe tbody tr th:only-of-type {\n",
       "        vertical-align: middle;\n",
       "    }\n",
       "\n",
       "    .dataframe tbody tr th {\n",
       "        vertical-align: top;\n",
       "    }\n",
       "\n",
       "    .dataframe thead th {\n",
       "        text-align: right;\n",
       "    }\n",
       "</style>\n",
       "<table border=\"1\" class=\"dataframe\">\n",
       "  <thead>\n",
       "    <tr style=\"text-align: right;\">\n",
       "      <th></th>\n",
       "      <th>pdb_id</th>\n",
       "      <th>-logAffi</th>\n",
       "    </tr>\n",
       "  </thead>\n",
       "  <tbody>\n",
       "    <tr>\n",
       "      <th>3332</th>\n",
       "      <td>6b8i</td>\n",
       "      <td>4.72</td>\n",
       "    </tr>\n",
       "    <tr>\n",
       "      <th>6334</th>\n",
       "      <td>1zlw</td>\n",
       "      <td>5.89</td>\n",
       "    </tr>\n",
       "    <tr>\n",
       "      <th>7161</th>\n",
       "      <td>1zlv</td>\n",
       "      <td>6.15</td>\n",
       "    </tr>\n",
       "    <tr>\n",
       "      <th>7393</th>\n",
       "      <td>1kdv</td>\n",
       "      <td>6.22</td>\n",
       "    </tr>\n",
       "    <tr>\n",
       "      <th>7929</th>\n",
       "      <td>1kdy</td>\n",
       "      <td>6.38</td>\n",
       "    </tr>\n",
       "    <tr>\n",
       "      <th>8947</th>\n",
       "      <td>1qy5</td>\n",
       "      <td>6.70</td>\n",
       "    </tr>\n",
       "    <tr>\n",
       "      <th>9029</th>\n",
       "      <td>5v8n</td>\n",
       "      <td>6.70</td>\n",
       "    </tr>\n",
       "    <tr>\n",
       "      <th>9824</th>\n",
       "      <td>1zls</td>\n",
       "      <td>7.00</td>\n",
       "    </tr>\n",
       "    <tr>\n",
       "      <th>9825</th>\n",
       "      <td>1zlu</td>\n",
       "      <td>7.00</td>\n",
       "    </tr>\n",
       "    <tr>\n",
       "      <th>10683</th>\n",
       "      <td>1ke1</td>\n",
       "      <td>7.25</td>\n",
       "    </tr>\n",
       "    <tr>\n",
       "      <th>10973</th>\n",
       "      <td>1ke2</td>\n",
       "      <td>7.35</td>\n",
       "    </tr>\n",
       "    <tr>\n",
       "      <th>11692</th>\n",
       "      <td>2nbk</td>\n",
       "      <td>7.57</td>\n",
       "    </tr>\n",
       "    <tr>\n",
       "      <th>13621</th>\n",
       "      <td>1kdz</td>\n",
       "      <td>8.22</td>\n",
       "    </tr>\n",
       "    <tr>\n",
       "      <th>15538</th>\n",
       "      <td>5j7h</td>\n",
       "      <td>9.43</td>\n",
       "    </tr>\n",
       "  </tbody>\n",
       "</table>\n",
       "</div>"
      ],
      "text/plain": [
       "      pdb_id  -logAffi\n",
       "3332    6b8i      4.72\n",
       "6334    1zlw      5.89\n",
       "7161    1zlv      6.15\n",
       "7393    1kdv      6.22\n",
       "7929    1kdy      6.38\n",
       "8947    1qy5      6.70\n",
       "9029    5v8n      6.70\n",
       "9824    1zls      7.00\n",
       "9825    1zlu      7.00\n",
       "10683   1ke1      7.25\n",
       "10973   1ke2      7.35\n",
       "11692   2nbk      7.57\n",
       "13621   1kdz      8.22\n",
       "15538   5j7h      9.43"
      ]
     },
     "execution_count": 4,
     "metadata": {},
     "output_type": "execute_result"
    }
   ],
   "source": [
    "PDBbind_v18[~PDBbind_v18['pdb_id'].isin(PDBbind_v19['pdb_id'])]"
   ]
  },
  {
   "cell_type": "code",
   "execution_count": 22,
   "metadata": {},
   "outputs": [
    {
     "data": {
      "text/plain": [
       "16137"
      ]
     },
     "execution_count": 22,
     "metadata": {},
     "output_type": "execute_result"
    }
   ],
   "source": [
    "len(PDBbind_v19[PDBbind_v19['pdb_id'].isin(PDBbind_v18['pdb_id'])])"
   ]
  },
  {
   "cell_type": "code",
   "execution_count": 9,
   "metadata": {},
   "outputs": [
    {
     "data": {
      "text/html": [
       "<div>\n",
       "<style scoped>\n",
       "    .dataframe tbody tr th:only-of-type {\n",
       "        vertical-align: middle;\n",
       "    }\n",
       "\n",
       "    .dataframe tbody tr th {\n",
       "        vertical-align: top;\n",
       "    }\n",
       "\n",
       "    .dataframe thead th {\n",
       "        text-align: right;\n",
       "    }\n",
       "</style>\n",
       "<table border=\"1\" class=\"dataframe\">\n",
       "  <thead>\n",
       "    <tr style=\"text-align: right;\">\n",
       "      <th></th>\n",
       "      <th>pdb_id</th>\n",
       "      <th>-logAffi</th>\n",
       "    </tr>\n",
       "  </thead>\n",
       "  <tbody>\n",
       "    <tr>\n",
       "      <th>26</th>\n",
       "      <td>5oxm</td>\n",
       "      <td>1.30</td>\n",
       "    </tr>\n",
       "    <tr>\n",
       "      <th>46</th>\n",
       "      <td>5vqe</td>\n",
       "      <td>1.49</td>\n",
       "    </tr>\n",
       "    <tr>\n",
       "      <th>72</th>\n",
       "      <td>6cex</td>\n",
       "      <td>1.70</td>\n",
       "    </tr>\n",
       "    <tr>\n",
       "      <th>73</th>\n",
       "      <td>6cf5</td>\n",
       "      <td>1.70</td>\n",
       "    </tr>\n",
       "    <tr>\n",
       "      <th>100</th>\n",
       "      <td>1mwt</td>\n",
       "      <td>1.88</td>\n",
       "    </tr>\n",
       "    <tr>\n",
       "      <th>...</th>\n",
       "      <td>...</td>\n",
       "      <td>...</td>\n",
       "    </tr>\n",
       "    <tr>\n",
       "      <th>17617</th>\n",
       "      <td>5qil</td>\n",
       "      <td>11.52</td>\n",
       "    </tr>\n",
       "    <tr>\n",
       "      <th>17633</th>\n",
       "      <td>6cdj</td>\n",
       "      <td>11.70</td>\n",
       "    </tr>\n",
       "    <tr>\n",
       "      <th>17643</th>\n",
       "      <td>6e9a</td>\n",
       "      <td>11.92</td>\n",
       "    </tr>\n",
       "    <tr>\n",
       "      <th>17650</th>\n",
       "      <td>6b5m</td>\n",
       "      <td>12.00</td>\n",
       "    </tr>\n",
       "    <tr>\n",
       "      <th>17657</th>\n",
       "      <td>6c8x</td>\n",
       "      <td>12.30</td>\n",
       "    </tr>\n",
       "  </tbody>\n",
       "</table>\n",
       "<p>1542 rows × 2 columns</p>\n",
       "</div>"
      ],
      "text/plain": [
       "      pdb_id  -logAffi\n",
       "26      5oxm      1.30\n",
       "46      5vqe      1.49\n",
       "72      6cex      1.70\n",
       "73      6cf5      1.70\n",
       "100     1mwt      1.88\n",
       "...      ...       ...\n",
       "17617   5qil     11.52\n",
       "17633   6cdj     11.70\n",
       "17643   6e9a     11.92\n",
       "17650   6b5m     12.00\n",
       "17657   6c8x     12.30\n",
       "\n",
       "[1542 rows x 2 columns]"
      ]
     },
     "execution_count": 9,
     "metadata": {},
     "output_type": "execute_result"
    }
   ],
   "source": [
    "PDBbind_hold_out_2019 = PDBbind_v19[~PDBbind_v19['pdb_id'].isin(PDBbind_v18['pdb_id'])]\n",
    "# PDBbind_hold_out_2019.to_csv('PDBbind_hold_out_2019_original.csv', sep='\\t', index=False)\n",
    "PDBbind_hold_out_2019"
   ]
  },
  {
   "cell_type": "code",
   "execution_count": 7,
   "metadata": {},
   "outputs": [
    {
     "data": {
      "text/html": [
       "<div>\n",
       "<style scoped>\n",
       "    .dataframe tbody tr th:only-of-type {\n",
       "        vertical-align: middle;\n",
       "    }\n",
       "\n",
       "    .dataframe tbody tr th {\n",
       "        vertical-align: top;\n",
       "    }\n",
       "\n",
       "    .dataframe thead th {\n",
       "        text-align: right;\n",
       "    }\n",
       "</style>\n",
       "<table border=\"1\" class=\"dataframe\">\n",
       "  <thead>\n",
       "    <tr style=\"text-align: right;\">\n",
       "      <th></th>\n",
       "      <th>pdb_id</th>\n",
       "      <th>year</th>\n",
       "    </tr>\n",
       "  </thead>\n",
       "  <tbody>\n",
       "    <tr>\n",
       "      <th>0</th>\n",
       "      <td>3zzf</td>\n",
       "      <td>2012</td>\n",
       "    </tr>\n",
       "    <tr>\n",
       "      <th>1</th>\n",
       "      <td>3gww</td>\n",
       "      <td>2009</td>\n",
       "    </tr>\n",
       "    <tr>\n",
       "      <th>2</th>\n",
       "      <td>1w8l</td>\n",
       "      <td>2004</td>\n",
       "    </tr>\n",
       "    <tr>\n",
       "      <th>3</th>\n",
       "      <td>3fqa</td>\n",
       "      <td>2009</td>\n",
       "    </tr>\n",
       "    <tr>\n",
       "      <th>4</th>\n",
       "      <td>1zsb</td>\n",
       "      <td>1996</td>\n",
       "    </tr>\n",
       "    <tr>\n",
       "      <th>...</th>\n",
       "      <td>...</td>\n",
       "      <td>...</td>\n",
       "    </tr>\n",
       "    <tr>\n",
       "      <th>17674</th>\n",
       "      <td>7cpa</td>\n",
       "      <td>1994</td>\n",
       "    </tr>\n",
       "    <tr>\n",
       "      <th>17675</th>\n",
       "      <td>2xuf</td>\n",
       "      <td>2010</td>\n",
       "    </tr>\n",
       "    <tr>\n",
       "      <th>17676</th>\n",
       "      <td>1avd</td>\n",
       "      <td>1994</td>\n",
       "    </tr>\n",
       "    <tr>\n",
       "      <th>17677</th>\n",
       "      <td>2xui</td>\n",
       "      <td>2010</td>\n",
       "    </tr>\n",
       "    <tr>\n",
       "      <th>17678</th>\n",
       "      <td>2avi</td>\n",
       "      <td>1993</td>\n",
       "    </tr>\n",
       "  </tbody>\n",
       "</table>\n",
       "<p>17679 rows × 2 columns</p>\n",
       "</div>"
      ],
      "text/plain": [
       "      pdb_id  year\n",
       "0       3zzf  2012\n",
       "1       3gww  2009\n",
       "2       1w8l  2004\n",
       "3       3fqa  2009\n",
       "4       1zsb  1996\n",
       "...      ...   ...\n",
       "17674   7cpa  1994\n",
       "17675   2xuf  2010\n",
       "17676   1avd  1994\n",
       "17677   2xui  2010\n",
       "17678   2avi  1993\n",
       "\n",
       "[17679 rows x 2 columns]"
      ]
     },
     "execution_count": 7,
     "metadata": {},
     "output_type": "execute_result"
    }
   ],
   "source": [
    "pdbbind_v19_year = pd.read_csv('/pubhome/xli02/project/PLIM/analysis/20220829_paper/distribution/test.csv', sep=' ', header=None, names=['pdb_id', 'year'])\n",
    "pdbbind_v19_year"
   ]
  },
  {
   "cell_type": "code",
   "execution_count": 8,
   "metadata": {},
   "outputs": [
    {
     "data": {
      "text/html": [
       "<div>\n",
       "<style scoped>\n",
       "    .dataframe tbody tr th:only-of-type {\n",
       "        vertical-align: middle;\n",
       "    }\n",
       "\n",
       "    .dataframe tbody tr th {\n",
       "        vertical-align: top;\n",
       "    }\n",
       "\n",
       "    .dataframe thead th {\n",
       "        text-align: right;\n",
       "    }\n",
       "</style>\n",
       "<table border=\"1\" class=\"dataframe\">\n",
       "  <thead>\n",
       "    <tr style=\"text-align: right;\">\n",
       "      <th></th>\n",
       "      <th>pdb_id</th>\n",
       "      <th>year</th>\n",
       "    </tr>\n",
       "  </thead>\n",
       "  <tbody>\n",
       "    <tr>\n",
       "      <th>26</th>\n",
       "      <td>5oxm</td>\n",
       "      <td>2018</td>\n",
       "    </tr>\n",
       "    <tr>\n",
       "      <th>46</th>\n",
       "      <td>5vqe</td>\n",
       "      <td>2018</td>\n",
       "    </tr>\n",
       "    <tr>\n",
       "      <th>72</th>\n",
       "      <td>6cex</td>\n",
       "      <td>2018</td>\n",
       "    </tr>\n",
       "    <tr>\n",
       "      <th>73</th>\n",
       "      <td>6cf5</td>\n",
       "      <td>2018</td>\n",
       "    </tr>\n",
       "    <tr>\n",
       "      <th>115</th>\n",
       "      <td>5oxn</td>\n",
       "      <td>2018</td>\n",
       "    </tr>\n",
       "    <tr>\n",
       "      <th>...</th>\n",
       "      <td>...</td>\n",
       "      <td>...</td>\n",
       "    </tr>\n",
       "    <tr>\n",
       "      <th>17617</th>\n",
       "      <td>5qil</td>\n",
       "      <td>2018</td>\n",
       "    </tr>\n",
       "    <tr>\n",
       "      <th>17633</th>\n",
       "      <td>6cdj</td>\n",
       "      <td>2018</td>\n",
       "    </tr>\n",
       "    <tr>\n",
       "      <th>17643</th>\n",
       "      <td>6e9a</td>\n",
       "      <td>2018</td>\n",
       "    </tr>\n",
       "    <tr>\n",
       "      <th>17650</th>\n",
       "      <td>6b5m</td>\n",
       "      <td>2018</td>\n",
       "    </tr>\n",
       "    <tr>\n",
       "      <th>17657</th>\n",
       "      <td>6c8x</td>\n",
       "      <td>2018</td>\n",
       "    </tr>\n",
       "  </tbody>\n",
       "</table>\n",
       "<p>1438 rows × 2 columns</p>\n",
       "</div>"
      ],
      "text/plain": [
       "      pdb_id  year\n",
       "26      5oxm  2018\n",
       "46      5vqe  2018\n",
       "72      6cex  2018\n",
       "73      6cf5  2018\n",
       "115     5oxn  2018\n",
       "...      ...   ...\n",
       "17617   5qil  2018\n",
       "17633   6cdj  2018\n",
       "17643   6e9a  2018\n",
       "17650   6b5m  2018\n",
       "17657   6c8x  2018\n",
       "\n",
       "[1438 rows x 2 columns]"
      ]
     },
     "execution_count": 8,
     "metadata": {},
     "output_type": "execute_result"
    }
   ],
   "source": [
    "pdbbind_v19_year[pdbbind_v19_year['year'] > 2017]['pdb_id']"
   ]
  },
  {
   "cell_type": "code",
   "execution_count": 12,
   "metadata": {},
   "outputs": [
    {
     "data": {
      "text/html": [
       "<div>\n",
       "<style scoped>\n",
       "    .dataframe tbody tr th:only-of-type {\n",
       "        vertical-align: middle;\n",
       "    }\n",
       "\n",
       "    .dataframe tbody tr th {\n",
       "        vertical-align: top;\n",
       "    }\n",
       "\n",
       "    .dataframe thead th {\n",
       "        text-align: right;\n",
       "    }\n",
       "</style>\n",
       "<table border=\"1\" class=\"dataframe\">\n",
       "  <thead>\n",
       "    <tr style=\"text-align: right;\">\n",
       "      <th></th>\n",
       "      <th>pdb_id</th>\n",
       "      <th>-logAffi</th>\n",
       "    </tr>\n",
       "  </thead>\n",
       "  <tbody>\n",
       "    <tr>\n",
       "      <th>100</th>\n",
       "      <td>1mwt</td>\n",
       "      <td>1.88</td>\n",
       "    </tr>\n",
       "    <tr>\n",
       "      <th>197</th>\n",
       "      <td>5fsb</td>\n",
       "      <td>2.22</td>\n",
       "    </tr>\n",
       "    <tr>\n",
       "      <th>269</th>\n",
       "      <td>5fsc</td>\n",
       "      <td>2.36</td>\n",
       "    </tr>\n",
       "    <tr>\n",
       "      <th>863</th>\n",
       "      <td>5ijr</td>\n",
       "      <td>3.20</td>\n",
       "    </tr>\n",
       "    <tr>\n",
       "      <th>1231</th>\n",
       "      <td>5mby</td>\n",
       "      <td>3.51</td>\n",
       "    </tr>\n",
       "    <tr>\n",
       "      <th>...</th>\n",
       "      <td>...</td>\n",
       "      <td>...</td>\n",
       "    </tr>\n",
       "    <tr>\n",
       "      <th>16984</th>\n",
       "      <td>5llo</td>\n",
       "      <td>9.40</td>\n",
       "    </tr>\n",
       "    <tr>\n",
       "      <th>17089</th>\n",
       "      <td>5llc</td>\n",
       "      <td>9.52</td>\n",
       "    </tr>\n",
       "    <tr>\n",
       "      <th>17387</th>\n",
       "      <td>5llh</td>\n",
       "      <td>10.17</td>\n",
       "    </tr>\n",
       "    <tr>\n",
       "      <th>17402</th>\n",
       "      <td>5lle</td>\n",
       "      <td>10.22</td>\n",
       "    </tr>\n",
       "    <tr>\n",
       "      <th>17570</th>\n",
       "      <td>5llg</td>\n",
       "      <td>11.13</td>\n",
       "    </tr>\n",
       "  </tbody>\n",
       "</table>\n",
       "<p>104 rows × 2 columns</p>\n",
       "</div>"
      ],
      "text/plain": [
       "      pdb_id  -logAffi\n",
       "100     1mwt      1.88\n",
       "197     5fsb      2.22\n",
       "269     5fsc      2.36\n",
       "863     5ijr      3.20\n",
       "1231    5mby      3.51\n",
       "...      ...       ...\n",
       "16984   5llo      9.40\n",
       "17089   5llc      9.52\n",
       "17387   5llh     10.17\n",
       "17402   5lle     10.22\n",
       "17570   5llg     11.13\n",
       "\n",
       "[104 rows x 2 columns]"
      ]
     },
     "execution_count": 12,
     "metadata": {},
     "output_type": "execute_result"
    }
   ],
   "source": [
    "not_2018 = PDBbind_hold_out_2019[~PDBbind_hold_out_2019['pdb_id'].isin(pdbbind_v19_year[pdbbind_v19_year['year'] > 2017]['pdb_id'])]\n",
    "not_2018"
   ]
  },
  {
   "cell_type": "markdown",
   "metadata": {},
   "source": [
    "# PDBbind_minimized"
   ]
  },
  {
   "cell_type": "code",
   "execution_count": 16,
   "metadata": {},
   "outputs": [
    {
     "data": {
      "text/html": [
       "<div>\n",
       "<style scoped>\n",
       "    .dataframe tbody tr th:only-of-type {\n",
       "        vertical-align: middle;\n",
       "    }\n",
       "\n",
       "    .dataframe tbody tr th {\n",
       "        vertical-align: top;\n",
       "    }\n",
       "\n",
       "    .dataframe thead th {\n",
       "        text-align: right;\n",
       "    }\n",
       "</style>\n",
       "<table border=\"1\" class=\"dataframe\">\n",
       "  <thead>\n",
       "    <tr style=\"text-align: right;\">\n",
       "      <th></th>\n",
       "      <th>pdb_id</th>\n",
       "      <th>-logAffi</th>\n",
       "    </tr>\n",
       "  </thead>\n",
       "  <tbody>\n",
       "    <tr>\n",
       "      <th>0</th>\n",
       "      <td>3zzf</td>\n",
       "      <td>0.40</td>\n",
       "    </tr>\n",
       "    <tr>\n",
       "      <th>1</th>\n",
       "      <td>3gww</td>\n",
       "      <td>0.45</td>\n",
       "    </tr>\n",
       "    <tr>\n",
       "      <th>2</th>\n",
       "      <td>1w8l</td>\n",
       "      <td>0.49</td>\n",
       "    </tr>\n",
       "    <tr>\n",
       "      <th>3</th>\n",
       "      <td>3fqa</td>\n",
       "      <td>0.49</td>\n",
       "    </tr>\n",
       "    <tr>\n",
       "      <th>4</th>\n",
       "      <td>1zsb</td>\n",
       "      <td>0.60</td>\n",
       "    </tr>\n",
       "    <tr>\n",
       "      <th>...</th>\n",
       "      <td>...</td>\n",
       "      <td>...</td>\n",
       "    </tr>\n",
       "    <tr>\n",
       "      <th>17174</th>\n",
       "      <td>7cpa</td>\n",
       "      <td>13.96</td>\n",
       "    </tr>\n",
       "    <tr>\n",
       "      <th>17175</th>\n",
       "      <td>2xuf</td>\n",
       "      <td>14.39</td>\n",
       "    </tr>\n",
       "    <tr>\n",
       "      <th>17176</th>\n",
       "      <td>1avd</td>\n",
       "      <td>15.00</td>\n",
       "    </tr>\n",
       "    <tr>\n",
       "      <th>17177</th>\n",
       "      <td>2xui</td>\n",
       "      <td>15.00</td>\n",
       "    </tr>\n",
       "    <tr>\n",
       "      <th>17178</th>\n",
       "      <td>2avi</td>\n",
       "      <td>15.22</td>\n",
       "    </tr>\n",
       "  </tbody>\n",
       "</table>\n",
       "<p>17179 rows × 2 columns</p>\n",
       "</div>"
      ],
      "text/plain": [
       "      pdb_id  -logAffi\n",
       "0       3zzf      0.40\n",
       "1       3gww      0.45\n",
       "2       1w8l      0.49\n",
       "3       3fqa      0.49\n",
       "4       1zsb      0.60\n",
       "...      ...       ...\n",
       "17174   7cpa     13.96\n",
       "17175   2xuf     14.39\n",
       "17176   1avd     15.00\n",
       "17177   2xui     15.00\n",
       "17178   2avi     15.22\n",
       "\n",
       "[17179 rows x 2 columns]"
      ]
     },
     "execution_count": 16,
     "metadata": {},
     "output_type": "execute_result"
    }
   ],
   "source": [
    "PDBbind_minimized = pd.read_csv('/pubhome/xli02/project/PLIM/v2019_dataset/index/For_ML/PDBbind_dealt.csv', sep='\\t')\n",
    "PDBbind_minimized"
   ]
  },
  {
   "cell_type": "code",
   "execution_count": 17,
   "metadata": {},
   "outputs": [
    {
     "data": {
      "text/plain": [
       "1028"
      ]
     },
     "execution_count": 17,
     "metadata": {},
     "output_type": "execute_result"
    }
   ],
   "source": [
    "17179 - 16151"
   ]
  },
  {
   "cell_type": "code",
   "execution_count": 24,
   "metadata": {},
   "outputs": [
    {
     "data": {
      "text/plain": [
       "15666"
      ]
     },
     "execution_count": 24,
     "metadata": {},
     "output_type": "execute_result"
    }
   ],
   "source": [
    "PDBBind_v18_minimized = PDBbind_minimized[PDBbind_minimized['pdb_id'].isin(PDBbind_v18['pdb_id'])]\n",
    "PDBBind_v18_minimized.to_csv('minimized/PDBbind_v18_minimized.csv', sep='\\t', index=False)\n",
    "len(PDBBind_v18_minimized)"
   ]
  },
  {
   "cell_type": "code",
   "execution_count": 25,
   "metadata": {},
   "outputs": [
    {
     "data": {
      "text/html": [
       "<div>\n",
       "<style scoped>\n",
       "    .dataframe tbody tr th:only-of-type {\n",
       "        vertical-align: middle;\n",
       "    }\n",
       "\n",
       "    .dataframe tbody tr th {\n",
       "        vertical-align: top;\n",
       "    }\n",
       "\n",
       "    .dataframe thead th {\n",
       "        text-align: right;\n",
       "    }\n",
       "</style>\n",
       "<table border=\"1\" class=\"dataframe\">\n",
       "  <thead>\n",
       "    <tr style=\"text-align: right;\">\n",
       "      <th></th>\n",
       "      <th>pdb_id</th>\n",
       "      <th>-logAffi</th>\n",
       "    </tr>\n",
       "  </thead>\n",
       "  <tbody>\n",
       "    <tr>\n",
       "      <th>26</th>\n",
       "      <td>5oxm</td>\n",
       "      <td>1.30</td>\n",
       "    </tr>\n",
       "    <tr>\n",
       "      <th>46</th>\n",
       "      <td>5vqe</td>\n",
       "      <td>1.49</td>\n",
       "    </tr>\n",
       "    <tr>\n",
       "      <th>70</th>\n",
       "      <td>6cex</td>\n",
       "      <td>1.70</td>\n",
       "    </tr>\n",
       "    <tr>\n",
       "      <th>71</th>\n",
       "      <td>6cf5</td>\n",
       "      <td>1.70</td>\n",
       "    </tr>\n",
       "    <tr>\n",
       "      <th>96</th>\n",
       "      <td>1mwt</td>\n",
       "      <td>1.88</td>\n",
       "    </tr>\n",
       "    <tr>\n",
       "      <th>...</th>\n",
       "      <td>...</td>\n",
       "      <td>...</td>\n",
       "    </tr>\n",
       "    <tr>\n",
       "      <th>17101</th>\n",
       "      <td>6dh5</td>\n",
       "      <td>11.30</td>\n",
       "    </tr>\n",
       "    <tr>\n",
       "      <th>17120</th>\n",
       "      <td>5qil</td>\n",
       "      <td>11.52</td>\n",
       "    </tr>\n",
       "    <tr>\n",
       "      <th>17136</th>\n",
       "      <td>6cdj</td>\n",
       "      <td>11.70</td>\n",
       "    </tr>\n",
       "    <tr>\n",
       "      <th>17145</th>\n",
       "      <td>6e9a</td>\n",
       "      <td>11.92</td>\n",
       "    </tr>\n",
       "    <tr>\n",
       "      <th>17152</th>\n",
       "      <td>6b5m</td>\n",
       "      <td>12.00</td>\n",
       "    </tr>\n",
       "  </tbody>\n",
       "</table>\n",
       "<p>1513 rows × 2 columns</p>\n",
       "</div>"
      ],
      "text/plain": [
       "      pdb_id  -logAffi\n",
       "26      5oxm      1.30\n",
       "46      5vqe      1.49\n",
       "70      6cex      1.70\n",
       "71      6cf5      1.70\n",
       "96      1mwt      1.88\n",
       "...      ...       ...\n",
       "17101   6dh5     11.30\n",
       "17120   5qil     11.52\n",
       "17136   6cdj     11.70\n",
       "17145   6e9a     11.92\n",
       "17152   6b5m     12.00\n",
       "\n",
       "[1513 rows x 2 columns]"
      ]
     },
     "execution_count": 25,
     "metadata": {},
     "output_type": "execute_result"
    }
   ],
   "source": [
    "PDBbind_hold_out_2019_minimized = PDBbind_minimized[~PDBbind_minimized['pdb_id'].isin(PDBbind_v18['pdb_id'])]\n",
    "# PDBbind_hold_out_2019_minimized.to_csv('minimized/PDBbind_hold_out_2019_minimized.csv', sep='\\t', index=False)\n",
    "# PDBbind_hold_out_2019_minimized\n",
    "# # 会有PLANet没有的PDB IDs"
   ]
  },
  {
   "cell_type": "code",
   "execution_count": 30,
   "metadata": {},
   "outputs": [
    {
     "data": {
      "text/html": [
       "<div>\n",
       "<style scoped>\n",
       "    .dataframe tbody tr th:only-of-type {\n",
       "        vertical-align: middle;\n",
       "    }\n",
       "\n",
       "    .dataframe tbody tr th {\n",
       "        vertical-align: top;\n",
       "    }\n",
       "\n",
       "    .dataframe thead th {\n",
       "        text-align: right;\n",
       "    }\n",
       "</style>\n",
       "<table border=\"1\" class=\"dataframe\">\n",
       "  <thead>\n",
       "    <tr style=\"text-align: right;\">\n",
       "      <th></th>\n",
       "      <th>pdb_id</th>\n",
       "      <th>-logAffi</th>\n",
       "    </tr>\n",
       "  </thead>\n",
       "  <tbody>\n",
       "  </tbody>\n",
       "</table>\n",
       "</div>"
      ],
      "text/plain": [
       "Empty DataFrame\n",
       "Columns: [pdb_id, -logAffi]\n",
       "Index: []"
      ]
     },
     "execution_count": 30,
     "metadata": {},
     "output_type": "execute_result"
    }
   ],
   "source": [
    "PDBbind_hold_out_2019_minimized[~PDBbind_hold_out_2019_minimized['pdb_id'].isin(PDBbind_hold_out_2019['pdb_id'])]"
   ]
  },
  {
   "cell_type": "markdown",
   "metadata": {},
   "source": [
    "# PLANet"
   ]
  },
  {
   "cell_type": "code",
   "execution_count": 31,
   "metadata": {},
   "outputs": [
    {
     "data": {
      "text/html": [
       "<div>\n",
       "<style scoped>\n",
       "    .dataframe tbody tr th:only-of-type {\n",
       "        vertical-align: middle;\n",
       "    }\n",
       "\n",
       "    .dataframe tbody tr th {\n",
       "        vertical-align: top;\n",
       "    }\n",
       "\n",
       "    .dataframe thead th {\n",
       "        text-align: right;\n",
       "    }\n",
       "</style>\n",
       "<table border=\"1\" class=\"dataframe\">\n",
       "  <thead>\n",
       "    <tr style=\"text-align: right;\">\n",
       "      <th></th>\n",
       "      <th>unique_identify</th>\n",
       "      <th>-logAffi</th>\n",
       "      <th>Target_chembl_id</th>\n",
       "      <th>Cry_lig_name</th>\n",
       "      <th>Cry_lig_smiles</th>\n",
       "      <th>Cry_lig_an</th>\n",
       "      <th>Similar_compnd_name</th>\n",
       "      <th>Similar_compnd_smiles</th>\n",
       "      <th>Similar_compnd_an</th>\n",
       "      <th>Similarity</th>\n",
       "      <th>...</th>\n",
       "      <th>Diff_an</th>\n",
       "      <th>Part_fix</th>\n",
       "      <th>Total_sampled_num</th>\n",
       "      <th>Similar_compnd_conform</th>\n",
       "      <th>Total_delta</th>\n",
       "      <th>Lig_delta</th>\n",
       "      <th>Core_RMSD</th>\n",
       "      <th>MolWt</th>\n",
       "      <th>MCS_smarts</th>\n",
       "      <th>target_compnd</th>\n",
       "    </tr>\n",
       "  </thead>\n",
       "  <tbody>\n",
       "    <tr>\n",
       "      <th>0</th>\n",
       "      <td>CHEMBL1075026_1swr_CHEMBL857</td>\n",
       "      <td>14.000000</td>\n",
       "      <td>CHEMBL1075026</td>\n",
       "      <td>1swr</td>\n",
       "      <td>O=C(O)CCCC[C@@H]1SC[C@@H]2NC(=O)N[C@H]12</td>\n",
       "      <td>16</td>\n",
       "      <td>CHEMBL857</td>\n",
       "      <td>O=C(O)CCCC[C@@H]1SC[C@@H]2NC(=O)N[C@H]12</td>\n",
       "      <td>16</td>\n",
       "      <td>1.000000</td>\n",
       "      <td>...</td>\n",
       "      <td>0</td>\n",
       "      <td>No</td>\n",
       "      <td>6</td>\n",
       "      <td>CHEMBL857-0-0</td>\n",
       "      <td>-51.95</td>\n",
       "      <td>-3.19</td>\n",
       "      <td>0.283368</td>\n",
       "      <td>244.088163</td>\n",
       "      <td>[#6](-&amp;!@[#6]-&amp;!@[#6]-&amp;!@[#6]-&amp;!@[#6]-&amp;!@[#6]1...</td>\n",
       "      <td>CHEMBL1075026_CHEMBL857</td>\n",
       "    </tr>\n",
       "    <tr>\n",
       "      <th>1</th>\n",
       "      <td>CHEMBL1075027_1hp5_CHEMBL257158</td>\n",
       "      <td>4.698970</td>\n",
       "      <td>CHEMBL1075027</td>\n",
       "      <td>1hp5</td>\n",
       "      <td>CC1=N[C@H]2[C@H](O[C@H](CO)[C@@H](O)[C@@H]2O)S1</td>\n",
       "      <td>14</td>\n",
       "      <td>CHEMBL257158</td>\n",
       "      <td>CC1=N[C@H]2[C@H](O[C@H](CO)[C@@H](O)[C@@H]2O)S1</td>\n",
       "      <td>14</td>\n",
       "      <td>1.000000</td>\n",
       "      <td>...</td>\n",
       "      <td>0</td>\n",
       "      <td>No</td>\n",
       "      <td>6</td>\n",
       "      <td>CHEMBL257158-1-0</td>\n",
       "      <td>22.72</td>\n",
       "      <td>-9.82</td>\n",
       "      <td>0.259684</td>\n",
       "      <td>219.056529</td>\n",
       "      <td>[#6]12-&amp;@[#6](-&amp;@[#16]-&amp;@[#6](=&amp;@[#7]-&amp;@1)-&amp;!@...</td>\n",
       "      <td>CHEMBL1075027_CHEMBL257158</td>\n",
       "    </tr>\n",
       "    <tr>\n",
       "      <th>2</th>\n",
       "      <td>CHEMBL1075027_1hp5_CHEMBL403756</td>\n",
       "      <td>4.000000</td>\n",
       "      <td>CHEMBL1075027</td>\n",
       "      <td>1hp5</td>\n",
       "      <td>CC1=N[C@H]2[C@H](O[C@H](CO)[C@@H](O)[C@@H]2O)S1</td>\n",
       "      <td>14</td>\n",
       "      <td>CHEMBL403756</td>\n",
       "      <td>CC1=N[C@H]2[C@H](O[C@H](CO)[C@H](O)[C@@H]2O)S1</td>\n",
       "      <td>14</td>\n",
       "      <td>1.000000</td>\n",
       "      <td>...</td>\n",
       "      <td>0</td>\n",
       "      <td>No</td>\n",
       "      <td>6</td>\n",
       "      <td>CHEMBL403756-0-0</td>\n",
       "      <td>11.87</td>\n",
       "      <td>-3.73</td>\n",
       "      <td>0.667258</td>\n",
       "      <td>219.056529</td>\n",
       "      <td>[#6]12-&amp;@[#6](-&amp;@[#16]-&amp;@[#6](=&amp;@[#7]-&amp;@1)-&amp;!@...</td>\n",
       "      <td>CHEMBL1075027_CHEMBL403756</td>\n",
       "    </tr>\n",
       "    <tr>\n",
       "      <th>3</th>\n",
       "      <td>CHEMBL1075027_1hp5_CHEMBL404356</td>\n",
       "      <td>3.698970</td>\n",
       "      <td>CHEMBL1075027</td>\n",
       "      <td>1hp5</td>\n",
       "      <td>CC1=N[C@H]2[C@H](O[C@H](CO)[C@@H](O)[C@@H]2O)S1</td>\n",
       "      <td>14</td>\n",
       "      <td>CHEMBL404356</td>\n",
       "      <td>CC1=N[C@@H]2[C@@H](O)[C@H](O)[C@@H](CO)O[C@]2(...</td>\n",
       "      <td>15</td>\n",
       "      <td>0.824870</td>\n",
       "      <td>...</td>\n",
       "      <td>1</td>\n",
       "      <td>No</td>\n",
       "      <td>6</td>\n",
       "      <td>CHEMBL404356-3-0</td>\n",
       "      <td>26.98</td>\n",
       "      <td>-11.12</td>\n",
       "      <td>0.352828</td>\n",
       "      <td>233.072179</td>\n",
       "      <td>[#6]12-&amp;@[#6](-&amp;@[#16]-&amp;@[#6](=&amp;@[#7]-&amp;@1)-&amp;!@...</td>\n",
       "      <td>CHEMBL1075027_CHEMBL404356</td>\n",
       "    </tr>\n",
       "    <tr>\n",
       "      <th>4</th>\n",
       "      <td>CHEMBL1075027_1jak_CHEMBL253537</td>\n",
       "      <td>4.677781</td>\n",
       "      <td>CHEMBL1075027</td>\n",
       "      <td>1jak</td>\n",
       "      <td>CC(=O)N[C@H]1[NH2+]C[C@H](CO)[C@H](O)[C@@H]1O</td>\n",
       "      <td>14</td>\n",
       "      <td>CHEMBL253537</td>\n",
       "      <td>CC(=O)N[C@@H]1NC[C@H](CO)[C@H](O)[C@@H]1O</td>\n",
       "      <td>14</td>\n",
       "      <td>1.000000</td>\n",
       "      <td>...</td>\n",
       "      <td>0</td>\n",
       "      <td>No</td>\n",
       "      <td>6</td>\n",
       "      <td>CHEMBL253537-0-0</td>\n",
       "      <td>-117.77</td>\n",
       "      <td>-16.52</td>\n",
       "      <td>0.342688</td>\n",
       "      <td>204.111007</td>\n",
       "      <td>[#6]1(-&amp;@[#7]-&amp;@[#6]-&amp;@[#6](-&amp;@[#6](-&amp;@[#6]-&amp;@...</td>\n",
       "      <td>CHEMBL1075027_CHEMBL253537</td>\n",
       "    </tr>\n",
       "    <tr>\n",
       "      <th>...</th>\n",
       "      <td>...</td>\n",
       "      <td>...</td>\n",
       "      <td>...</td>\n",
       "      <td>...</td>\n",
       "      <td>...</td>\n",
       "      <td>...</td>\n",
       "      <td>...</td>\n",
       "      <td>...</td>\n",
       "      <td>...</td>\n",
       "      <td>...</td>\n",
       "      <td>...</td>\n",
       "      <td>...</td>\n",
       "      <td>...</td>\n",
       "      <td>...</td>\n",
       "      <td>...</td>\n",
       "      <td>...</td>\n",
       "      <td>...</td>\n",
       "      <td>...</td>\n",
       "      <td>...</td>\n",
       "      <td>...</td>\n",
       "      <td>...</td>\n",
       "    </tr>\n",
       "    <tr>\n",
       "      <th>69811</th>\n",
       "      <td>CHEMBL6166_4zk5_CHEMBL3623138</td>\n",
       "      <td>8.431798</td>\n",
       "      <td>CHEMBL6166</td>\n",
       "      <td>4zk5</td>\n",
       "      <td>Nc1ncc(C(=O)NC2CN(C(=O)C3C=C3)C2)c2ccc(-c3cccc...</td>\n",
       "      <td>30</td>\n",
       "      <td>CHEMBL3623138</td>\n",
       "      <td>Nc1ncc(C(=O)NC2CN(C(=O)C3CC3)C2)c2ccc(-c3cccc(...</td>\n",
       "      <td>30</td>\n",
       "      <td>0.966205</td>\n",
       "      <td>...</td>\n",
       "      <td>2</td>\n",
       "      <td>No</td>\n",
       "      <td>6</td>\n",
       "      <td>CHEMBL3623138-2-0</td>\n",
       "      <td>-33.82</td>\n",
       "      <td>-5.46</td>\n",
       "      <td>0.307816</td>\n",
       "      <td>405.160103</td>\n",
       "      <td>[#6]1:&amp;@[#6](:&amp;@[#6]:&amp;@[#6]:&amp;@[#6]:&amp;@[#6]:&amp;@1-...</td>\n",
       "      <td>CHEMBL6166_CHEMBL3623138</td>\n",
       "    </tr>\n",
       "    <tr>\n",
       "      <th>69812</th>\n",
       "      <td>CHEMBL6166_4zk5_CHEMBL3623139</td>\n",
       "      <td>8.795880</td>\n",
       "      <td>CHEMBL6166</td>\n",
       "      <td>4zk5</td>\n",
       "      <td>Nc1ncc(C(=O)NC2CN(C(=O)C3C=C3)C2)c2ccc(-c3cccc...</td>\n",
       "      <td>30</td>\n",
       "      <td>CHEMBL3623139</td>\n",
       "      <td>CNC(=O)N1CC(NC(=O)c2cnc(N)c3nc(-c4cccc(F)c4)cc...</td>\n",
       "      <td>29</td>\n",
       "      <td>0.920581</td>\n",
       "      <td>...</td>\n",
       "      <td>3</td>\n",
       "      <td>No</td>\n",
       "      <td>6</td>\n",
       "      <td>CHEMBL3623139-4-0</td>\n",
       "      <td>-36.61</td>\n",
       "      <td>-5.03</td>\n",
       "      <td>0.329178</td>\n",
       "      <td>394.155352</td>\n",
       "      <td>[#6](=&amp;!@[#8])-&amp;!@[#7]1-&amp;@[#6]-&amp;@[#6](-&amp;@[#6]-...</td>\n",
       "      <td>CHEMBL6166_CHEMBL3623139</td>\n",
       "    </tr>\n",
       "    <tr>\n",
       "      <th>69813</th>\n",
       "      <td>CHEMBL6166_5di1_CHEMBL3754283</td>\n",
       "      <td>7.588909</td>\n",
       "      <td>CHEMBL6166</td>\n",
       "      <td>5di1</td>\n",
       "      <td>CS(=O)(=O)c1ccc(-c2cc(-c3ccc(O)cc3)cnc2N)cc1</td>\n",
       "      <td>24</td>\n",
       "      <td>CHEMBL3754283</td>\n",
       "      <td>CS(=O)(=O)c1ccc(-c2cc(-c3ccc(O)cc3)cnc2N)cc1</td>\n",
       "      <td>24</td>\n",
       "      <td>1.000000</td>\n",
       "      <td>...</td>\n",
       "      <td>0</td>\n",
       "      <td>No</td>\n",
       "      <td>6</td>\n",
       "      <td>CHEMBL3754283-3-0</td>\n",
       "      <td>-38.84</td>\n",
       "      <td>-3.92</td>\n",
       "      <td>0.611367</td>\n",
       "      <td>340.088163</td>\n",
       "      <td>[#6]1(-&amp;!@[#6]2:&amp;@[#6]:&amp;@[#6]:&amp;@[#6](:&amp;@[#6]:&amp;...</td>\n",
       "      <td>CHEMBL6166_CHEMBL3754283</td>\n",
       "    </tr>\n",
       "    <tr>\n",
       "      <th>69814</th>\n",
       "      <td>CHEMBL6166_5di1_CHEMBL3754304</td>\n",
       "      <td>6.285285</td>\n",
       "      <td>CHEMBL6166</td>\n",
       "      <td>5di1</td>\n",
       "      <td>CS(=O)(=O)c1ccc(-c2cc(-c3ccc(O)cc3)cnc2N)cc1</td>\n",
       "      <td>24</td>\n",
       "      <td>CHEMBL3754304</td>\n",
       "      <td>CS(=O)(=O)c1ccc(-c2cc(-c3ccc(C(N)=O)cc3)cnc2N)cc1</td>\n",
       "      <td>26</td>\n",
       "      <td>0.838403</td>\n",
       "      <td>...</td>\n",
       "      <td>3</td>\n",
       "      <td>No</td>\n",
       "      <td>6</td>\n",
       "      <td>CHEMBL3754304-2-0</td>\n",
       "      <td>-23.64</td>\n",
       "      <td>-3.86</td>\n",
       "      <td>0.614969</td>\n",
       "      <td>367.099062</td>\n",
       "      <td>[#6]1(-&amp;!@[#6]2:&amp;@[#6]:&amp;@[#6]:&amp;@[#6]:&amp;@[#6]:&amp;@...</td>\n",
       "      <td>CHEMBL6166_CHEMBL3754304</td>\n",
       "    </tr>\n",
       "    <tr>\n",
       "      <th>69815</th>\n",
       "      <td>CHEMBL6175_2xml_CHEMBL90852</td>\n",
       "      <td>3.301030</td>\n",
       "      <td>CHEMBL6175</td>\n",
       "      <td>2xml</td>\n",
       "      <td>O=C(O)CNC(=O)C(=O)O</td>\n",
       "      <td>10</td>\n",
       "      <td>CHEMBL90852</td>\n",
       "      <td>O=C(O)CNC(=O)C(=O)O</td>\n",
       "      <td>10</td>\n",
       "      <td>1.000000</td>\n",
       "      <td>...</td>\n",
       "      <td>0</td>\n",
       "      <td>No</td>\n",
       "      <td>6</td>\n",
       "      <td>CHEMBL90852-2-0</td>\n",
       "      <td>-501.17</td>\n",
       "      <td>-6.17</td>\n",
       "      <td>0.306604</td>\n",
       "      <td>147.016772</td>\n",
       "      <td>[#6](-&amp;!@[#6](-&amp;!@[#8])=&amp;!@[#8])(=&amp;!@[#8])-&amp;!@...</td>\n",
       "      <td>CHEMBL6175_CHEMBL90852</td>\n",
       "    </tr>\n",
       "  </tbody>\n",
       "</table>\n",
       "<p>69816 rows × 21 columns</p>\n",
       "</div>"
      ],
      "text/plain": [
       "                       unique_identify   -logAffi Target_chembl_id  \\\n",
       "0         CHEMBL1075026_1swr_CHEMBL857  14.000000    CHEMBL1075026   \n",
       "1      CHEMBL1075027_1hp5_CHEMBL257158   4.698970    CHEMBL1075027   \n",
       "2      CHEMBL1075027_1hp5_CHEMBL403756   4.000000    CHEMBL1075027   \n",
       "3      CHEMBL1075027_1hp5_CHEMBL404356   3.698970    CHEMBL1075027   \n",
       "4      CHEMBL1075027_1jak_CHEMBL253537   4.677781    CHEMBL1075027   \n",
       "...                                ...        ...              ...   \n",
       "69811    CHEMBL6166_4zk5_CHEMBL3623138   8.431798       CHEMBL6166   \n",
       "69812    CHEMBL6166_4zk5_CHEMBL3623139   8.795880       CHEMBL6166   \n",
       "69813    CHEMBL6166_5di1_CHEMBL3754283   7.588909       CHEMBL6166   \n",
       "69814    CHEMBL6166_5di1_CHEMBL3754304   6.285285       CHEMBL6166   \n",
       "69815      CHEMBL6175_2xml_CHEMBL90852   3.301030       CHEMBL6175   \n",
       "\n",
       "      Cry_lig_name                                     Cry_lig_smiles  \\\n",
       "0             1swr           O=C(O)CCCC[C@@H]1SC[C@@H]2NC(=O)N[C@H]12   \n",
       "1             1hp5    CC1=N[C@H]2[C@H](O[C@H](CO)[C@@H](O)[C@@H]2O)S1   \n",
       "2             1hp5    CC1=N[C@H]2[C@H](O[C@H](CO)[C@@H](O)[C@@H]2O)S1   \n",
       "3             1hp5    CC1=N[C@H]2[C@H](O[C@H](CO)[C@@H](O)[C@@H]2O)S1   \n",
       "4             1jak      CC(=O)N[C@H]1[NH2+]C[C@H](CO)[C@H](O)[C@@H]1O   \n",
       "...            ...                                                ...   \n",
       "69811         4zk5  Nc1ncc(C(=O)NC2CN(C(=O)C3C=C3)C2)c2ccc(-c3cccc...   \n",
       "69812         4zk5  Nc1ncc(C(=O)NC2CN(C(=O)C3C=C3)C2)c2ccc(-c3cccc...   \n",
       "69813         5di1       CS(=O)(=O)c1ccc(-c2cc(-c3ccc(O)cc3)cnc2N)cc1   \n",
       "69814         5di1       CS(=O)(=O)c1ccc(-c2cc(-c3ccc(O)cc3)cnc2N)cc1   \n",
       "69815         2xml                                O=C(O)CNC(=O)C(=O)O   \n",
       "\n",
       "       Cry_lig_an Similar_compnd_name  \\\n",
       "0              16           CHEMBL857   \n",
       "1              14        CHEMBL257158   \n",
       "2              14        CHEMBL403756   \n",
       "3              14        CHEMBL404356   \n",
       "4              14        CHEMBL253537   \n",
       "...           ...                 ...   \n",
       "69811          30       CHEMBL3623138   \n",
       "69812          30       CHEMBL3623139   \n",
       "69813          24       CHEMBL3754283   \n",
       "69814          24       CHEMBL3754304   \n",
       "69815          10         CHEMBL90852   \n",
       "\n",
       "                                   Similar_compnd_smiles  Similar_compnd_an  \\\n",
       "0               O=C(O)CCCC[C@@H]1SC[C@@H]2NC(=O)N[C@H]12                 16   \n",
       "1        CC1=N[C@H]2[C@H](O[C@H](CO)[C@@H](O)[C@@H]2O)S1                 14   \n",
       "2         CC1=N[C@H]2[C@H](O[C@H](CO)[C@H](O)[C@@H]2O)S1                 14   \n",
       "3      CC1=N[C@@H]2[C@@H](O)[C@H](O)[C@@H](CO)O[C@]2(...                 15   \n",
       "4              CC(=O)N[C@@H]1NC[C@H](CO)[C@H](O)[C@@H]1O                 14   \n",
       "...                                                  ...                ...   \n",
       "69811  Nc1ncc(C(=O)NC2CN(C(=O)C3CC3)C2)c2ccc(-c3cccc(...                 30   \n",
       "69812  CNC(=O)N1CC(NC(=O)c2cnc(N)c3nc(-c4cccc(F)c4)cc...                 29   \n",
       "69813       CS(=O)(=O)c1ccc(-c2cc(-c3ccc(O)cc3)cnc2N)cc1                 24   \n",
       "69814  CS(=O)(=O)c1ccc(-c2cc(-c3ccc(C(N)=O)cc3)cnc2N)cc1                 26   \n",
       "69815                                O=C(O)CNC(=O)C(=O)O                 10   \n",
       "\n",
       "       Similarity  ...  Diff_an  Part_fix Total_sampled_num  \\\n",
       "0        1.000000  ...        0        No                 6   \n",
       "1        1.000000  ...        0        No                 6   \n",
       "2        1.000000  ...        0        No                 6   \n",
       "3        0.824870  ...        1        No                 6   \n",
       "4        1.000000  ...        0        No                 6   \n",
       "...           ...  ...      ...       ...               ...   \n",
       "69811    0.966205  ...        2        No                 6   \n",
       "69812    0.920581  ...        3        No                 6   \n",
       "69813    1.000000  ...        0        No                 6   \n",
       "69814    0.838403  ...        3        No                 6   \n",
       "69815    1.000000  ...        0        No                 6   \n",
       "\n",
       "       Similar_compnd_conform Total_delta  Lig_delta  Core_RMSD       MolWt  \\\n",
       "0               CHEMBL857-0-0      -51.95      -3.19   0.283368  244.088163   \n",
       "1            CHEMBL257158-1-0       22.72      -9.82   0.259684  219.056529   \n",
       "2            CHEMBL403756-0-0       11.87      -3.73   0.667258  219.056529   \n",
       "3            CHEMBL404356-3-0       26.98     -11.12   0.352828  233.072179   \n",
       "4            CHEMBL253537-0-0     -117.77     -16.52   0.342688  204.111007   \n",
       "...                       ...         ...        ...        ...         ...   \n",
       "69811       CHEMBL3623138-2-0      -33.82      -5.46   0.307816  405.160103   \n",
       "69812       CHEMBL3623139-4-0      -36.61      -5.03   0.329178  394.155352   \n",
       "69813       CHEMBL3754283-3-0      -38.84      -3.92   0.611367  340.088163   \n",
       "69814       CHEMBL3754304-2-0      -23.64      -3.86   0.614969  367.099062   \n",
       "69815         CHEMBL90852-2-0     -501.17      -6.17   0.306604  147.016772   \n",
       "\n",
       "                                              MCS_smarts  \\\n",
       "0      [#6](-&!@[#6]-&!@[#6]-&!@[#6]-&!@[#6]-&!@[#6]1...   \n",
       "1      [#6]12-&@[#6](-&@[#16]-&@[#6](=&@[#7]-&@1)-&!@...   \n",
       "2      [#6]12-&@[#6](-&@[#16]-&@[#6](=&@[#7]-&@1)-&!@...   \n",
       "3      [#6]12-&@[#6](-&@[#16]-&@[#6](=&@[#7]-&@1)-&!@...   \n",
       "4      [#6]1(-&@[#7]-&@[#6]-&@[#6](-&@[#6](-&@[#6]-&@...   \n",
       "...                                                  ...   \n",
       "69811  [#6]1:&@[#6](:&@[#6]:&@[#6]:&@[#6]:&@[#6]:&@1-...   \n",
       "69812  [#6](=&!@[#8])-&!@[#7]1-&@[#6]-&@[#6](-&@[#6]-...   \n",
       "69813  [#6]1(-&!@[#6]2:&@[#6]:&@[#6]:&@[#6](:&@[#6]:&...   \n",
       "69814  [#6]1(-&!@[#6]2:&@[#6]:&@[#6]:&@[#6]:&@[#6]:&@...   \n",
       "69815  [#6](-&!@[#6](-&!@[#8])=&!@[#8])(=&!@[#8])-&!@...   \n",
       "\n",
       "                    target_compnd  \n",
       "0         CHEMBL1075026_CHEMBL857  \n",
       "1      CHEMBL1075027_CHEMBL257158  \n",
       "2      CHEMBL1075027_CHEMBL403756  \n",
       "3      CHEMBL1075027_CHEMBL404356  \n",
       "4      CHEMBL1075027_CHEMBL253537  \n",
       "...                           ...  \n",
       "69811    CHEMBL6166_CHEMBL3623138  \n",
       "69812    CHEMBL6166_CHEMBL3623139  \n",
       "69813    CHEMBL6166_CHEMBL3754283  \n",
       "69814    CHEMBL6166_CHEMBL3754304  \n",
       "69815      CHEMBL6175_CHEMBL90852  \n",
       "\n",
       "[69816 rows x 21 columns]"
      ]
     },
     "execution_count": 31,
     "metadata": {},
     "output_type": "execute_result"
    }
   ],
   "source": [
    "PLANet_Uw_dealt_df = pd.read_csv('/pubhome/xli02/project/PLIM/v2019_dataset/index/20220524_other_files/PLANet_Uw_dealt_median.csv', sep='\\t')\n",
    "PLANet_Uw_dealt_df"
   ]
  },
  {
   "cell_type": "code",
   "execution_count": 35,
   "metadata": {},
   "outputs": [
    {
     "data": {
      "text/plain": [
       "63933"
      ]
     },
     "execution_count": 35,
     "metadata": {},
     "output_type": "execute_result"
    }
   ],
   "source": [
    "PLANet_v18 = PLANet_Uw_dealt_df[PLANet_Uw_dealt_df['Cry_lig_name'].isin(PDBBind_v18_minimized['pdb_id'])]\n",
    "PLANet_v18[['unique_identify', '-logAffi']].to_csv('minimized/PLANet_v18.csv', sep='\\t', index=False)\n",
    "len(PLANet_v18)"
   ]
  },
  {
   "cell_type": "code",
   "execution_count": 47,
   "metadata": {},
   "outputs": [
    {
     "data": {
      "text/plain": [
       "5422"
      ]
     },
     "execution_count": 47,
     "metadata": {},
     "output_type": "execute_result"
    }
   ],
   "source": [
    "len(set(PLANet_v18['Cry_lig_name']))"
   ]
  },
  {
   "cell_type": "code",
   "execution_count": 38,
   "metadata": {},
   "outputs": [
    {
     "data": {
      "text/plain": [
       "5883"
      ]
     },
     "execution_count": 38,
     "metadata": {},
     "output_type": "execute_result"
    }
   ],
   "source": [
    "len(PLANet_Uw_dealt_df[PLANet_Uw_dealt_df['Cry_lig_name'].isin(PDBbind_hold_out_2019_minimized['pdb_id'])])"
   ]
  },
  {
   "cell_type": "code",
   "execution_count": 36,
   "metadata": {},
   "outputs": [
    {
     "data": {
      "text/plain": [
       "5883"
      ]
     },
     "execution_count": 36,
     "metadata": {},
     "output_type": "execute_result"
    }
   ],
   "source": [
    "PLANet_hold_out_2019 = PLANet_Uw_dealt_df[~PLANet_Uw_dealt_df['Cry_lig_name'].isin(PDBBind_v18_minimized['pdb_id'])]\n",
    "PLANet_hold_out_2019[['unique_identify', '-logAffi']].to_csv('minimized/PLANet_hold_out_2019.csv', sep='\\t', index=False)\n",
    "len(PLANet_hold_out_2019)"
   ]
  },
  {
   "cell_type": "code",
   "execution_count": 50,
   "metadata": {},
   "outputs": [
    {
     "data": {
      "text/plain": [
       "485"
      ]
     },
     "execution_count": 50,
     "metadata": {},
     "output_type": "execute_result"
    }
   ],
   "source": [
    "len(set(PLANet_hold_out_2019['Cry_lig_name']))"
   ]
  },
  {
   "cell_type": "markdown",
   "metadata": {},
   "source": [
    "# PDBbind_v18_subset"
   ]
  },
  {
   "cell_type": "code",
   "execution_count": 51,
   "metadata": {},
   "outputs": [
    {
     "data": {
      "text/html": [
       "<div>\n",
       "<style scoped>\n",
       "    .dataframe tbody tr th:only-of-type {\n",
       "        vertical-align: middle;\n",
       "    }\n",
       "\n",
       "    .dataframe tbody tr th {\n",
       "        vertical-align: top;\n",
       "    }\n",
       "\n",
       "    .dataframe thead th {\n",
       "        text-align: right;\n",
       "    }\n",
       "</style>\n",
       "<table border=\"1\" class=\"dataframe\">\n",
       "  <thead>\n",
       "    <tr style=\"text-align: right;\">\n",
       "      <th></th>\n",
       "      <th>pdb_id</th>\n",
       "      <th>-logAffi</th>\n",
       "    </tr>\n",
       "  </thead>\n",
       "  <tbody>\n",
       "    <tr>\n",
       "      <th>15</th>\n",
       "      <td>3fl9</td>\n",
       "      <td>1.11</td>\n",
       "    </tr>\n",
       "    <tr>\n",
       "      <th>38</th>\n",
       "      <td>2hdq</td>\n",
       "      <td>1.40</td>\n",
       "    </tr>\n",
       "    <tr>\n",
       "      <th>42</th>\n",
       "      <td>1utp</td>\n",
       "      <td>1.44</td>\n",
       "    </tr>\n",
       "    <tr>\n",
       "      <th>44</th>\n",
       "      <td>1tnk</td>\n",
       "      <td>1.49</td>\n",
       "    </tr>\n",
       "    <tr>\n",
       "      <th>73</th>\n",
       "      <td>2hdr</td>\n",
       "      <td>1.72</td>\n",
       "    </tr>\n",
       "    <tr>\n",
       "      <th>...</th>\n",
       "      <td>...</td>\n",
       "      <td>...</td>\n",
       "    </tr>\n",
       "    <tr>\n",
       "      <th>17151</th>\n",
       "      <td>4n70</td>\n",
       "      <td>12.00</td>\n",
       "    </tr>\n",
       "    <tr>\n",
       "      <th>17155</th>\n",
       "      <td>3o9h</td>\n",
       "      <td>12.10</td>\n",
       "    </tr>\n",
       "    <tr>\n",
       "      <th>17158</th>\n",
       "      <td>3o9g</td>\n",
       "      <td>12.30</td>\n",
       "    </tr>\n",
       "    <tr>\n",
       "      <th>17160</th>\n",
       "      <td>1q83</td>\n",
       "      <td>12.39</td>\n",
       "    </tr>\n",
       "    <tr>\n",
       "      <th>17163</th>\n",
       "      <td>3o9f</td>\n",
       "      <td>12.70</td>\n",
       "    </tr>\n",
       "  </tbody>\n",
       "</table>\n",
       "<p>5422 rows × 2 columns</p>\n",
       "</div>"
      ],
      "text/plain": [
       "      pdb_id  -logAffi\n",
       "15      3fl9      1.11\n",
       "38      2hdq      1.40\n",
       "42      1utp      1.44\n",
       "44      1tnk      1.49\n",
       "73      2hdr      1.72\n",
       "...      ...       ...\n",
       "17151   4n70     12.00\n",
       "17155   3o9h     12.10\n",
       "17158   3o9g     12.30\n",
       "17160   1q83     12.39\n",
       "17163   3o9f     12.70\n",
       "\n",
       "[5422 rows x 2 columns]"
      ]
     },
     "execution_count": 51,
     "metadata": {},
     "output_type": "execute_result"
    }
   ],
   "source": [
    "PDBbind_v18_subset = PDBBind_v18_minimized[PDBBind_v18_minimized['pdb_id'].isin(PLANet_v18['Cry_lig_name'])]\n",
    "PDBbind_v18_subset.to_csv('minimized/PDBbind_subset/PDBbind_v18_subset.csv', sep='\\t', index=False)\n",
    "PDBbind_v18_subset"
   ]
  },
  {
   "cell_type": "markdown",
   "metadata": {},
   "source": [
    "# PDBbind_hold_out_2019_subset"
   ]
  },
  {
   "cell_type": "code",
   "execution_count": 53,
   "metadata": {},
   "outputs": [
    {
     "data": {
      "text/html": [
       "<div>\n",
       "<style scoped>\n",
       "    .dataframe tbody tr th:only-of-type {\n",
       "        vertical-align: middle;\n",
       "    }\n",
       "\n",
       "    .dataframe tbody tr th {\n",
       "        vertical-align: top;\n",
       "    }\n",
       "\n",
       "    .dataframe thead th {\n",
       "        text-align: right;\n",
       "    }\n",
       "</style>\n",
       "<table border=\"1\" class=\"dataframe\">\n",
       "  <thead>\n",
       "    <tr style=\"text-align: right;\">\n",
       "      <th></th>\n",
       "      <th>pdb_id</th>\n",
       "      <th>-logAffi</th>\n",
       "    </tr>\n",
       "  </thead>\n",
       "  <tbody>\n",
       "    <tr>\n",
       "      <th>168</th>\n",
       "      <td>6gmx</td>\n",
       "      <td>2.17</td>\n",
       "    </tr>\n",
       "    <tr>\n",
       "      <th>242</th>\n",
       "      <td>6gmq</td>\n",
       "      <td>2.30</td>\n",
       "    </tr>\n",
       "    <tr>\n",
       "      <th>652</th>\n",
       "      <td>5ye8</td>\n",
       "      <td>3.00</td>\n",
       "    </tr>\n",
       "    <tr>\n",
       "      <th>655</th>\n",
       "      <td>6ftz</td>\n",
       "      <td>3.00</td>\n",
       "    </tr>\n",
       "    <tr>\n",
       "      <th>666</th>\n",
       "      <td>6f6n</td>\n",
       "      <td>3.02</td>\n",
       "    </tr>\n",
       "    <tr>\n",
       "      <th>...</th>\n",
       "      <td>...</td>\n",
       "      <td>...</td>\n",
       "    </tr>\n",
       "    <tr>\n",
       "      <th>17025</th>\n",
       "      <td>6h5w</td>\n",
       "      <td>10.80</td>\n",
       "    </tr>\n",
       "    <tr>\n",
       "      <th>17032</th>\n",
       "      <td>6h5x</td>\n",
       "      <td>10.82</td>\n",
       "    </tr>\n",
       "    <tr>\n",
       "      <th>17049</th>\n",
       "      <td>5nn0</td>\n",
       "      <td>10.96</td>\n",
       "    </tr>\n",
       "    <tr>\n",
       "      <th>17073</th>\n",
       "      <td>5llg</td>\n",
       "      <td>11.13</td>\n",
       "    </tr>\n",
       "    <tr>\n",
       "      <th>17083</th>\n",
       "      <td>5qim</td>\n",
       "      <td>11.22</td>\n",
       "    </tr>\n",
       "  </tbody>\n",
       "</table>\n",
       "<p>485 rows × 2 columns</p>\n",
       "</div>"
      ],
      "text/plain": [
       "      pdb_id  -logAffi\n",
       "168     6gmx      2.17\n",
       "242     6gmq      2.30\n",
       "652     5ye8      3.00\n",
       "655     6ftz      3.00\n",
       "666     6f6n      3.02\n",
       "...      ...       ...\n",
       "17025   6h5w     10.80\n",
       "17032   6h5x     10.82\n",
       "17049   5nn0     10.96\n",
       "17073   5llg     11.13\n",
       "17083   5qim     11.22\n",
       "\n",
       "[485 rows x 2 columns]"
      ]
     },
     "execution_count": 53,
     "metadata": {},
     "output_type": "execute_result"
    }
   ],
   "source": [
    "PDBbind_hold_out_2019_subset = PDBbind_hold_out_2019_minimized[PDBbind_hold_out_2019_minimized['pdb_id'].isin(PLANet_hold_out_2019['Cry_lig_name'])]\n",
    "PDBbind_hold_out_2019_subset.to_csv('minimized/PDBbind_subset/PDBbind_hold_out_2019_subset.csv', sep='\\t', index=False)\n",
    "PDBbind_hold_out_2019_subset"
   ]
  },
  {
   "cell_type": "code",
   "execution_count": 14,
   "metadata": {},
   "outputs": [],
   "source": [
    "PDBbind_hold_out_2019_subset=pd.read_csv('minimized/PDBbind_subset/PDBbind_hold_out_2019_subset.csv', sep='\\t')"
   ]
  },
  {
   "cell_type": "markdown",
   "metadata": {},
   "source": [
    "# 计算相似性"
   ]
  },
  {
   "cell_type": "code",
   "execution_count": 57,
   "metadata": {},
   "outputs": [],
   "source": [
    "pdbbind_dir = '/pubhome/xli02/Downloads/dataset/PDBbind'\n",
    "# PLANet_Uw_dealt_df = pd.read_csv('/pubhome/xli02/project/PLIM/v2019_dataset/index/20220524_other_files/PLANet_Uw_dealt_median.csv', sep='\\t')\n",
    "# len(PLANet_Uw_dealt_df)"
   ]
  },
  {
   "cell_type": "code",
   "execution_count": 40,
   "metadata": {},
   "outputs": [],
   "source": [
    "def obtain_fps(data_df, dataset_name):\n",
    "    mols = []\n",
    "    mol_fps = []\n",
    "    skipped_mols = []\n",
    "    for row in data_df.itertuples():\n",
    "        if 'pdb_id' in data_df.columns.values:\n",
    "            uniq_id = row.pdb_id\n",
    "            lig_file = f'{pdbbind_dir}/PDBbind_v2019/general_structure_only/{uniq_id}/{uniq_id}_ligand.smi'\n",
    "            if not Path(lig_file).exists():\n",
    "                print(f'{uniq_id} of PDBbind not exsits, skipped.')\n",
    "                skipped_mols.append(uniq_id)\n",
    "                continue\n",
    "            compnd_mol = Chem.SmilesMolSupplier(lig_file, delimiter='\\t', titleLine=False)[0]\n",
    "        else:\n",
    "            uniq_id = row.unique_identify\n",
    "            if '_' in uniq_id:\n",
    "                compnd_smi = PLANet_Uw_dealt_df[PLANet_Uw_dealt_df['unique_identify']==uniq_id]['Similar_compnd_smiles'].values[0]\n",
    "                compnd_mol = Chem.MolFromSmiles(compnd_smi)\n",
    "            else:\n",
    "                lig_file = f'{pdbbind_dir}/PDBbind_v2019/general_structure_only/{uniq_id}/{uniq_id}_ligand.smi'\n",
    "                if not Path(lig_file).exists():\n",
    "                    print(f'{uniq_id} of PDBbind not exsits, skipped.')\n",
    "                    skipped_mols.append(uniq_id)\n",
    "                    continue\n",
    "                compnd_mol = Chem.SmilesMolSupplier(lig_file, delimiter='\\t', titleLine=False)[0]\n",
    "        if compnd_mol is None:\n",
    "            print(f'For compounds in {dataset_name}, {uniq_id} cannot be read by rdkit, skipped.')\n",
    "            skipped_mols.append(uniq_id)\n",
    "            continue\n",
    "        compnd_mol.SetProp('_Name', uniq_id)\n",
    "        mols.append(compnd_mol)\n",
    "        mol_fps.append(rdMolDescriptors.GetMorganFingerprintAsBitVect(compnd_mol,2))\n",
    "    return mols, mol_fps\n",
    "\n",
    "\n",
    "def calculate_simi(mols_1, mol_fps_1, affi_df_1, mols_2, mol_fps_2, affi_df_2, set_name_1, set_name_2):\n",
    "    max_simi_for_mols_1 = []\n",
    "    cols = [f'{set_name_1}_cpnd_name', f'{set_name_1}_cpnd_affi', f'{set_name_1}_cpnd_smiles', f'{set_name_2}_cpnd_name', f'{set_name_2}_cpnd_affi', f'{set_name_2}_cpnd_smiles', 'similarity']\n",
    "    lst = []\n",
    "    for i, mol in enumerate(mols_1):\n",
    "        simi_list = DataStructs.BulkTanimotoSimilarity(mol_fps_1[i], mol_fps_2)\n",
    "        mol_name = mol.GetProp('_Name')\n",
    "        for j,simi in enumerate(simi_list):\n",
    "            if simi == 1:\n",
    "                if 'pdb_id' in affi_df_1.columns.values:\n",
    "                    mol_affi = affi_df_1[affi_df_1['pdb_id']==mol_name]['-logAffi'].values[0]\n",
    "                else:\n",
    "                    mol_affi = affi_df_1[affi_df_1['unique_identify']==mol_name]['-logAffi'].values[0]\n",
    "                mol_smiles = Chem.MolToSmiles(mol)\n",
    "                mol_2_name = mols_2[j].GetProp('_Name')\n",
    "                if 'pdb_id' in affi_df_2.columns.values:\n",
    "                    mol_2_affi = affi_df_2[affi_df_2['pdb_id']==mol_2_name]['-logAffi'].values[0]\n",
    "                else:\n",
    "                    mol_2_affi = affi_df_2[affi_df_2['unique_identify']==mol_2_name]['-logAffi'].values[0]\n",
    "                mol_2_smiles = Chem.MolToSmiles(mols_2[j])\n",
    "                lst.append([mol_name, mol_affi, mol_smiles, mol_2_name, mol_2_affi, mol_2_smiles, simi])\n",
    "        max_simi = max(simi_list)\n",
    "        max_simi_for_mols_1.append(max_simi)\n",
    "    out_dir = f'/pubhome/xli02/project/PLIM/deep_learning/FAST/fast_plim/hold_out_2019/index/similarity/{set_name_2}_in_{set_name_1}' #\n",
    "    if not Path(out_dir).exists():\n",
    "        Path(out_dir).mkdir()\n",
    "    simi_1_df = pd.DataFrame(lst, columns=cols)\n",
    "    simi_1_df.to_csv(f'{out_dir}/simi_1.csv', sep='\\t', index=False)\n",
    "    return max_simi_for_mols_1"
   ]
  },
  {
   "cell_type": "markdown",
   "metadata": {},
   "source": [
    "# PDBbind_v18_subset"
   ]
  },
  {
   "cell_type": "code",
   "execution_count": 54,
   "metadata": {},
   "outputs": [
    {
     "data": {
      "text/plain": [
       "5422"
      ]
     },
     "execution_count": 54,
     "metadata": {},
     "output_type": "execute_result"
    }
   ],
   "source": [
    "len(PDBbind_v18_subset)"
   ]
  },
  {
   "cell_type": "code",
   "execution_count": null,
   "metadata": {},
   "outputs": [],
   "source": [
    "PDBbind_v18_subset_mols, PDBbind_v18_subset_mol_fps = obtain_fps(PDBbind_v18_subset, 'PDBbind_v18_subset')"
   ]
  },
  {
   "cell_type": "code",
   "execution_count": 67,
   "metadata": {},
   "outputs": [
    {
     "data": {
      "text/plain": [
       "5401"
      ]
     },
     "execution_count": 67,
     "metadata": {},
     "output_type": "execute_result"
    }
   ],
   "source": [
    "len(PDBbind_v18_subset_mols)"
   ]
  },
  {
   "cell_type": "markdown",
   "metadata": {},
   "source": [
    "# PDBbind_hold_out_subset"
   ]
  },
  {
   "cell_type": "code",
   "execution_count": 55,
   "metadata": {},
   "outputs": [
    {
     "data": {
      "text/plain": [
       "485"
      ]
     },
     "execution_count": 55,
     "metadata": {},
     "output_type": "execute_result"
    }
   ],
   "source": [
    "len(PDBbind_hold_out_2019_subset)"
   ]
  },
  {
   "cell_type": "code",
   "execution_count": null,
   "metadata": {},
   "outputs": [],
   "source": [
    "PDBbind_hold_out_2019_subset_mols, PDBbind_hold_out_2019_subset_mol_fps = obtain_fps(PDBbind_hold_out_2019_subset, 'PDBbind_hold_out_2019_subset')"
   ]
  },
  {
   "cell_type": "code",
   "execution_count": 65,
   "metadata": {},
   "outputs": [
    {
     "data": {
      "text/plain": [
       "481"
      ]
     },
     "execution_count": 65,
     "metadata": {},
     "output_type": "execute_result"
    }
   ],
   "source": [
    "len(PDBbind_hold_out_2019_subset_mols)"
   ]
  },
  {
   "cell_type": "code",
   "execution_count": 16,
   "metadata": {},
   "outputs": [
    {
     "data": {
      "text/plain": [
       "38"
      ]
     },
     "execution_count": 16,
     "metadata": {},
     "output_type": "execute_result"
    }
   ],
   "source": [
    "len(PDBbind_hold_out_2019_subset[PDBbind_hold_out_2019_subset['pdb_id'].isin(not_2018['pdb_id'])])"
   ]
  },
  {
   "cell_type": "code",
   "execution_count": 17,
   "metadata": {},
   "outputs": [
    {
     "data": {
      "text/plain": [
       "104"
      ]
     },
     "execution_count": 17,
     "metadata": {},
     "output_type": "execute_result"
    }
   ],
   "source": [
    "len(not_2018)"
   ]
  },
  {
   "cell_type": "markdown",
   "metadata": {},
   "source": [
    "# PLANet_v18"
   ]
  },
  {
   "cell_type": "code",
   "execution_count": 43,
   "metadata": {},
   "outputs": [
    {
     "data": {
      "text/plain": [
       "63933"
      ]
     },
     "execution_count": 43,
     "metadata": {},
     "output_type": "execute_result"
    }
   ],
   "source": [
    "len(PLANet_v18)"
   ]
  },
  {
   "cell_type": "code",
   "execution_count": 68,
   "metadata": {},
   "outputs": [],
   "source": [
    "PLANet_v18_mols, PLANet_v18_mol_fps = obtain_fps(PLANet_v18, 'PLANet_v18')"
   ]
  },
  {
   "cell_type": "code",
   "execution_count": 69,
   "metadata": {},
   "outputs": [
    {
     "data": {
      "text/plain": [
       "63933"
      ]
     },
     "execution_count": 69,
     "metadata": {},
     "output_type": "execute_result"
    }
   ],
   "source": [
    "len(PLANet_v18_mols)"
   ]
  },
  {
   "cell_type": "markdown",
   "metadata": {},
   "source": [
    "# PLANet_hold_out_2019"
   ]
  },
  {
   "cell_type": "code",
   "execution_count": 44,
   "metadata": {},
   "outputs": [
    {
     "data": {
      "text/plain": [
       "5883"
      ]
     },
     "execution_count": 44,
     "metadata": {},
     "output_type": "execute_result"
    }
   ],
   "source": [
    "len(PLANet_hold_out_2019)"
   ]
  },
  {
   "cell_type": "code",
   "execution_count": 70,
   "metadata": {},
   "outputs": [],
   "source": [
    "PLANet_hold_out_2019_mols, PLANet_hold_out_2019_mol_fps = obtain_fps(PLANet_hold_out_2019, 'PLANet_hold_out_2019')"
   ]
  },
  {
   "cell_type": "code",
   "execution_count": 71,
   "metadata": {},
   "outputs": [
    {
     "data": {
      "text/plain": [
       "5883"
      ]
     },
     "execution_count": 71,
     "metadata": {},
     "output_type": "execute_result"
    }
   ],
   "source": [
    "len(PLANet_hold_out_2019_mols)"
   ]
  },
  {
   "cell_type": "markdown",
   "metadata": {},
   "source": [
    "# with PDBbind_hold_out"
   ]
  },
  {
   "cell_type": "code",
   "execution_count": 72,
   "metadata": {},
   "outputs": [],
   "source": [
    "max_simi_for_PDBbind_hold_with_PLANet_v18 = calculate_simi(PDBbind_hold_out_2019_subset_mols, PDBbind_hold_out_2019_subset_mol_fps, PDBbind_hold_out_2019_subset, PLANet_v18_mols, PLANet_v18_mol_fps, PLANet_v18, 'PDBbind_hold_out_2019_subset', 'PLANet_v18')"
   ]
  },
  {
   "cell_type": "code",
   "execution_count": 73,
   "metadata": {},
   "outputs": [],
   "source": [
    "max_simi_for_PDBbind_hold_with_PDBbind_v18 = calculate_simi(PDBbind_hold_out_2019_subset_mols, PDBbind_hold_out_2019_subset_mol_fps, PDBbind_hold_out_2019_subset, PDBbind_v18_subset_mols, PDBbind_v18_subset_mol_fps, PDBbind_v18_subset, 'PDBbind_hold_out_2019_subset', 'PDBbind_v18_subset')"
   ]
  },
  {
   "cell_type": "code",
   "execution_count": 79,
   "metadata": {},
   "outputs": [
    {
     "data": {
      "image/png": "[encoded data removed]",
      "text/plain": [
       "<Figure size 432x288 with 1 Axes>"
      ]
     },
     "metadata": {
      "needs_background": "light"
     },
     "output_type": "display_data"
    }
   ],
   "source": [
    "sns.kdeplot(max_simi_for_PDBbind_hold_with_PDBbind_v18)\n",
    "sns.kdeplot(max_simi_for_PDBbind_hold_with_PLANet_v18)\n",
    "plt.xlabel(\"Tanimoto similarity\")\n",
    "plt.xlim(0,1)\n",
    "plt.title(f'Best similarity distribution among PDBbind_hold_out set and whole datasets')\n",
    "plt.legend(labels=['PDBbind_v18_subset','PLANet_v18'], title = \"training_set\")\n",
    "plt.savefig(f'/pubhome/xli02/project/PLIM/deep_learning/FAST/fast_plim/hold_out_2019/index/similarity/PDBbind_hold_out_with_whole_set.png', dpi=300, bbox_inches='tight')\n",
    "# plt.close()\n"
   ]
  },
  {
   "cell_type": "code",
   "execution_count": 82,
   "metadata": {},
   "outputs": [
    {
     "data": {
      "text/plain": [
       "26"
      ]
     },
     "execution_count": 82,
     "metadata": {},
     "output_type": "execute_result"
    }
   ],
   "source": [
    "PDBbind_v18_simi_1_with_PDBbind_hold_out = pd.read_csv('/pubhome/xli02/project/PLIM/deep_learning/FAST/fast_plim/hold_out_2019/index/similarity/PDBbind_v18_subset_in_PDBbind_hold_out_2019_subset/simi_1.csv', sep='\\t')\n",
    "len(set(PDBbind_v18_simi_1_with_PDBbind_hold_out['PDBbind_v18_subset_cpnd_name']))"
   ]
  },
  {
   "cell_type": "code",
   "execution_count": 85,
   "metadata": {},
   "outputs": [
    {
     "data": {
      "text/plain": [
       "38"
      ]
     },
     "execution_count": 85,
     "metadata": {},
     "output_type": "execute_result"
    }
   ],
   "source": [
    "PLANet_simi_1_with_PDBbind_hold_out = pd.read_csv('/pubhome/xli02/project/PLIM/deep_learning/FAST/fast_plim/hold_out_2019/index/similarity/PLANet_v18_in_PDBbind_hold_out_2019_subset/simi_1.csv', sep='\\t')\n",
    "# PLANet_simi_1_with_PDBbind_hold_out\n",
    "len(set(PLANet_simi_1_with_PDBbind_hold_out['PLANet_v18_cpnd_name']))"
   ]
  },
  {
   "cell_type": "markdown",
   "metadata": {},
   "source": [
    "# PLANet hold out"
   ]
  },
  {
   "cell_type": "code",
   "execution_count": 80,
   "metadata": {},
   "outputs": [
    {
     "data": {
      "image/png": "[encoded data removed]",
      "text/plain": [
       "<Figure size 432x288 with 1 Axes>"
      ]
     },
     "metadata": {
      "needs_background": "light"
     },
     "output_type": "display_data"
    }
   ],
   "source": [
    "max_simi_for_PLANet_hold_with_PLANet_v18 = calculate_simi(PLANet_hold_out_2019_mols, PLANet_hold_out_2019_mol_fps, PLANet_hold_out_2019, PLANet_v18_mols, PLANet_v18_mol_fps, PLANet_v18, 'PLANet_hold_out_2019', 'PLANet_v18')\n",
    "\n",
    "max_simi_for_PLANet_hold_with_PDBbind_v18 = calculate_simi(PLANet_hold_out_2019_mols, PLANet_hold_out_2019_mol_fps, PLANet_hold_out_2019, PDBbind_v18_subset_mols, PDBbind_v18_subset_mol_fps, PDBbind_v18_subset, 'PLANet_hold_out_2019', 'PDBbind_v18_subset')\n",
    "\n",
    "sns.kdeplot(max_simi_for_PLANet_hold_with_PDBbind_v18)\n",
    "sns.kdeplot(max_simi_for_PLANet_hold_with_PLANet_v18)\n",
    "plt.xlabel(\"Tanimoto similarity\")\n",
    "plt.xlim(0,1)\n",
    "plt.title(f'Best similarity distribution among PDBbind_hold_out set and whole datasets')\n",
    "plt.legend(labels=['PDBbind_v18_subset','PLANet_v18'], title = \"training_set\")\n",
    "plt.savefig(f'/pubhome/xli02/project/PLIM/deep_learning/FAST/fast_plim/hold_out_2019/index/similarity/PLANet_hold_out_with_whole_set.png', dpi=300, bbox_inches='tight')\n",
    "# plt.close()\n"
   ]
  },
  {
   "cell_type": "code",
   "execution_count": 87,
   "metadata": {},
   "outputs": [
    {
     "data": {
      "text/plain": [
       "35"
      ]
     },
     "execution_count": 87,
     "metadata": {},
     "output_type": "execute_result"
    }
   ],
   "source": [
    "PDBbind_v18_simi_1_with_PLANet_hold_out = pd.read_csv('/pubhome/xli02/project/PLIM/deep_learning/FAST/fast_plim/hold_out_2019/index/similarity/PDBbind_v18_subset_in_PLANet_hold_out_2019/simi_1.csv', sep='\\t')\n",
    "len(set(PDBbind_v18_simi_1_with_PLANet_hold_out['PDBbind_v18_subset_cpnd_name']))"
   ]
  },
  {
   "cell_type": "code",
   "execution_count": 88,
   "metadata": {},
   "outputs": [
    {
     "data": {
      "text/plain": [
       "313"
      ]
     },
     "execution_count": 88,
     "metadata": {},
     "output_type": "execute_result"
    }
   ],
   "source": [
    "PLANet_v18_simi_1_with_PLANet_hold_out = pd.read_csv('/pubhome/xli02/project/PLIM/deep_learning/FAST/fast_plim/hold_out_2019/index/similarity/PLANet_v18_in_PLANet_hold_out_2019/simi_1.csv', sep='\\t')\n",
    "len(set(PLANet_v18_simi_1_with_PLANet_hold_out['PLANet_v18_cpnd_name']))"
   ]
  },
  {
   "cell_type": "markdown",
   "metadata": {},
   "source": [
    "# PDBbind_subset_rm_simi_1"
   ]
  },
  {
   "cell_type": "code",
   "execution_count": 91,
   "metadata": {},
   "outputs": [
    {
     "data": {
      "text/plain": [
       "51"
      ]
     },
     "execution_count": 91,
     "metadata": {},
     "output_type": "execute_result"
    }
   ],
   "source": [
    "len(PDBbind_v18_subset[PDBbind_v18_subset['pdb_id'].isin(list(PDBbind_v18_simi_1_with_PDBbind_hold_out['PDBbind_v18_subset_cpnd_name']) + list(PDBbind_v18_simi_1_with_PLANet_hold_out['PDBbind_v18_subset_cpnd_name']))])"
   ]
  },
  {
   "cell_type": "code",
   "execution_count": 96,
   "metadata": {},
   "outputs": [
    {
     "data": {
      "text/plain": [
       "5371"
      ]
     },
     "execution_count": 96,
     "metadata": {},
     "output_type": "execute_result"
    }
   ],
   "source": [
    "PDBbind_v18_subset_rm_simi_1 = PDBbind_v18_subset[~PDBbind_v18_subset['pdb_id'].isin(list(PDBbind_v18_simi_1_with_PDBbind_hold_out['PDBbind_v18_subset_cpnd_name']) + list(PDBbind_v18_simi_1_with_PLANet_hold_out['PDBbind_v18_subset_cpnd_name']))]\n",
    "PDBbind_v18_subset_rm_simi_1.to_csv('/pubhome/xli02/project/PLIM/deep_learning/FAST/fast_plim/hold_out_2019/index/rm_all_simi_1/PDBbind_v18_subset_rm_simi_1.csv', sep='\\t', index=False)\n",
    "len(PDBbind_v18_subset_rm_simi_1)"
   ]
  },
  {
   "cell_type": "code",
   "execution_count": 97,
   "metadata": {},
   "outputs": [
    {
     "data": {
      "text/plain": [
       "Index(['unique_identify', '-logAffi', 'Target_chembl_id', 'Cry_lig_name',\n",
       "       'Cry_lig_smiles', 'Cry_lig_an', 'Similar_compnd_name',\n",
       "       'Similar_compnd_smiles', 'Similar_compnd_an', 'Similarity', 'Core_num',\n",
       "       'Diff_an', 'Part_fix', 'Total_sampled_num', 'Similar_compnd_conform',\n",
       "       'Total_delta', 'Lig_delta', 'Core_RMSD', 'MolWt', 'MCS_smarts',\n",
       "       'target_compnd'],\n",
       "      dtype='object')"
      ]
     },
     "execution_count": 97,
     "metadata": {},
     "output_type": "execute_result"
    }
   ],
   "source": [
    "PLANet_v18.columns"
   ]
  },
  {
   "cell_type": "code",
   "execution_count": 99,
   "metadata": {},
   "outputs": [
    {
     "data": {
      "text/plain": [
       "63604"
      ]
     },
     "execution_count": 99,
     "metadata": {},
     "output_type": "execute_result"
    }
   ],
   "source": [
    "PLANet_v18_rm_simi_1 = PLANet_v18[~PLANet_v18['unique_identify'].isin(list(PLANet_simi_1_with_PDBbind_hold_out['PLANet_v18_cpnd_name']) + list(PLANet_v18_simi_1_with_PLANet_hold_out['PLANet_v18_cpnd_name']))]\n",
    "PLANet_v18_rm_simi_1[['unique_identify', '-logAffi']].to_csv('/pubhome/xli02/project/PLIM/deep_learning/FAST/fast_plim/hold_out_2019/index/rm_all_simi_1/PLANet_v18_rm_simi_1.csv', sep='\\t', index=False)\n",
    "len(PLANet_v18_rm_simi_1)"
   ]
  }
 ],
 "metadata": {
  "interpreter": {
   "hash": "0a139d299aa72e1e7e71fb933870bb205ad66de2df88d66811d79934985b179d"
  },
  "kernelspec": {
   "display_name": "Python 3.6.13 64-bit ('fast': conda)",
   "name": "python3"
  },
  "language_info": {
   "codemirror_mode": {
    "name": "ipython",
    "version": 3
   },
   "file_extension": ".py",
   "mimetype": "text/x-python",
   "name": "python",
   "nbconvert_exporter": "python",
   "pygments_lexer": "ipython3",
   "version": "3.6.13"
  },
  "orig_nbformat": 4
 },
 "nbformat": 4,
 "nbformat_minor": 2
}
