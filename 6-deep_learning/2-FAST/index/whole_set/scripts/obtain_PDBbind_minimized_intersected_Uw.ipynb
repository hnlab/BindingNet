{
 "cells": [
  {
   "cell_type": "code",
   "execution_count": 9,
   "metadata": {},
   "outputs": [],
   "source": [
    "import pandas as pd\n",
    "wrkdir = '/pubhome/xli02/project/PLIM/v2019_dataset'"
   ]
  },
  {
   "cell_type": "markdown",
   "metadata": {},
   "source": [
    "# 手动修改前，PLANet中有12个pdbid不在PDBbind_minimized中, core set有1个pdbid不在PDBbind_minimized中"
   ]
  },
  {
   "cell_type": "code",
   "execution_count": 5,
   "metadata": {},
   "outputs": [],
   "source": [
    "# PDBbind_minimized = f'{wrkdir}/PDBbind_v2019/index/PDBbind_v19_minimized_succeed_final.csv'\n",
    "# PDBbind_minimized_df = pd.read_csv(PDBbind_minimized, sep='\\t')"
   ]
  },
  {
   "cell_type": "code",
   "execution_count": 6,
   "metadata": {},
   "outputs": [
    {
     "data": {
      "text/plain": [
       "17166"
      ]
     },
     "execution_count": 6,
     "metadata": {},
     "output_type": "execute_result"
    }
   ],
   "source": [
    "# len(PDBbind_minimized_df)"
   ]
  },
  {
   "cell_type": "code",
   "execution_count": 7,
   "metadata": {},
   "outputs": [
    {
     "data": {
      "text/html": [
       "<div>\n",
       "<style scoped>\n",
       "    .dataframe tbody tr th:only-of-type {\n",
       "        vertical-align: middle;\n",
       "    }\n",
       "\n",
       "    .dataframe tbody tr th {\n",
       "        vertical-align: top;\n",
       "    }\n",
       "\n",
       "    .dataframe thead th {\n",
       "        text-align: right;\n",
       "    }\n",
       "</style>\n",
       "<table border=\"1\" class=\"dataframe\">\n",
       "  <thead>\n",
       "    <tr style=\"text-align: right;\">\n",
       "      <th></th>\n",
       "      <th>pdb_id</th>\n",
       "      <th>-logAffi</th>\n",
       "    </tr>\n",
       "  </thead>\n",
       "  <tbody>\n",
       "    <tr>\n",
       "      <th>0</th>\n",
       "      <td>3zzf</td>\n",
       "      <td>0.40</td>\n",
       "    </tr>\n",
       "    <tr>\n",
       "      <th>1</th>\n",
       "      <td>3gww</td>\n",
       "      <td>0.45</td>\n",
       "    </tr>\n",
       "    <tr>\n",
       "      <th>2</th>\n",
       "      <td>1w8l</td>\n",
       "      <td>0.49</td>\n",
       "    </tr>\n",
       "    <tr>\n",
       "      <th>3</th>\n",
       "      <td>3fqa</td>\n",
       "      <td>0.49</td>\n",
       "    </tr>\n",
       "    <tr>\n",
       "      <th>4</th>\n",
       "      <td>1zsb</td>\n",
       "      <td>0.60</td>\n",
       "    </tr>\n",
       "  </tbody>\n",
       "</table>\n",
       "</div>"
      ],
      "text/plain": [
       "  pdb_id  -logAffi\n",
       "0   3zzf      0.40\n",
       "1   3gww      0.45\n",
       "2   1w8l      0.49\n",
       "3   3fqa      0.49\n",
       "4   1zsb      0.60"
      ]
     },
     "execution_count": 7,
     "metadata": {},
     "output_type": "execute_result"
    }
   ],
   "source": [
    "# PDBbind_minimized_df.head()"
   ]
  },
  {
   "cell_type": "code",
   "execution_count": 12,
   "metadata": {},
   "outputs": [
    {
     "name": "stdout",
     "output_type": "stream",
     "text": [
      "pdbids in PLANet_Uw: 5908\n"
     ]
    }
   ],
   "source": [
    "# PLANet_Uw = f'{wrkdir}/index/PLANet_Uw_final_median.csv'\n",
    "# PLANet_Uw_df = pd.read_csv(PLANet_Uw, sep='\\t')\n",
    "# PLANet_Uw_df['pdb_id'] = PLANet_Uw_df['unique_identify'].str.split('_').str[1]\n",
    "# print(f\"pdbids in PLANet_Uw: {len(set(PLANet_Uw_df['pdb_id']))}\")"
   ]
  },
  {
   "cell_type": "code",
   "execution_count": 13,
   "metadata": {},
   "outputs": [],
   "source": [
    "# PDBbind_intersected_Uw = PDBbind_minimized_df[PDBbind_minimized_df['pdb_id'].isin(set(PLANet_Uw_df['pdb_id']))].copy()\n",
    "# PDBbind_intersected_Uw.to_csv(f'{wrkdir}/PDBbind_v2019/index/PDBbind_intersected_PLANet_Uw.csv', sep='\\t', index=False)"
   ]
  },
  {
   "cell_type": "code",
   "execution_count": 14,
   "metadata": {},
   "outputs": [
    {
     "data": {
      "text/plain": [
       "5896"
      ]
     },
     "execution_count": 14,
     "metadata": {},
     "output_type": "execute_result"
    }
   ],
   "source": [
    "# len(PDBbind_intersected_Uw)"
   ]
  },
  {
   "cell_type": "code",
   "execution_count": 18,
   "metadata": {},
   "outputs": [
    {
     "data": {
      "text/plain": [
       "['2wgj',\n",
       " '5tya',\n",
       " '3ik1',\n",
       " '5owl',\n",
       " '4tyt',\n",
       " '1gi9',\n",
       " '5hng',\n",
       " '3v5j',\n",
       " '5akh',\n",
       " '2zjw',\n",
       " '3mjl',\n",
       " '6eum']"
      ]
     },
     "execution_count": 18,
     "metadata": {},
     "output_type": "execute_result"
    }
   ],
   "source": [
    "# [p for p in set(PLANet_Uw_df['pdb_id']) if p not in list(PDBbind_minimized_df['pdb_id'])]"
   ]
  },
  {
   "cell_type": "code",
   "execution_count": null,
   "metadata": {},
   "outputs": [],
   "source": []
  },
  {
   "cell_type": "code",
   "execution_count": 1,
   "metadata": {},
   "outputs": [],
   "source": [
    "core_pdbid_file = f'/pubhome/xli02/Downloads/dataset/PDBbind/CASF-2016/core_pdbid.csv'\n",
    "with open(core_pdbid_file, 'r') as f:\n",
    "    lines = f.readlines()\n",
    "core_pdbids = [line.rstrip() for line in lines]"
   ]
  },
  {
   "cell_type": "code",
   "execution_count": 3,
   "metadata": {},
   "outputs": [
    {
     "data": {
      "text/plain": [
       "285"
      ]
     },
     "execution_count": 3,
     "metadata": {},
     "output_type": "execute_result"
    }
   ],
   "source": [
    "len(core_pdbids)"
   ]
  },
  {
   "cell_type": "code",
   "execution_count": 8,
   "metadata": {},
   "outputs": [
    {
     "data": {
      "text/plain": [
       "284"
      ]
     },
     "execution_count": 8,
     "metadata": {},
     "output_type": "execute_result"
    }
   ],
   "source": [
    "len(PDBbind_minimized_df[PDBbind_minimized_df['pdb_id'].isin(core_pdbids)])"
   ]
  },
  {
   "cell_type": "code",
   "execution_count": 11,
   "metadata": {},
   "outputs": [
    {
     "data": {
      "text/plain": [
       "['3arp']"
      ]
     },
     "execution_count": 11,
     "metadata": {},
     "output_type": "execute_result"
    }
   ],
   "source": [
    "[i for i in core_pdbids if i not in list(PDBbind_minimized_df['pdb_id'])]"
   ]
  },
  {
   "cell_type": "markdown",
   "metadata": {},
   "source": []
  },
  {
   "cell_type": "code",
   "execution_count": 13,
   "metadata": {},
   "outputs": [
    {
     "name": "stdout",
     "output_type": "stream",
     "text": [
      "pdbids in PLANet_all: 7150\n"
     ]
    }
   ],
   "source": [
    "PLANet_all = f'{wrkdir}/index/PLANet_all_final_median.csv'\n",
    "PLANet_all_df = pd.read_csv(PLANet_all, sep='\\t')\n",
    "PLANet_all_df['pdb_id'] = PLANet_all_df['unique_identify'].str.split('_').str[1]\n",
    "print(f\"pdbids in PLANet_all: {len(set(PLANet_all_df['pdb_id']))}\")"
   ]
  },
  {
   "cell_type": "code",
   "execution_count": 14,
   "metadata": {},
   "outputs": [
    {
     "data": {
      "text/plain": [
       "['5u4c', '5u0d', '5qa9', '1hi3']"
      ]
     },
     "execution_count": 14,
     "metadata": {},
     "output_type": "execute_result"
    }
   ],
   "source": [
    "[p for p in set(PLANet_all_df['pdb_id']) if p not in list(PDBbind_minimized_modified_df['pdb_id'])]"
   ]
  },
  {
   "cell_type": "markdown",
   "metadata": {},
   "source": [
    "# 手动将12 + 1个pdbid修改`crl`/`mxitn`使RMSD<2A后, PDBbind_minimized包含PLANet的全部模板复合物 & 包含core set中的全部pdbid"
   ]
  },
  {
   "cell_type": "code",
   "execution_count": 10,
   "metadata": {},
   "outputs": [],
   "source": [
    "PDBbind_minimized_modified = f'{wrkdir}/PDBbind_v2019/index/PDBbind_v19_minimized_succeed_manually_modified_final.csv'\n",
    "PDBbind_minimized_modified_df = pd.read_csv(PDBbind_minimized_modified, sep='\\t')"
   ]
  },
  {
   "cell_type": "code",
   "execution_count": 11,
   "metadata": {},
   "outputs": [
    {
     "data": {
      "text/plain": [
       "17179"
      ]
     },
     "execution_count": 11,
     "metadata": {},
     "output_type": "execute_result"
    }
   ],
   "source": [
    "len(PDBbind_minimized_modified_df)"
   ]
  },
  {
   "cell_type": "code",
   "execution_count": 12,
   "metadata": {},
   "outputs": [
    {
     "name": "stdout",
     "output_type": "stream",
     "text": [
      "pdbids in PLANet_Uw: 5908\n"
     ]
    }
   ],
   "source": [
    "PLANet_Uw = f'{wrkdir}/index/PLANet_Uw_final_median.csv'\n",
    "PLANet_Uw_df = pd.read_csv(PLANet_Uw, sep='\\t')\n",
    "PLANet_Uw_df['pdb_id'] = PLANet_Uw_df['unique_identify'].str.split('_').str[1]\n",
    "print(f\"pdbids in PLANet_Uw: {len(set(PLANet_Uw_df['pdb_id']))}\")"
   ]
  },
  {
   "cell_type": "code",
   "execution_count": 7,
   "metadata": {},
   "outputs": [],
   "source": [
    "PDBbind_minimized_intersected_Uw = PDBbind_minimized_modified_df[PDBbind_minimized_modified_df['pdb_id'].isin(set(PLANet_Uw_df['pdb_id']))].copy()\n",
    "PDBbind_minimized_intersected_Uw.to_csv(f'{wrkdir}/PDBbind_v2019/index/PDBbind_minimized_intersected_Uw/PDBbind_minimized_final_intersected_PLANet_Uw.csv', sep='\\t', index=False)"
   ]
  },
  {
   "cell_type": "code",
   "execution_count": 8,
   "metadata": {},
   "outputs": [
    {
     "data": {
      "text/plain": [
       "5908"
      ]
     },
     "execution_count": 8,
     "metadata": {},
     "output_type": "execute_result"
    }
   ],
   "source": [
    "len(PDBbind_minimized_intersected_Uw)"
   ]
  }
 ],
 "metadata": {
  "interpreter": {
   "hash": "5392cf84ae432ebab9f45f1fd0edec7dfa96ae36dec81e4e087ac13f199efb24"
  },
  "kernelspec": {
   "display_name": "Python 3.6.13 64-bit ('fast': conda)",
   "name": "python3"
  },
  "language_info": {
   "codemirror_mode": {
    "name": "ipython",
    "version": 3
   },
   "file_extension": ".py",
   "mimetype": "text/x-python",
   "name": "python",
   "nbconvert_exporter": "python",
   "pygments_lexer": "ipython3",
   "version": "3.6.13"
  },
  "orig_nbformat": 4
 },
 "nbformat": 4,
 "nbformat_minor": 2
}
