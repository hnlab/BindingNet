{
 "cells": [
  {
   "cell_type": "code",
   "execution_count": 1,
   "metadata": {},
   "outputs": [],
   "source": [
    "import pandas as pd\n",
    "import numpy as np\n",
    "import oddt\n",
    "from oddt import toolkit\n",
    "from oddt.scoring.descriptors import close_contacts_descriptor, oddt_vina_descriptor"
   ]
  },
  {
   "cell_type": "code",
   "execution_count": 3,
   "metadata": {},
   "outputs": [
    {
     "data": {
      "text/html": [
       "<div>\n",
       "<style scoped>\n",
       "    .dataframe tbody tr th:only-of-type {\n",
       "        vertical-align: middle;\n",
       "    }\n",
       "\n",
       "    .dataframe tbody tr th {\n",
       "        vertical-align: top;\n",
       "    }\n",
       "\n",
       "    .dataframe thead th {\n",
       "        text-align: right;\n",
       "    }\n",
       "</style>\n",
       "<table border=\"1\" class=\"dataframe\">\n",
       "  <thead>\n",
       "    <tr style=\"text-align: right;\">\n",
       "      <th></th>\n",
       "      <th>pdb_id</th>\n",
       "      <th>-logAffi</th>\n",
       "    </tr>\n",
       "  </thead>\n",
       "  <tbody>\n",
       "    <tr>\n",
       "      <th>0</th>\n",
       "      <td>3ao4</td>\n",
       "      <td>2.07</td>\n",
       "    </tr>\n",
       "    <tr>\n",
       "      <th>1</th>\n",
       "      <td>3gv9</td>\n",
       "      <td>2.12</td>\n",
       "    </tr>\n",
       "    <tr>\n",
       "      <th>2</th>\n",
       "      <td>1uto</td>\n",
       "      <td>2.27</td>\n",
       "    </tr>\n",
       "    <tr>\n",
       "      <th>3</th>\n",
       "      <td>1ps3</td>\n",
       "      <td>2.28</td>\n",
       "    </tr>\n",
       "    <tr>\n",
       "      <th>4</th>\n",
       "      <td>4ddk</td>\n",
       "      <td>2.29</td>\n",
       "    </tr>\n",
       "    <tr>\n",
       "      <th>...</th>\n",
       "      <td>...</td>\n",
       "      <td>...</td>\n",
       "    </tr>\n",
       "    <tr>\n",
       "      <th>280</th>\n",
       "      <td>5dwr</td>\n",
       "      <td>11.22</td>\n",
       "    </tr>\n",
       "    <tr>\n",
       "      <th>281</th>\n",
       "      <td>4f2w</td>\n",
       "      <td>11.30</td>\n",
       "    </tr>\n",
       "    <tr>\n",
       "      <th>282</th>\n",
       "      <td>2x00</td>\n",
       "      <td>11.33</td>\n",
       "    </tr>\n",
       "    <tr>\n",
       "      <th>283</th>\n",
       "      <td>3o9i</td>\n",
       "      <td>11.82</td>\n",
       "    </tr>\n",
       "    <tr>\n",
       "      <th>284</th>\n",
       "      <td>4f3c</td>\n",
       "      <td>11.82</td>\n",
       "    </tr>\n",
       "  </tbody>\n",
       "</table>\n",
       "<p>285 rows × 2 columns</p>\n",
       "</div>"
      ],
      "text/plain": [
       "    pdb_id  -logAffi\n",
       "0     3ao4      2.07\n",
       "1     3gv9      2.12\n",
       "2     1uto      2.27\n",
       "3     1ps3      2.28\n",
       "4     4ddk      2.29\n",
       "..     ...       ...\n",
       "280   5dwr     11.22\n",
       "281   4f2w     11.30\n",
       "282   2x00     11.33\n",
       "283   3o9i     11.82\n",
       "284   4f3c     11.82\n",
       "\n",
       "[285 rows x 2 columns]"
      ]
     },
     "execution_count": 3,
     "metadata": {},
     "output_type": "execute_result"
    }
   ],
   "source": [
    "core = pd.read_csv(\"/pubhome/xli02/Downloads/dataset/PDBbind/PDBbind_v2019/CASF_v16_index_dealt.csv\", sep=\"\\t\")\n",
    "core"
   ]
  },
  {
   "cell_type": "code",
   "execution_count": 4,
   "metadata": {},
   "outputs": [
    {
     "data": {
      "text/plain": [
       "(285, 2)"
      ]
     },
     "execution_count": 4,
     "metadata": {},
     "output_type": "execute_result"
    }
   ],
   "source": [
    "core.shape"
   ]
  },
  {
   "cell_type": "code",
   "execution_count": 5,
   "metadata": {},
   "outputs": [
    {
     "data": {
      "text/plain": [
       "'3ao4'"
      ]
     },
     "execution_count": 5,
     "metadata": {},
     "output_type": "execute_result"
    }
   ],
   "source": [
    "core.iloc[0,]['pdb_id']"
   ]
  },
  {
   "cell_type": "code",
   "execution_count": 6,
   "metadata": {},
   "outputs": [
    {
     "data": {
      "text/html": [
       "<div>\n",
       "<style scoped>\n",
       "    .dataframe tbody tr th:only-of-type {\n",
       "        vertical-align: middle;\n",
       "    }\n",
       "\n",
       "    .dataframe tbody tr th {\n",
       "        vertical-align: top;\n",
       "    }\n",
       "\n",
       "    .dataframe thead th {\n",
       "        text-align: right;\n",
       "    }\n",
       "</style>\n",
       "<table border=\"1\" class=\"dataframe\">\n",
       "  <thead>\n",
       "    <tr style=\"text-align: right;\">\n",
       "      <th></th>\n",
       "      <th>6.6</th>\n",
       "      <th>6.7</th>\n",
       "      <th>6.8</th>\n",
       "      <th>6.9</th>\n",
       "      <th>6.15</th>\n",
       "      <th>6.16</th>\n",
       "      <th>6.17</th>\n",
       "      <th>6.35</th>\n",
       "      <th>6.53</th>\n",
       "      <th>7.6</th>\n",
       "      <th>...</th>\n",
       "      <th>16.53_8-10</th>\n",
       "      <th>16.53_10-12</th>\n",
       "      <th>vina_gauss1</th>\n",
       "      <th>vina_gauss2</th>\n",
       "      <th>vina_repulsion</th>\n",
       "      <th>vina_hydrophobic</th>\n",
       "      <th>vina_hydrogen</th>\n",
       "      <th>vina_num_rotors</th>\n",
       "      <th>pdb_id</th>\n",
       "      <th>-logAffi</th>\n",
       "    </tr>\n",
       "  </thead>\n",
       "  <tbody>\n",
       "    <tr>\n",
       "      <th>0</th>\n",
       "      <td>2143.0</td>\n",
       "      <td>577.0</td>\n",
       "      <td>570.0</td>\n",
       "      <td>0.0</td>\n",
       "      <td>466.0</td>\n",
       "      <td>125.0</td>\n",
       "      <td>135.0</td>\n",
       "      <td>0.0</td>\n",
       "      <td>435.0</td>\n",
       "      <td>114.0</td>\n",
       "      <td>...</td>\n",
       "      <td>0.0</td>\n",
       "      <td>0.0</td>\n",
       "      <td>89.413338</td>\n",
       "      <td>1012.445923</td>\n",
       "      <td>3.515519</td>\n",
       "      <td>22.675829</td>\n",
       "      <td>2.582556</td>\n",
       "      <td>1.0</td>\n",
       "      <td>3ao4</td>\n",
       "      <td>2.07</td>\n",
       "    </tr>\n",
       "    <tr>\n",
       "      <th>1</th>\n",
       "      <td>1094.0</td>\n",
       "      <td>359.0</td>\n",
       "      <td>386.0</td>\n",
       "      <td>0.0</td>\n",
       "      <td>160.0</td>\n",
       "      <td>52.0</td>\n",
       "      <td>59.0</td>\n",
       "      <td>0.0</td>\n",
       "      <td>551.0</td>\n",
       "      <td>163.0</td>\n",
       "      <td>...</td>\n",
       "      <td>0.0</td>\n",
       "      <td>0.0</td>\n",
       "      <td>42.500523</td>\n",
       "      <td>665.454651</td>\n",
       "      <td>3.699299</td>\n",
       "      <td>8.649817</td>\n",
       "      <td>1.566987</td>\n",
       "      <td>3.0</td>\n",
       "      <td>3gv9</td>\n",
       "      <td>2.12</td>\n",
       "    </tr>\n",
       "    <tr>\n",
       "      <th>2</th>\n",
       "      <td>1286.0</td>\n",
       "      <td>365.0</td>\n",
       "      <td>439.0</td>\n",
       "      <td>38.0</td>\n",
       "      <td>191.0</td>\n",
       "      <td>54.0</td>\n",
       "      <td>63.0</td>\n",
       "      <td>4.0</td>\n",
       "      <td>0.0</td>\n",
       "      <td>0.0</td>\n",
       "      <td>...</td>\n",
       "      <td>0.0</td>\n",
       "      <td>0.0</td>\n",
       "      <td>36.334339</td>\n",
       "      <td>568.007385</td>\n",
       "      <td>2.532124</td>\n",
       "      <td>4.822641</td>\n",
       "      <td>2.605420</td>\n",
       "      <td>2.0</td>\n",
       "      <td>1uto</td>\n",
       "      <td>2.27</td>\n",
       "    </tr>\n",
       "    <tr>\n",
       "      <th>3</th>\n",
       "      <td>1629.0</td>\n",
       "      <td>424.0</td>\n",
       "      <td>463.0</td>\n",
       "      <td>8.0</td>\n",
       "      <td>392.0</td>\n",
       "      <td>101.0</td>\n",
       "      <td>110.0</td>\n",
       "      <td>2.0</td>\n",
       "      <td>1211.0</td>\n",
       "      <td>307.0</td>\n",
       "      <td>...</td>\n",
       "      <td>0.0</td>\n",
       "      <td>0.0</td>\n",
       "      <td>87.529808</td>\n",
       "      <td>1003.525940</td>\n",
       "      <td>9.235392</td>\n",
       "      <td>0.000000</td>\n",
       "      <td>11.397213</td>\n",
       "      <td>1.0</td>\n",
       "      <td>1ps3</td>\n",
       "      <td>2.28</td>\n",
       "    </tr>\n",
       "    <tr>\n",
       "      <th>4</th>\n",
       "      <td>1449.0</td>\n",
       "      <td>454.0</td>\n",
       "      <td>423.0</td>\n",
       "      <td>9.0</td>\n",
       "      <td>0.0</td>\n",
       "      <td>0.0</td>\n",
       "      <td>0.0</td>\n",
       "      <td>0.0</td>\n",
       "      <td>731.0</td>\n",
       "      <td>216.0</td>\n",
       "      <td>...</td>\n",
       "      <td>0.0</td>\n",
       "      <td>0.0</td>\n",
       "      <td>62.257332</td>\n",
       "      <td>845.647339</td>\n",
       "      <td>0.912782</td>\n",
       "      <td>15.093544</td>\n",
       "      <td>0.509013</td>\n",
       "      <td>1.0</td>\n",
       "      <td>4ddk</td>\n",
       "      <td>2.29</td>\n",
       "    </tr>\n",
       "    <tr>\n",
       "      <th>...</th>\n",
       "      <td>...</td>\n",
       "      <td>...</td>\n",
       "      <td>...</td>\n",
       "      <td>...</td>\n",
       "      <td>...</td>\n",
       "      <td>...</td>\n",
       "      <td>...</td>\n",
       "      <td>...</td>\n",
       "      <td>...</td>\n",
       "      <td>...</td>\n",
       "      <td>...</td>\n",
       "      <td>...</td>\n",
       "      <td>...</td>\n",
       "      <td>...</td>\n",
       "      <td>...</td>\n",
       "      <td>...</td>\n",
       "      <td>...</td>\n",
       "      <td>...</td>\n",
       "      <td>...</td>\n",
       "      <td>...</td>\n",
       "      <td>...</td>\n",
       "    </tr>\n",
       "    <tr>\n",
       "      <th>280</th>\n",
       "      <td>4301.0</td>\n",
       "      <td>1069.0</td>\n",
       "      <td>1241.0</td>\n",
       "      <td>0.0</td>\n",
       "      <td>752.0</td>\n",
       "      <td>188.0</td>\n",
       "      <td>218.0</td>\n",
       "      <td>0.0</td>\n",
       "      <td>217.0</td>\n",
       "      <td>53.0</td>\n",
       "      <td>...</td>\n",
       "      <td>0.0</td>\n",
       "      <td>0.0</td>\n",
       "      <td>92.461945</td>\n",
       "      <td>1721.970703</td>\n",
       "      <td>3.735585</td>\n",
       "      <td>72.053085</td>\n",
       "      <td>2.000000</td>\n",
       "      <td>5.0</td>\n",
       "      <td>5dwr</td>\n",
       "      <td>11.22</td>\n",
       "    </tr>\n",
       "    <tr>\n",
       "      <th>281</th>\n",
       "      <td>2813.0</td>\n",
       "      <td>747.0</td>\n",
       "      <td>853.0</td>\n",
       "      <td>26.0</td>\n",
       "      <td>1109.0</td>\n",
       "      <td>285.0</td>\n",
       "      <td>323.0</td>\n",
       "      <td>10.0</td>\n",
       "      <td>202.0</td>\n",
       "      <td>51.0</td>\n",
       "      <td>...</td>\n",
       "      <td>0.0</td>\n",
       "      <td>0.0</td>\n",
       "      <td>118.319153</td>\n",
       "      <td>1375.721313</td>\n",
       "      <td>3.114269</td>\n",
       "      <td>8.066344</td>\n",
       "      <td>4.417650</td>\n",
       "      <td>4.0</td>\n",
       "      <td>4f2w</td>\n",
       "      <td>11.30</td>\n",
       "    </tr>\n",
       "    <tr>\n",
       "      <th>282</th>\n",
       "      <td>5424.0</td>\n",
       "      <td>1355.0</td>\n",
       "      <td>1725.0</td>\n",
       "      <td>89.0</td>\n",
       "      <td>197.0</td>\n",
       "      <td>48.0</td>\n",
       "      <td>57.0</td>\n",
       "      <td>3.0</td>\n",
       "      <td>595.0</td>\n",
       "      <td>148.0</td>\n",
       "      <td>...</td>\n",
       "      <td>0.0</td>\n",
       "      <td>0.0</td>\n",
       "      <td>92.534737</td>\n",
       "      <td>1735.956543</td>\n",
       "      <td>1.925060</td>\n",
       "      <td>91.395836</td>\n",
       "      <td>0.000000</td>\n",
       "      <td>1.0</td>\n",
       "      <td>2x00</td>\n",
       "      <td>11.33</td>\n",
       "    </tr>\n",
       "    <tr>\n",
       "      <th>283</th>\n",
       "      <td>5353.0</td>\n",
       "      <td>1488.0</td>\n",
       "      <td>1587.0</td>\n",
       "      <td>3.0</td>\n",
       "      <td>562.0</td>\n",
       "      <td>160.0</td>\n",
       "      <td>164.0</td>\n",
       "      <td>0.0</td>\n",
       "      <td>1301.0</td>\n",
       "      <td>356.0</td>\n",
       "      <td>...</td>\n",
       "      <td>0.0</td>\n",
       "      <td>0.0</td>\n",
       "      <td>144.244247</td>\n",
       "      <td>2239.065918</td>\n",
       "      <td>4.929898</td>\n",
       "      <td>53.110027</td>\n",
       "      <td>5.489359</td>\n",
       "      <td>12.0</td>\n",
       "      <td>3o9i</td>\n",
       "      <td>11.82</td>\n",
       "    </tr>\n",
       "    <tr>\n",
       "      <th>284</th>\n",
       "      <td>3256.0</td>\n",
       "      <td>852.0</td>\n",
       "      <td>993.0</td>\n",
       "      <td>36.0</td>\n",
       "      <td>1111.0</td>\n",
       "      <td>285.0</td>\n",
       "      <td>320.0</td>\n",
       "      <td>10.0</td>\n",
       "      <td>202.0</td>\n",
       "      <td>54.0</td>\n",
       "      <td>...</td>\n",
       "      <td>0.0</td>\n",
       "      <td>0.0</td>\n",
       "      <td>133.987549</td>\n",
       "      <td>1511.098877</td>\n",
       "      <td>3.791019</td>\n",
       "      <td>33.519897</td>\n",
       "      <td>4.457585</td>\n",
       "      <td>7.0</td>\n",
       "      <td>4f3c</td>\n",
       "      <td>11.82</td>\n",
       "    </tr>\n",
       "  </tbody>\n",
       "</table>\n",
       "<p>285 rows × 260 columns</p>\n",
       "</div>"
      ],
      "text/plain": [
       "        6.6     6.7     6.8   6.9    6.15   6.16   6.17  6.35    6.53    7.6  \\\n",
       "0    2143.0   577.0   570.0   0.0   466.0  125.0  135.0   0.0   435.0  114.0   \n",
       "1    1094.0   359.0   386.0   0.0   160.0   52.0   59.0   0.0   551.0  163.0   \n",
       "2    1286.0   365.0   439.0  38.0   191.0   54.0   63.0   4.0     0.0    0.0   \n",
       "3    1629.0   424.0   463.0   8.0   392.0  101.0  110.0   2.0  1211.0  307.0   \n",
       "4    1449.0   454.0   423.0   9.0     0.0    0.0    0.0   0.0   731.0  216.0   \n",
       "..      ...     ...     ...   ...     ...    ...    ...   ...     ...    ...   \n",
       "280  4301.0  1069.0  1241.0   0.0   752.0  188.0  218.0   0.0   217.0   53.0   \n",
       "281  2813.0   747.0   853.0  26.0  1109.0  285.0  323.0  10.0   202.0   51.0   \n",
       "282  5424.0  1355.0  1725.0  89.0   197.0   48.0   57.0   3.0   595.0  148.0   \n",
       "283  5353.0  1488.0  1587.0   3.0   562.0  160.0  164.0   0.0  1301.0  356.0   \n",
       "284  3256.0   852.0   993.0  36.0  1111.0  285.0  320.0  10.0   202.0   54.0   \n",
       "\n",
       "     ...  16.53_8-10  16.53_10-12  vina_gauss1  vina_gauss2  vina_repulsion  \\\n",
       "0    ...         0.0          0.0    89.413338  1012.445923        3.515519   \n",
       "1    ...         0.0          0.0    42.500523   665.454651        3.699299   \n",
       "2    ...         0.0          0.0    36.334339   568.007385        2.532124   \n",
       "3    ...         0.0          0.0    87.529808  1003.525940        9.235392   \n",
       "4    ...         0.0          0.0    62.257332   845.647339        0.912782   \n",
       "..   ...         ...          ...          ...          ...             ...   \n",
       "280  ...         0.0          0.0    92.461945  1721.970703        3.735585   \n",
       "281  ...         0.0          0.0   118.319153  1375.721313        3.114269   \n",
       "282  ...         0.0          0.0    92.534737  1735.956543        1.925060   \n",
       "283  ...         0.0          0.0   144.244247  2239.065918        4.929898   \n",
       "284  ...         0.0          0.0   133.987549  1511.098877        3.791019   \n",
       "\n",
       "     vina_hydrophobic  vina_hydrogen  vina_num_rotors  pdb_id  -logAffi  \n",
       "0           22.675829       2.582556              1.0    3ao4      2.07  \n",
       "1            8.649817       1.566987              3.0    3gv9      2.12  \n",
       "2            4.822641       2.605420              2.0    1uto      2.27  \n",
       "3            0.000000      11.397213              1.0    1ps3      2.28  \n",
       "4           15.093544       0.509013              1.0    4ddk      2.29  \n",
       "..                ...            ...              ...     ...       ...  \n",
       "280         72.053085       2.000000              5.0    5dwr     11.22  \n",
       "281          8.066344       4.417650              4.0    4f2w     11.30  \n",
       "282         91.395836       0.000000              1.0    2x00     11.33  \n",
       "283         53.110027       5.489359             12.0    3o9i     11.82  \n",
       "284         33.519897       4.457585              7.0    4f3c     11.82  \n",
       "\n",
       "[285 rows x 260 columns]"
      ]
     },
     "execution_count": 6,
     "metadata": {},
     "output_type": "execute_result"
    }
   ],
   "source": [
    "features = pd.read_csv(\"/pubhome/xli02/project/PLIM/deep_learning/RFscore/scripts_from_zhuhui/test_core/core_12A_RFScore_features.csv\")\n",
    "features"
   ]
  },
  {
   "cell_type": "code",
   "execution_count": 9,
   "metadata": {},
   "outputs": [],
   "source": [
    "vina_title =['vina_gauss1',\n",
    "            'vina_gauss2',\n",
    "            'vina_repulsion',\n",
    "            'vina_hydrophobic',\n",
    "            'vina_hydrogen',\n",
    "            'vina_num_rotors']"
   ]
  },
  {
   "cell_type": "code",
   "execution_count": 11,
   "metadata": {},
   "outputs": [
    {
     "data": {
      "text/plain": [
       "['vina_gauss1',\n",
       " 'vina_gauss2',\n",
       " 'vina_repulsion',\n",
       " 'vina_hydrophobic',\n",
       " 'vina_hydrogen',\n",
       " 'vina_num_rotors',\n",
       " '6.6',\n",
       " '6.7',\n",
       " '6.8',\n",
       " '6.9',\n",
       " '6.15',\n",
       " '6.16',\n",
       " '6.17',\n",
       " '6.35',\n",
       " '6.53',\n",
       " '7.6',\n",
       " '7.7',\n",
       " '7.8',\n",
       " '7.9',\n",
       " '7.15',\n",
       " '7.16',\n",
       " '7.17',\n",
       " '7.35',\n",
       " '7.53',\n",
       " '8.6',\n",
       " '8.7',\n",
       " '8.8',\n",
       " '8.9',\n",
       " '8.15',\n",
       " '8.16',\n",
       " '8.17',\n",
       " '8.35',\n",
       " '8.53',\n",
       " '16.6',\n",
       " '16.7',\n",
       " '16.8',\n",
       " '16.9',\n",
       " '16.15',\n",
       " '16.16',\n",
       " '16.17',\n",
       " '16.35',\n",
       " '16.53']"
      ]
     },
     "execution_count": 11,
     "metadata": {},
     "output_type": "execute_result"
    }
   ],
   "source": [
    "rf_v1_title = features.columns.tolist()[:36]\n",
    "feature_list = vina_title + rf_v1_title\n",
    "feature_list"
   ]
  },
  {
   "cell_type": "code",
   "execution_count": 13,
   "metadata": {},
   "outputs": [],
   "source": [
    "train_code = pd.read_csv('/pubhome/xli02/project/PLIM/deep_learning/FAST/fast_plim/PDBbind/pdbbind_v2019/minimized/dataset/PDBbind_minimized/complex_6A/train.csv', sep='\\t')\n",
    "valid_code = pd.read_csv('/pubhome/xli02/project/PLIM/deep_learning/FAST/fast_plim/PDBbind/pdbbind_v2019/minimized/dataset/PDBbind_minimized/complex_6A/valid.csv', sep='\\t')\n",
    "test_code = pd.read_csv('/pubhome/xli02/project/PLIM/deep_learning/FAST/fast_plim/PDBbind/pdbbind_v2019/minimized/dataset/PDBbind_minimized/complex_6A/test.csv', sep='\\t')"
   ]
  },
  {
   "cell_type": "code",
   "execution_count": null,
   "metadata": {},
   "outputs": [],
   "source": [
    "train_code = pd.read_csv('/pubhome/xli02/project/PLIM/deep_learning/FAST/fast_plim/PDBbind/pdbbind_v2019/minimized/dataset/PDBbind_minimized/complex_6A/train.csv', sep='\\t')"
   ]
  },
  {
   "cell_type": "code",
   "execution_count": null,
   "metadata": {},
   "outputs": [],
   "source": [
    "train_set = pd.merge(train_code, features, on=['pdb','affinity'])"
   ]
  },
  {
   "cell_type": "code",
   "execution_count": 15,
   "metadata": {},
   "outputs": [
    {
     "data": {
      "text/plain": [
       "array([ 0,  2,  4,  6,  8, 10, 12])"
      ]
     },
     "execution_count": 15,
     "metadata": {},
     "output_type": "execute_result"
    }
   ],
   "source": [
    "np.array([0, 2, 4, 6, 8, 10, 12])"
   ]
  },
  {
   "cell_type": "code",
   "execution_count": 16,
   "metadata": {},
   "outputs": [
    {
     "data": {
      "text/plain": [
       "array([ 0,  2,  4,  6,  8, 10, 12])"
      ]
     },
     "execution_count": 16,
     "metadata": {},
     "output_type": "execute_result"
    }
   ],
   "source": [
    "np.arange(0,12+1,2)"
   ]
  },
  {
   "cell_type": "code",
   "execution_count": 17,
   "metadata": {},
   "outputs": [
    {
     "data": {
      "text/plain": [
       "array([0, 2, 4, 6])"
      ]
     },
     "execution_count": 17,
     "metadata": {},
     "output_type": "execute_result"
    }
   ],
   "source": [
    "np.arange(0,6+1,2)"
   ]
  },
  {
   "cell_type": "code",
   "execution_count": null,
   "metadata": {},
   "outputs": [],
   "source": []
  },
  {
   "cell_type": "code",
   "execution_count": 55,
   "metadata": {},
   "outputs": [],
   "source": [
    "ligand_types = [6, 7, 8, 9, 15, 16, 17, 35, 53]\n",
    "protein_types = [6, 7, 8, 16]"
   ]
  },
  {
   "cell_type": "code",
   "execution_count": 56,
   "metadata": {},
   "outputs": [
    {
     "data": {
      "text/plain": [
       "[(6, 6),\n",
       " (6, 7),\n",
       " (6, 8),\n",
       " (6, 16),\n",
       " (7, 6),\n",
       " (7, 7),\n",
       " (7, 8),\n",
       " (7, 16),\n",
       " (8, 6),\n",
       " (8, 7),\n",
       " (8, 8),\n",
       " (8, 16),\n",
       " (9, 6),\n",
       " (9, 7),\n",
       " (9, 8),\n",
       " (9, 16),\n",
       " (15, 6),\n",
       " (15, 7),\n",
       " (15, 8),\n",
       " (15, 16),\n",
       " (16, 6),\n",
       " (16, 7),\n",
       " (16, 8),\n",
       " (16, 16),\n",
       " (17, 6),\n",
       " (17, 7),\n",
       " (17, 8),\n",
       " (17, 16),\n",
       " (35, 6),\n",
       " (35, 7),\n",
       " (35, 8),\n",
       " (35, 16),\n",
       " (53, 6),\n",
       " (53, 7),\n",
       " (53, 8),\n",
       " (53, 16)]"
      ]
     },
     "execution_count": 56,
     "metadata": {},
     "output_type": "execute_result"
    }
   ],
   "source": [
    "[(mol_type, prot_type)\n",
    "                         for mol_type in ligand_types\n",
    "                         for prot_type in protein_types]"
   ]
  },
  {
   "cell_type": "code",
   "execution_count": null,
   "metadata": {},
   "outputs": [],
   "source": []
  },
  {
   "cell_type": "code",
   "execution_count": 2,
   "metadata": {},
   "outputs": [
    {
     "data": {
      "text/html": [
       "<div>\n",
       "<style scoped>\n",
       "    .dataframe tbody tr th:only-of-type {\n",
       "        vertical-align: middle;\n",
       "    }\n",
       "\n",
       "    .dataframe tbody tr th {\n",
       "        vertical-align: top;\n",
       "    }\n",
       "\n",
       "    .dataframe thead th {\n",
       "        text-align: right;\n",
       "    }\n",
       "</style>\n",
       "<table border=\"1\" class=\"dataframe\">\n",
       "  <thead>\n",
       "    <tr style=\"text-align: right;\">\n",
       "      <th></th>\n",
       "      <th>pdb_id</th>\n",
       "      <th>-logAffi</th>\n",
       "    </tr>\n",
       "  </thead>\n",
       "  <tbody>\n",
       "    <tr>\n",
       "      <th>0</th>\n",
       "      <td>3zzf</td>\n",
       "      <td>0.40</td>\n",
       "    </tr>\n",
       "    <tr>\n",
       "      <th>1</th>\n",
       "      <td>3gww</td>\n",
       "      <td>0.45</td>\n",
       "    </tr>\n",
       "    <tr>\n",
       "      <th>2</th>\n",
       "      <td>1w8l</td>\n",
       "      <td>0.49</td>\n",
       "    </tr>\n",
       "    <tr>\n",
       "      <th>3</th>\n",
       "      <td>3fqa</td>\n",
       "      <td>0.49</td>\n",
       "    </tr>\n",
       "    <tr>\n",
       "      <th>4</th>\n",
       "      <td>1zsb</td>\n",
       "      <td>0.60</td>\n",
       "    </tr>\n",
       "    <tr>\n",
       "      <th>...</th>\n",
       "      <td>...</td>\n",
       "      <td>...</td>\n",
       "    </tr>\n",
       "    <tr>\n",
       "      <th>16889</th>\n",
       "      <td>7cpa</td>\n",
       "      <td>13.96</td>\n",
       "    </tr>\n",
       "    <tr>\n",
       "      <th>16890</th>\n",
       "      <td>2xuf</td>\n",
       "      <td>14.39</td>\n",
       "    </tr>\n",
       "    <tr>\n",
       "      <th>16891</th>\n",
       "      <td>1avd</td>\n",
       "      <td>15.00</td>\n",
       "    </tr>\n",
       "    <tr>\n",
       "      <th>16892</th>\n",
       "      <td>2xui</td>\n",
       "      <td>15.00</td>\n",
       "    </tr>\n",
       "    <tr>\n",
       "      <th>16893</th>\n",
       "      <td>2avi</td>\n",
       "      <td>15.22</td>\n",
       "    </tr>\n",
       "  </tbody>\n",
       "</table>\n",
       "<p>16894 rows × 2 columns</p>\n",
       "</div>"
      ],
      "text/plain": [
       "      pdb_id  -logAffi\n",
       "0       3zzf      0.40\n",
       "1       3gww      0.45\n",
       "2       1w8l      0.49\n",
       "3       3fqa      0.49\n",
       "4       1zsb      0.60\n",
       "...      ...       ...\n",
       "16889   7cpa     13.96\n",
       "16890   2xuf     14.39\n",
       "16891   1avd     15.00\n",
       "16892   2xui     15.00\n",
       "16893   2avi     15.22\n",
       "\n",
       "[16894 rows x 2 columns]"
      ]
     },
     "execution_count": 2,
     "metadata": {},
     "output_type": "execute_result"
    }
   ],
   "source": [
    "PDBbind = pd.read_csv('/pubhome/xli02/project/PLIM/deep_learning/FAST/fast_plim/test_on_core_set/1-remove_same_id_in_core_set/PDBbind_minimized/PDBbind_minimized_rm_core_ids.csv', sep='\\t')\n",
    "PDBbind"
   ]
  },
  {
   "cell_type": "code",
   "execution_count": 27,
   "metadata": {},
   "outputs": [
    {
     "data": {
      "text/plain": [
       "0.4"
      ]
     },
     "execution_count": 27,
     "metadata": {},
     "output_type": "execute_result"
    }
   ],
   "source": [
    "PDBbind.iloc[0,]['-logAffi']"
   ]
  },
  {
   "cell_type": "code",
   "execution_count": 3,
   "metadata": {},
   "outputs": [],
   "source": [
    "structure_dir = '/pubhome/xli02/project/PLIM/v2019_dataset/PDBbind_v2019'\n",
    "cutoff=6"
   ]
  },
  {
   "cell_type": "code",
   "execution_count": 4,
   "metadata": {},
   "outputs": [],
   "source": [
    "pdb = PDBbind.iloc[0,]['pdb_id']\n",
    "protein = next(oddt.toolkits.ob.readfile('pdb', f'{structure_dir}/{pdb}/rec_h_opt.pdb'))\n",
    "ligand = next(oddt.toolkits.ob.readfile('sdf', f'{structure_dir}/{pdb}/cry_lig_opt_converted.sdf'))\n",
    "ligand_atomic_nums = [6, 7, 8, 9, 15, 16, 17, 35, 53]\n",
    "protein_atomic_nums = [6, 7, 8, 16]\n",
    "# cutoff = 12\n",
    "rfscore_descriptor_cc = close_contacts_descriptor(\n",
    "    cutoff=cutoff,\n",
    "    protein_types=protein_atomic_nums,\n",
    "    ligand_types=ligand_atomic_nums)"
   ]
  },
  {
   "cell_type": "code",
   "execution_count": 28,
   "metadata": {},
   "outputs": [],
   "source": [
    "protein"
   ]
  },
  {
   "cell_type": "code",
   "execution_count": 5,
   "metadata": {},
   "outputs": [
    {
     "data": {
      "image/png": "[encoded data removed]",
      "text/html": [
       "<img src=\"data:image/png;base64,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\" alt=\"CRL_8_8888\">"
      ],
      "text/plain": [
       "<img src=\"data:image/png;base64,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\" alt=\"CRL_8_8888\">"
      ]
     },
     "execution_count": 5,
     "metadata": {},
     "output_type": "execute_result"
    }
   ],
   "source": [
    "ligand"
   ]
  },
  {
   "cell_type": "code",
   "execution_count": 6,
   "metadata": {},
   "outputs": [],
   "source": [
    "feature = rfscore_descriptor_cc.build(ligand, protein)"
   ]
  },
  {
   "cell_type": "code",
   "execution_count": 27,
   "metadata": {},
   "outputs": [
    {
     "data": {
      "text/plain": [
       "array([[151,  52,  40,   0,  18,   7,   6,   0,  94,  36,  24,   0,   0,\n",
       "          0,   0,   0,   0,   0,   0,   0,   0,   0,   0,   0,   0,   0,\n",
       "          0,   0,   0,   0,   0,   0,   0,   0,   0,   0]])"
      ]
     },
     "execution_count": 27,
     "metadata": {},
     "output_type": "execute_result"
    }
   ],
   "source": [
    "feature"
   ]
  },
  {
   "cell_type": "code",
   "execution_count": 48,
   "metadata": {},
   "outputs": [
    {
     "data": {
      "text/plain": [
       "array([[151,  52,  40,   0,  18,   7,   6,   0,  94,  36,  24,   0,   0,\n",
       "          0,   0,   0,   0,   0,   0,   0,   0,   0,   0,   0,   0,   0,\n",
       "          0,   0,   0,   0,   0,   0,   0,   0,   0,   0]])"
      ]
     },
     "execution_count": 48,
     "metadata": {},
     "output_type": "execute_result"
    }
   ],
   "source": [
    "pdb = PDBbind.iloc[0,]['pdb_id']\n",
    "protein = next(oddt.toolkits.ob.readfile('pdb', f'{structure_dir}/{pdb}/rec_h_opt.pdb'))\n",
    "ligand = next(oddt.toolkits.ob.readfile('sdf', f'{structure_dir}/{pdb}/cry_lig_opt_converted.sdf'))\n",
    "ligand_atomic_nums = [6, 7, 8, 9, 15, 16, 17, 35, 53]\n",
    "protein_atomic_nums = [6, 7, 8, 16]\n",
    "# cutoff = 12\n",
    "rfscore_descriptor_cc = close_contacts_descriptor(\n",
    "    cutoff=cutoff,\n",
    "    protein_types=protein_atomic_nums,\n",
    "    ligand_types=ligand_atomic_nums)\n",
    "feature = rfscore_descriptor_cc.build(ligand, protein)\n",
    "feature"
   ]
  },
  {
   "cell_type": "code",
   "execution_count": 50,
   "metadata": {},
   "outputs": [
    {
     "data": {
      "text/plain": [
       "array([[151,  52,  40,   0,  18,   7,   6,   0,  94,  36,  24,   0,   0,\n",
       "          0,   0,   0,   0,   0,   0,   0,   0,   0,   0,   0,   0,   0,\n",
       "          0,   0,   0,   0,   0,   0,   0,   0,   0,   0]])"
      ]
     },
     "execution_count": 50,
     "metadata": {},
     "output_type": "execute_result"
    }
   ],
   "source": [
    "pdb = PDBbind.iloc[0,]['pdb_id']\n",
    "# protein = next(oddt.toolkits.ob.readfile('pdb', f'{structure_dir}/{pdb}/rec_h_opt.pdb'))\n",
    "protein = next(oddt.toolkits.ob.readfile('mol2', f'{structure_dir}/{pdb}/rec_addcharge_pocket_6.mol2'))\n",
    "ligand = next(oddt.toolkits.ob.readfile('sdf', f'{structure_dir}/{pdb}/cry_lig_opt_converted.sdf'))\n",
    "ligand_atomic_nums = [6, 7, 8, 9, 15, 16, 17, 35, 53]\n",
    "protein_atomic_nums = [6, 7, 8, 16]\n",
    "# cutoff = 12\n",
    "rfscore_descriptor_cc = close_contacts_descriptor(\n",
    "    cutoff=cutoff,\n",
    "    protein_types=protein_atomic_nums,\n",
    "    ligand_types=ligand_atomic_nums)\n",
    "feature = rfscore_descriptor_cc.build(ligand, protein)\n",
    "feature"
   ]
  },
  {
   "cell_type": "code",
   "execution_count": 34,
   "metadata": {},
   "outputs": [
    {
     "data": {
      "text/plain": [
       "array([[0, 0, 0, 0, 0, 0, 0, 0, 0, 0, 0, 0, 0, 0, 0, 0, 0, 0, 0, 0, 0, 0,\n",
       "        0, 0, 0, 0, 0, 0, 0, 0, 0, 0, 0, 0, 0, 0]])"
      ]
     },
     "execution_count": 34,
     "metadata": {},
     "output_type": "execute_result"
    }
   ],
   "source": [
    "pdb = PDBbind.iloc[0,]['pdb_id']\n",
    "protein = next(oddt.toolkits.ob.readfile('pdb', f'{structure_dir}/3mvl/rec_h_opt.pdb'))\n",
    "ligand = next(oddt.toolkits.ob.readfile('sdf', f'{structure_dir}/{pdb}/cry_lig_opt_converted.sdf'))\n",
    "ligand_atomic_nums = [6, 7, 8, 9, 15, 16, 17, 35, 53]\n",
    "protein_atomic_nums = [6, 7, 8, 16]\n",
    "# cutoff = 12\n",
    "rfscore_descriptor_cc = close_contacts_descriptor(\n",
    "    cutoff=cutoff,\n",
    "    protein_types=protein_atomic_nums,\n",
    "    ligand_types=ligand_atomic_nums)\n",
    "feature = rfscore_descriptor_cc.build(ligand, protein)\n",
    "feature"
   ]
  },
  {
   "cell_type": "code",
   "execution_count": 32,
   "metadata": {},
   "outputs": [
    {
     "data": {
      "text/plain": [
       "array([[0, 0, 0, 0, 0, 0, 0, 0, 0, 0, 0, 0, 0, 0, 0, 0, 0, 0, 0, 0, 0, 0,\n",
       "        0, 0, 0, 0, 0, 0, 0, 0, 0, 0, 0, 0, 0, 0]])"
      ]
     },
     "execution_count": 32,
     "metadata": {},
     "output_type": "execute_result"
    }
   ],
   "source": [
    "pdb = PDBbind.iloc[0,]['pdb_id']\n",
    "# protein = next(oddt.toolkits.ob.readfile('pdb', f'{structure_dir}/{pdb}/rec_h_opt.pdb'))\n",
    "protein = next(oddt.toolkits.ob.readfile('mol2', f'{structure_dir}/3mvl/rec_addcharge_pocket_6.mol2'))\n",
    "ligand = next(oddt.toolkits.ob.readfile('sdf', f'{structure_dir}/{pdb}/cry_lig_opt_converted.sdf'))\n",
    "ligand_atomic_nums = [6, 7, 8, 9, 15, 16, 17, 35, 53]\n",
    "protein_atomic_nums = [6, 7, 8, 16]\n",
    "# cutoff = 12\n",
    "rfscore_descriptor_cc = close_contacts_descriptor(\n",
    "    cutoff=cutoff,\n",
    "    protein_types=protein_atomic_nums,\n",
    "    ligand_types=ligand_atomic_nums)\n",
    "feature = rfscore_descriptor_cc.build(ligand, protein)\n",
    "feature"
   ]
  },
  {
   "cell_type": "code",
   "execution_count": 51,
   "metadata": {},
   "outputs": [
    {
     "data": {
      "text/plain": [
       "array([[0, 0, 0, 0, 0, 0, 0, 0, 0, 0, 0, 0, 0, 0, 0, 0, 0, 0, 0, 0, 0, 0,\n",
       "        0, 0, 0, 0, 0, 0, 0, 0, 0, 0, 0, 0, 0, 0]])"
      ]
     },
     "execution_count": 51,
     "metadata": {},
     "output_type": "execute_result"
    }
   ],
   "source": [
    "# pdb = PDBbind.iloc[0,]['pdb_id']\n",
    "protein = next(oddt.toolkits.ob.readfile('pdb', f'{structure_dir}/3mvl/rec_h_opt.pdb'))\n",
    "# ligand = next(oddt.toolkits.ob.readfile('sdf', f'{structure_dir}/{pdb}/cry_lig_opt_converted.sdf'))\n",
    "# ligand_atomic_nums = [6, 7, 8, 9, 15, 16, 17, 35, 53]\n",
    "# protein_atomic_nums = [6, 7, 8, 16]\n",
    "# # cutoff = 12\n",
    "# rfscore_descriptor_cc = close_contacts_descriptor(\n",
    "#     cutoff=cutoff,\n",
    "#     protein_types=protein_atomic_nums,\n",
    "#     ligand_types=ligand_atomic_nums)\n",
    "feature = rfscore_descriptor_cc.build(ligand, protein)\n",
    "feature"
   ]
  },
  {
   "cell_type": "code",
   "execution_count": 36,
   "metadata": {},
   "outputs": [
    {
     "data": {
      "text/plain": [
       "array([[135,  42,  24,   0,  21,   6,   3,   0,  81,  26,  15,   0,   0,\n",
       "          0,   0,   0,   0,   0,   0,   0,   0,   0,   0,   0,   0,   0,\n",
       "          0,   0,   0,   0,   0,   0,   0,   0,   0,   0]])"
      ]
     },
     "execution_count": 36,
     "metadata": {},
     "output_type": "execute_result"
    }
   ],
   "source": [
    "pdb = PDBbind.iloc[0,]['pdb_id']\n",
    "# protein = next(oddt.toolkits.ob.readfile('pdb', f'{structure_dir}/{pdb}/rec_h_opt.pdb'))\n",
    "protein = next(oddt.toolkits.ob.readfile('mol2', f'{structure_dir}/2fvd/rec_addcharge_pocket_6.mol2'))\n",
    "ligand = next(oddt.toolkits.ob.readfile('sdf', f'{structure_dir}/{pdb}/cry_lig_opt_converted.sdf'))\n",
    "ligand_atomic_nums = [6, 7, 8, 9, 15, 16, 17, 35, 53]\n",
    "protein_atomic_nums = [6, 7, 8, 16]\n",
    "# cutoff = 12\n",
    "rfscore_descriptor_cc = close_contacts_descriptor(\n",
    "    cutoff=cutoff,\n",
    "    protein_types=protein_atomic_nums,\n",
    "    ligand_types=ligand_atomic_nums)\n",
    "feature = rfscore_descriptor_cc.build(ligand, protein)\n",
    "feature"
   ]
  },
  {
   "cell_type": "code",
   "execution_count": null,
   "metadata": {},
   "outputs": [],
   "source": []
  },
  {
   "cell_type": "code",
   "execution_count": 37,
   "metadata": {},
   "outputs": [
    {
     "data": {
      "text/plain": [
       "array([[  0,  12, 139,   0,  13,  39,   0,   5,  35,   0,   0,   0,   0,\n",
       "          3,  15,   0,   2,   5,   0,   2,   4,   0,   0,   0,   0,  20,\n",
       "         74,   0,   9,  27,   0,   2,  22,   0,   0,   0,   0,   0,   0,\n",
       "          0,   0,   0,   0,   0,   0,   0,   0,   0,   0,   0,   0,   0,\n",
       "          0,   0,   0,   0,   0,   0,   0,   0,   0,   0,   0,   0,   0,\n",
       "          0,   0,   0,   0,   0,   0,   0,   0,   0,   0,   0,   0,   0,\n",
       "          0,   0,   0,   0,   0,   0,   0,   0,   0,   0,   0,   0,   0,\n",
       "          0,   0,   0,   0,   0,   0,   0,   0,   0,   0,   0,   0,   0,\n",
       "          0,   0,   0,   0]])"
      ]
     },
     "execution_count": 37,
     "metadata": {},
     "output_type": "execute_result"
    }
   ],
   "source": [
    "ligand = next(oddt.toolkits.ob.readfile('sdf', f'{structure_dir}/{pdb}/cry_lig_opt_converted.sdf'))\n",
    "protein = next(oddt.toolkits.ob.readfile('pdb', f'{structure_dir}/{pdb}/rec_h_opt.pdb'))\n",
    "cutoff_list = np.arange(0,cutoff+1,2)\n",
    "descriptors = close_contacts_descriptor(\n",
    "    cutoff=cutoff_list,\n",
    "    protein_types=protein_atomic_nums,\n",
    "    ligand_types=ligand_atomic_nums)\n",
    "feature = descriptors.build(ligand, protein)\n",
    "feature"
   ]
  },
  {
   "cell_type": "code",
   "execution_count": 52,
   "metadata": {},
   "outputs": [
    {
     "data": {
      "text/plain": [
       "array([[  0,  12, 139,   0,  13,  39,   0,   5,  35,   0,   0,   0,   0,\n",
       "          3,  15,   0,   2,   5,   0,   2,   4,   0,   0,   0,   0,  20,\n",
       "         74,   0,   9,  27,   0,   2,  22,   0,   0,   0,   0,   0,   0,\n",
       "          0,   0,   0,   0,   0,   0,   0,   0,   0,   0,   0,   0,   0,\n",
       "          0,   0,   0,   0,   0,   0,   0,   0,   0,   0,   0,   0,   0,\n",
       "          0,   0,   0,   0,   0,   0,   0,   0,   0,   0,   0,   0,   0,\n",
       "          0,   0,   0,   0,   0,   0,   0,   0,   0,   0,   0,   0,   0,\n",
       "          0,   0,   0,   0,   0,   0,   0,   0,   0,   0,   0,   0,   0,\n",
       "          0,   0,   0,   0]])"
      ]
     },
     "execution_count": 52,
     "metadata": {},
     "output_type": "execute_result"
    }
   ],
   "source": [
    "ligand = next(oddt.toolkits.ob.readfile('sdf', f'{structure_dir}/{pdb}/cry_lig_opt_converted.sdf'))\n",
    "protein = next(oddt.toolkits.ob.readfile('mol2', f'{structure_dir}/{pdb}/rec_addcharge_pocket_6.mol2'))\n",
    "cutoff_list = np.arange(0,cutoff+1,2)\n",
    "descriptors = close_contacts_descriptor(\n",
    "    cutoff=cutoff_list,\n",
    "    protein_types=protein_atomic_nums,\n",
    "    ligand_types=ligand_atomic_nums)\n",
    "feature = descriptors.build(ligand, protein)\n",
    "feature"
   ]
  },
  {
   "cell_type": "code",
   "execution_count": 53,
   "metadata": {},
   "outputs": [
    {
     "data": {
      "text/plain": [
       "array([[0, 0, 0, 0, 0, 0, 0, 0, 0, 0, 0, 0, 0, 0, 0, 0, 0, 0, 0, 0, 0, 0,\n",
       "        0, 0, 0, 0, 0, 0, 0, 0, 0, 0, 0, 0, 0, 0, 0, 0, 0, 0, 0, 0, 0, 0,\n",
       "        0, 0, 0, 0, 0, 0, 0, 0, 0, 0, 0, 0, 0, 0, 0, 0, 0, 0, 0, 0, 0, 0,\n",
       "        0, 0, 0, 0, 0, 0, 0, 0, 0, 0, 0, 0, 0, 0, 0, 0, 0, 0, 0, 0, 0, 0,\n",
       "        0, 0, 0, 0, 0, 0, 0, 0, 0, 0, 0, 0, 0, 0, 0, 0, 0, 0, 0, 0]])"
      ]
     },
     "execution_count": 53,
     "metadata": {},
     "output_type": "execute_result"
    }
   ],
   "source": [
    "# ligand = next(oddt.toolkits.ob.readfile('sdf', f'{structure_dir}/{pdb}/cry_lig_opt_converted.sdf'))\n",
    "protein = next(oddt.toolkits.ob.readfile('mol2', f'{structure_dir}/3mvl/rec_addcharge_pocket_6.mol2'))\n",
    "# cutoff_list = np.arange(0,cutoff+1,2)\n",
    "# descriptors = close_contacts_descriptor(\n",
    "#     cutoff=cutoff_list,\n",
    "#     protein_types=protein_atomic_nums,\n",
    "#     ligand_types=ligand_atomic_nums)\n",
    "feature = descriptors.build(ligand, protein)\n",
    "feature"
   ]
  },
  {
   "cell_type": "code",
   "execution_count": 39,
   "metadata": {},
   "outputs": [
    {
     "data": {
      "text/plain": [
       "array([[0, 0, 0, 0, 0, 0, 0, 0, 0, 0, 0, 0, 0, 0, 0, 0, 0, 0, 0, 0, 0, 0,\n",
       "        0, 0, 0, 0, 0, 0, 0, 0, 0, 0, 0, 0, 0, 0, 0, 0, 0, 0, 0, 0, 0, 0,\n",
       "        0, 0, 0, 0, 0, 0, 0, 0, 0, 0, 0, 0, 0, 0, 0, 0, 0, 0, 0, 0, 0, 0,\n",
       "        0, 0, 0, 0, 0, 0, 0, 0, 0, 0, 0, 0, 0, 0, 0, 0, 0, 0, 0, 0, 0, 0,\n",
       "        0, 0, 0, 0, 0, 0, 0, 0, 0, 0, 0, 0, 0, 0, 0, 0, 0, 0, 0, 0]])"
      ]
     },
     "execution_count": 39,
     "metadata": {},
     "output_type": "execute_result"
    }
   ],
   "source": [
    "igand = next(oddt.toolkits.ob.readfile('sdf', f'{structure_dir}/{pdb}/cry_lig_opt_converted.sdf'))\n",
    "protein = next(oddt.toolkits.ob.readfile('mol2', f'{structure_dir}/3mvl/rec_addcharge_pocket_6.mol2'))\n",
    "cutoff_list = np.arange(0,cutoff+1,2)\n",
    "descriptors = close_contacts_descriptor(\n",
    "    cutoff=cutoff_list,\n",
    "    protein_types=protein_atomic_nums,\n",
    "    ligand_types=ligand_atomic_nums)\n",
    "feature = descriptors.build(ligand, protein)\n",
    "feature"
   ]
  },
  {
   "cell_type": "code",
   "execution_count": null,
   "metadata": {},
   "outputs": [],
   "source": []
  },
  {
   "cell_type": "code",
   "execution_count": 11,
   "metadata": {},
   "outputs": [],
   "source": [
    "# vina_scores = ['vina_gauss1',\n",
    "#             'vina_gauss2',\n",
    "#             'vina_repulsion',\n",
    "#             'vina_hydrophobic',\n",
    "#             'vina_hydrogen',\n",
    "#             'vina_num_rotors']\n",
    "# vina = oddt_vina_descriptor(vina_scores=vina_scores)"
   ]
  },
  {
   "cell_type": "code",
   "execution_count": 40,
   "metadata": {},
   "outputs": [
    {
     "data": {
      "text/plain": [
       "array([[ 72.49007  , 834.49866  ,   4.8661804,  13.132306 ,   3.6445377,\n",
       "          5.       ]], dtype=float32)"
      ]
     },
     "execution_count": 40,
     "metadata": {},
     "output_type": "execute_result"
    }
   ],
   "source": [
    "ligand = next(oddt.toolkits.ob.readfile('sdf', f'{structure_dir}/{pdb}/cry_lig_opt_converted.sdf'))\n",
    "protein = next(oddt.toolkits.ob.readfile('pdb', f'{structure_dir}/{pdb}/rec_h_opt.pdb'))\n",
    "vina_scores = ['vina_gauss1',\n",
    "            'vina_gauss2',\n",
    "            'vina_repulsion',\n",
    "            'vina_hydrophobic',\n",
    "            'vina_hydrogen',\n",
    "            'vina_num_rotors']\n",
    "vina = oddt_vina_descriptor(vina_scores=vina_scores)\n",
    "feature = vina.build(ligand, protein)\n",
    "feature"
   ]
  },
  {
   "cell_type": "code",
   "execution_count": 60,
   "metadata": {},
   "outputs": [
    {
     "data": {
      "text/plain": [
       "array([[ 72.49007  , 802.2137   ,   4.8661804,  13.132306 ,   3.6445377,\n",
       "          5.       ]], dtype=float32)"
      ]
     },
     "execution_count": 60,
     "metadata": {},
     "output_type": "execute_result"
    }
   ],
   "source": [
    "ligand = next(oddt.toolkits.ob.readfile('sdf', f'{structure_dir}/{pdb}/cry_lig_opt_converted.sdf'))\n",
    "protein = next(oddt.toolkits.ob.readfile('mol2', f'{structure_dir}/{pdb}/rec_addcharge_pocket_6.mol2'))\n",
    "vina_scores = ['vina_gauss1',\n",
    "            'vina_gauss2',\n",
    "            'vina_repulsion',\n",
    "            'vina_hydrophobic',\n",
    "            'vina_hydrogen',\n",
    "            'vina_num_rotors']\n",
    "vina = oddt_vina_descriptor(vina_scores=vina_scores)\n",
    "feature = vina.build(ligand, protein)\n",
    "feature"
   ]
  },
  {
   "cell_type": "code",
   "execution_count": 61,
   "metadata": {},
   "outputs": [
    {
     "data": {
      "text/plain": [
       "array([[ 72.49007  , 802.2137   ,   4.8661804,  13.132306 ,   3.6445377,\n",
       "          5.       ]], dtype=float32)"
      ]
     },
     "execution_count": 61,
     "metadata": {},
     "output_type": "execute_result"
    }
   ],
   "source": [
    "\n",
    "protein = next(oddt.toolkits.ob.readfile('mol2', f'{structure_dir}/3mvl/rec_addcharge_pocket_6.mol2'))\n",
    "vina_scores = ['vina_gauss1',\n",
    "            'vina_gauss2',\n",
    "            'vina_repulsion',\n",
    "            'vina_hydrophobic',\n",
    "            'vina_hydrogen',\n",
    "            'vina_num_rotors']\n",
    "vina = oddt_vina_descriptor(vina_scores=vina_scores)\n",
    "feature = vina.build(ligand, protein)\n",
    "feature"
   ]
  },
  {
   "cell_type": "code",
   "execution_count": 71,
   "metadata": {},
   "outputs": [
    {
     "data": {
      "text/plain": [
       "array([[0., 0., 0., 0., 0., 5.]], dtype=float32)"
      ]
     },
     "execution_count": 71,
     "metadata": {},
     "output_type": "execute_result"
    }
   ],
   "source": [
    "ligand = next(oddt.toolkits.ob.readfile('sdf', f'{structure_dir}/{pdb}/cry_lig_opt_converted.sdf'))\n",
    "protein = next(oddt.toolkits.ob.readfile('mol2', f'{structure_dir}/3mvl/rec_addcharge_pocket_6.mol2'))\n",
    "vina_scores = ['vina_gauss1',\n",
    "            'vina_gauss2',\n",
    "            'vina_repulsion',\n",
    "            'vina_hydrophobic',\n",
    "            'vina_hydrogen',\n",
    "            'vina_num_rotors']\n",
    "vina = oddt_vina_descriptor(vina_scores=vina_scores)\n",
    "feature = vina.build(ligand, protein)\n",
    "feature"
   ]
  },
  {
   "cell_type": "code",
   "execution_count": 72,
   "metadata": {},
   "outputs": [
    {
     "data": {
      "text/plain": [
       "667"
      ]
     },
     "execution_count": 72,
     "metadata": {},
     "output_type": "execute_result"
    }
   ],
   "source": [
    "len(vina.protein.atoms)"
   ]
  },
  {
   "cell_type": "code",
   "execution_count": 73,
   "metadata": {},
   "outputs": [
    {
     "data": {
      "text/plain": [
       "array([[0., 0., 0., 0., 0., 5.]], dtype=float32)"
      ]
     },
     "execution_count": 73,
     "metadata": {},
     "output_type": "execute_result"
    }
   ],
   "source": [
    "\n",
    "protein = next(oddt.toolkits.ob.readfile('mol2', f'{structure_dir}/{pdb}/rec_addcharge_pocket_6.mol2'))\n",
    "vina_scores = ['vina_gauss1',\n",
    "            'vina_gauss2',\n",
    "            'vina_repulsion',\n",
    "            'vina_hydrophobic',\n",
    "            'vina_hydrogen',\n",
    "            'vina_num_rotors']\n",
    "vina = oddt_vina_descriptor(vina_scores=vina_scores)\n",
    "feature = vina.build(ligand, protein)\n",
    "feature"
   ]
  },
  {
   "cell_type": "code",
   "execution_count": 74,
   "metadata": {},
   "outputs": [
    {
     "data": {
      "text/plain": [
       "486"
      ]
     },
     "execution_count": 74,
     "metadata": {},
     "output_type": "execute_result"
    }
   ],
   "source": [
    "len(vina.protein.atoms)"
   ]
  },
  {
   "cell_type": "code",
   "execution_count": 75,
   "metadata": {},
   "outputs": [
    {
     "data": {
      "text/plain": [
       "array([[ 72.49007  , 802.2137   ,   4.8661804,  13.132306 ,   3.6445377,\n",
       "          5.       ]], dtype=float32)"
      ]
     },
     "execution_count": 75,
     "metadata": {},
     "output_type": "execute_result"
    }
   ],
   "source": [
    "ligand = next(oddt.toolkits.ob.readfile('sdf', f'{structure_dir}/{pdb}/cry_lig_opt_converted.sdf'))\n",
    "protein = next(oddt.toolkits.ob.readfile('mol2', f'{structure_dir}/{pdb}/rec_addcharge_pocket_6.mol2'))\n",
    "vina_scores = ['vina_gauss1',\n",
    "            'vina_gauss2',\n",
    "            'vina_repulsion',\n",
    "            'vina_hydrophobic',\n",
    "            'vina_hydrogen',\n",
    "            'vina_num_rotors']\n",
    "vina = oddt_vina_descriptor(vina_scores=vina_scores)\n",
    "feature = vina.build(ligand, protein)\n",
    "feature"
   ]
  },
  {
   "cell_type": "code",
   "execution_count": 76,
   "metadata": {},
   "outputs": [
    {
     "data": {
      "text/plain": [
       "486"
      ]
     },
     "execution_count": 76,
     "metadata": {},
     "output_type": "execute_result"
    }
   ],
   "source": [
    "len(vina.protein.atoms)"
   ]
  },
  {
   "cell_type": "code",
   "execution_count": 42,
   "metadata": {},
   "outputs": [
    {
     "data": {
      "text/plain": [
       "array([[ 69.42018 , 327.95474 , 204.4785  ,  20.941042,   4.522452,\n",
       "          5.      ]], dtype=float32)"
      ]
     },
     "execution_count": 42,
     "metadata": {},
     "output_type": "execute_result"
    }
   ],
   "source": [
    "ligand = next(oddt.toolkits.ob.readfile('sdf', f'{structure_dir}/{pdb}/cry_lig_opt_converted.sdf'))\n",
    "protein = next(oddt.toolkits.ob.readfile('mol2', f'{structure_dir}/2fvd/rec_addcharge_pocket_6.mol2'))\n",
    "vina_scores = ['vina_gauss1',\n",
    "            'vina_gauss2',\n",
    "            'vina_repulsion',\n",
    "            'vina_hydrophobic',\n",
    "            'vina_hydrogen',\n",
    "            'vina_num_rotors']\n",
    "vina2 = oddt_vina_descriptor(vina_scores=vina_scores)\n",
    "feature2 = vina2.build(ligand, protein)\n",
    "feature2"
   ]
  },
  {
   "cell_type": "code",
   "execution_count": 46,
   "metadata": {},
   "outputs": [
    {
     "ename": "AttributeError",
     "evalue": "'vina_docking' object has no attribute 'rec_dict'",
     "output_type": "error",
     "traceback": [
      "\u001b[0;31m---------------------------------------------------------------------------\u001b[0m",
      "\u001b[0;31mAttributeError\u001b[0m                            Traceback (most recent call last)",
      "\u001b[0;32m<ipython-input-46-7b3f3233590c>\u001b[0m in \u001b[0;36m<module>\u001b[0;34m\u001b[0m\n\u001b[1;32m      8\u001b[0m             'vina_num_rotors']\n\u001b[1;32m      9\u001b[0m \u001b[0mvina\u001b[0m \u001b[0;34m=\u001b[0m \u001b[0moddt_vina_descriptor\u001b[0m\u001b[0;34m(\u001b[0m\u001b[0mvina_scores\u001b[0m\u001b[0;34m=\u001b[0m\u001b[0mvina_scores\u001b[0m\u001b[0;34m)\u001b[0m\u001b[0;34m\u001b[0m\u001b[0;34m\u001b[0m\u001b[0m\n\u001b[0;32m---> 10\u001b[0;31m \u001b[0mfeature\u001b[0m \u001b[0;34m=\u001b[0m \u001b[0mvina\u001b[0m\u001b[0;34m.\u001b[0m\u001b[0mbuild\u001b[0m\u001b[0;34m(\u001b[0m\u001b[0mligand\u001b[0m\u001b[0;34m,\u001b[0m \u001b[0;32mNone\u001b[0m\u001b[0;34m)\u001b[0m\u001b[0;34m\u001b[0m\u001b[0;34m\u001b[0m\u001b[0m\n\u001b[0m\u001b[1;32m     11\u001b[0m \u001b[0mfeature\u001b[0m\u001b[0;34m\u001b[0m\u001b[0;34m\u001b[0m\u001b[0m\n",
      "\u001b[0;32m~/opt/miniconda/envs/fast/lib/python3.6/site-packages/oddt/scoring/descriptors/__init__.py\u001b[0m in \u001b[0;36mbuild\u001b[0;34m(self, ligands, protein)\u001b[0m\n\u001b[1;32m    407\u001b[0m             \u001b[0;32mif\u001b[0m \u001b[0many\u001b[0m\u001b[0;34m(\u001b[0m\u001b[0mx\u001b[0m \u001b[0;32mnot\u001b[0m \u001b[0;32min\u001b[0m \u001b[0mmol_keys\u001b[0m \u001b[0;32mfor\u001b[0m \u001b[0mx\u001b[0m \u001b[0;32min\u001b[0m \u001b[0mself\u001b[0m\u001b[0;34m.\u001b[0m\u001b[0mvina_scores\u001b[0m\u001b[0;34m)\u001b[0m\u001b[0;34m:\u001b[0m\u001b[0;34m\u001b[0m\u001b[0;34m\u001b[0m\u001b[0m\n\u001b[1;32m    408\u001b[0m                 \u001b[0mself\u001b[0m\u001b[0;34m.\u001b[0m\u001b[0mvina\u001b[0m\u001b[0;34m.\u001b[0m\u001b[0mset_ligand\u001b[0m\u001b[0;34m(\u001b[0m\u001b[0mmol\u001b[0m\u001b[0;34m)\u001b[0m\u001b[0;34m\u001b[0m\u001b[0;34m\u001b[0m\u001b[0m\n\u001b[0;32m--> 409\u001b[0;31m                 \u001b[0minter\u001b[0m \u001b[0;34m=\u001b[0m \u001b[0mself\u001b[0m\u001b[0;34m.\u001b[0m\u001b[0mvina\u001b[0m\u001b[0;34m.\u001b[0m\u001b[0mscore_inter\u001b[0m\u001b[0;34m(\u001b[0m\u001b[0;34m)\u001b[0m\u001b[0;34m\u001b[0m\u001b[0;34m\u001b[0m\u001b[0m\n\u001b[0m\u001b[1;32m    410\u001b[0m                 \u001b[0mintra\u001b[0m \u001b[0;34m=\u001b[0m \u001b[0mself\u001b[0m\u001b[0;34m.\u001b[0m\u001b[0mvina\u001b[0m\u001b[0;34m.\u001b[0m\u001b[0mscore_intra\u001b[0m\u001b[0;34m(\u001b[0m\u001b[0;34m)\u001b[0m\u001b[0;34m\u001b[0m\u001b[0;34m\u001b[0m\u001b[0m\n\u001b[1;32m    411\u001b[0m                 \u001b[0mnum_rotors\u001b[0m \u001b[0;34m=\u001b[0m \u001b[0mself\u001b[0m\u001b[0;34m.\u001b[0m\u001b[0mvina\u001b[0m\u001b[0;34m.\u001b[0m\u001b[0mnum_rotors\u001b[0m\u001b[0;34m\u001b[0m\u001b[0;34m\u001b[0m\u001b[0m\n",
      "\u001b[0;32m~/opt/miniconda/envs/fast/lib/python3.6/site-packages/oddt/docking/internal.py\u001b[0m in \u001b[0;36mscore_inter\u001b[0;34m(self, coords)\u001b[0m\n\u001b[1;32m    175\u001b[0m \u001b[0;34m\u001b[0m\u001b[0m\n\u001b[1;32m    176\u001b[0m         \u001b[0;31m# Inter-molecular\u001b[0m\u001b[0;34m\u001b[0m\u001b[0;34m\u001b[0m\u001b[0;34m\u001b[0m\u001b[0m\n\u001b[0;32m--> 177\u001b[0;31m         \u001b[0mr\u001b[0m \u001b[0;34m=\u001b[0m \u001b[0mdistance\u001b[0m\u001b[0;34m(\u001b[0m\u001b[0mself\u001b[0m\u001b[0;34m.\u001b[0m\u001b[0mrec_dict\u001b[0m\u001b[0;34m[\u001b[0m\u001b[0;34m'coords'\u001b[0m\u001b[0;34m]\u001b[0m\u001b[0;34m,\u001b[0m \u001b[0mcoords\u001b[0m\u001b[0;34m)\u001b[0m\u001b[0;34m\u001b[0m\u001b[0;34m\u001b[0m\u001b[0m\n\u001b[0m\u001b[1;32m    178\u001b[0m         \u001b[0md\u001b[0m \u001b[0;34m=\u001b[0m \u001b[0;34m(\u001b[0m\u001b[0mr\u001b[0m \u001b[0;34m-\u001b[0m \u001b[0mself\u001b[0m\u001b[0;34m.\u001b[0m\u001b[0mrec_dict\u001b[0m\u001b[0;34m[\u001b[0m\u001b[0;34m'radius'\u001b[0m\u001b[0;34m]\u001b[0m\u001b[0;34m[\u001b[0m\u001b[0;34m:\u001b[0m\u001b[0;34m,\u001b[0m \u001b[0mnp\u001b[0m\u001b[0;34m.\u001b[0m\u001b[0mnewaxis\u001b[0m\u001b[0;34m]\u001b[0m \u001b[0;34m-\u001b[0m \u001b[0mself\u001b[0m\u001b[0;34m.\u001b[0m\u001b[0mlig_dict\u001b[0m\u001b[0;34m[\u001b[0m\u001b[0;34m'radius'\u001b[0m\u001b[0;34m]\u001b[0m\u001b[0;34m[\u001b[0m\u001b[0mnp\u001b[0m\u001b[0;34m.\u001b[0m\u001b[0mnewaxis\u001b[0m\u001b[0;34m,\u001b[0m \u001b[0;34m:\u001b[0m\u001b[0;34m]\u001b[0m\u001b[0;34m)\u001b[0m\u001b[0;34m\u001b[0m\u001b[0;34m\u001b[0m\u001b[0m\n\u001b[1;32m    179\u001b[0m         \u001b[0mmask\u001b[0m \u001b[0;34m=\u001b[0m \u001b[0mr\u001b[0m \u001b[0;34m<\u001b[0m \u001b[0;36m8\u001b[0m\u001b[0;34m\u001b[0m\u001b[0;34m\u001b[0m\u001b[0m\n",
      "\u001b[0;31mAttributeError\u001b[0m: 'vina_docking' object has no attribute 'rec_dict'"
     ]
    }
   ],
   "source": [
    "ligand = next(oddt.toolkits.ob.readfile('sdf', f'{structure_dir}/{pdb}/cry_lig_opt_converted.sdf'))\n",
    "protein = next(oddt.toolkits.ob.readfile('mol2', f'{structure_dir}/3mvl/rec_addcharge_pocket_6.mol2'))\n",
    "vina_scores = ['vina_gauss1',\n",
    "            'vina_gauss2',\n",
    "            'vina_repulsion',\n",
    "            'vina_hydrophobic',\n",
    "            'vina_hydrogen',\n",
    "            'vina_num_rotors']\n",
    "vina = oddt_vina_descriptor(vina_scores=vina_scores)\n",
    "feature = vina.build(ligand, None)\n",
    "feature"
   ]
  },
  {
   "cell_type": "code",
   "execution_count": null,
   "metadata": {},
   "outputs": [],
   "source": []
  },
  {
   "cell_type": "code",
   "execution_count": 18,
   "metadata": {},
   "outputs": [
    {
     "data": {
      "text/plain": [
       "array([[0., 0., 0., 0., 0., 6.]], dtype=float32)"
      ]
     },
     "execution_count": 18,
     "metadata": {},
     "output_type": "execute_result"
    }
   ],
   "source": [
    "ligand = next(oddt.toolkits.ob.readfile('sdf', f'{structure_dir}/2fvd/cry_lig_opt_converted.sdf'))\n",
    "# protein = next(oddt.toolkits.ob.readfile('mol2', f'{structure_dir}/3mvl/rec_addcharge_pocket_6.mol2'))\n",
    "feature = vina.build(ligand, None)\n",
    "feature"
   ]
  },
  {
   "cell_type": "code",
   "execution_count": 19,
   "metadata": {},
   "outputs": [
    {
     "data": {
      "text/plain": [
       "array([[ 103.4193   , 1529.4481   ,    3.25121  ,   29.440277 ,\n",
       "           3.1925864,    6.       ]], dtype=float32)"
      ]
     },
     "execution_count": 19,
     "metadata": {},
     "output_type": "execute_result"
    }
   ],
   "source": [
    "ligand = next(oddt.toolkits.ob.readfile('sdf', f'{structure_dir}/2fvd/cry_lig_opt_converted.sdf'))\n",
    "protein = next(oddt.toolkits.ob.readfile('mol2', f'{structure_dir}/2fvd/rec_addcharge_pocket_6.mol2'))\n",
    "feature = vina.build(ligand, protein)\n",
    "feature"
   ]
  },
  {
   "cell_type": "code",
   "execution_count": 20,
   "metadata": {},
   "outputs": [
    {
     "data": {
      "text/plain": [
       "array([[ 103.4193   , 1529.4481   ,    3.25121  ,   29.440277 ,\n",
       "           3.1925864,    6.       ]], dtype=float32)"
      ]
     },
     "execution_count": 20,
     "metadata": {},
     "output_type": "execute_result"
    }
   ],
   "source": [
    "ligand = next(oddt.toolkits.ob.readfile('sdf', f'{structure_dir}/2fvd/cry_lig_opt_converted.sdf'))\n",
    "# protein = next(oddt.toolkits.ob.readfile('mol2', f'{structure_dir}/3mvl/rec_addcharge_pocket_6.mol2'))\n",
    "feature = vina.build(ligand, None)\n",
    "feature"
   ]
  },
  {
   "cell_type": "code",
   "execution_count": 21,
   "metadata": {},
   "outputs": [
    {
     "data": {
      "text/plain": [
       "array([[0., 0., 0., 0., 0., 9.]], dtype=float32)"
      ]
     },
     "execution_count": 21,
     "metadata": {},
     "output_type": "execute_result"
    }
   ],
   "source": [
    "ligand = next(oddt.toolkits.ob.readfile('sdf', f'{structure_dir}/3mvl/cry_lig_opt_converted.sdf'))\n",
    "protein = next(oddt.toolkits.ob.readfile('mol2', f'{structure_dir}/2fvd/rec_addcharge_pocket_6.mol2'))\n",
    "feature = vina.build(ligand, protein)\n",
    "feature"
   ]
  },
  {
   "cell_type": "code",
   "execution_count": null,
   "metadata": {},
   "outputs": [],
   "source": []
  },
  {
   "cell_type": "code",
   "execution_count": 18,
   "metadata": {},
   "outputs": [
    {
     "data": {
      "text/html": [
       "<div>\n",
       "<style scoped>\n",
       "    .dataframe tbody tr th:only-of-type {\n",
       "        vertical-align: middle;\n",
       "    }\n",
       "\n",
       "    .dataframe tbody tr th {\n",
       "        vertical-align: top;\n",
       "    }\n",
       "\n",
       "    .dataframe thead th {\n",
       "        text-align: right;\n",
       "    }\n",
       "</style>\n",
       "<table border=\"1\" class=\"dataframe\">\n",
       "  <thead>\n",
       "    <tr style=\"text-align: right;\">\n",
       "      <th></th>\n",
       "      <th>unique_identify</th>\n",
       "      <th>-logAffi</th>\n",
       "    </tr>\n",
       "  </thead>\n",
       "  <tbody>\n",
       "    <tr>\n",
       "      <th>0</th>\n",
       "      <td>CHEMBL1075026_1swr_CHEMBL857</td>\n",
       "      <td>14.000000</td>\n",
       "    </tr>\n",
       "    <tr>\n",
       "      <th>1</th>\n",
       "      <td>CHEMBL1075027_1hp5_CHEMBL257158</td>\n",
       "      <td>4.698970</td>\n",
       "    </tr>\n",
       "    <tr>\n",
       "      <th>2</th>\n",
       "      <td>CHEMBL1075027_1hp5_CHEMBL403756</td>\n",
       "      <td>4.000000</td>\n",
       "    </tr>\n",
       "    <tr>\n",
       "      <th>3</th>\n",
       "      <td>CHEMBL1075027_1hp5_CHEMBL404356</td>\n",
       "      <td>3.698970</td>\n",
       "    </tr>\n",
       "    <tr>\n",
       "      <th>4</th>\n",
       "      <td>CHEMBL1075027_1jak_CHEMBL253537</td>\n",
       "      <td>4.677781</td>\n",
       "    </tr>\n",
       "    <tr>\n",
       "      <th>...</th>\n",
       "      <td>...</td>\n",
       "      <td>...</td>\n",
       "    </tr>\n",
       "    <tr>\n",
       "      <th>69751</th>\n",
       "      <td>CHEMBL6166_4zk5_CHEMBL3623138</td>\n",
       "      <td>8.431798</td>\n",
       "    </tr>\n",
       "    <tr>\n",
       "      <th>69752</th>\n",
       "      <td>CHEMBL6166_4zk5_CHEMBL3623139</td>\n",
       "      <td>8.795880</td>\n",
       "    </tr>\n",
       "    <tr>\n",
       "      <th>69753</th>\n",
       "      <td>CHEMBL6166_5di1_CHEMBL3754283</td>\n",
       "      <td>7.588909</td>\n",
       "    </tr>\n",
       "    <tr>\n",
       "      <th>69754</th>\n",
       "      <td>CHEMBL6166_5di1_CHEMBL3754304</td>\n",
       "      <td>6.285285</td>\n",
       "    </tr>\n",
       "    <tr>\n",
       "      <th>69755</th>\n",
       "      <td>CHEMBL6175_2xml_CHEMBL90852</td>\n",
       "      <td>3.301030</td>\n",
       "    </tr>\n",
       "  </tbody>\n",
       "</table>\n",
       "<p>69756 rows × 2 columns</p>\n",
       "</div>"
      ],
      "text/plain": [
       "                       unique_identify   -logAffi\n",
       "0         CHEMBL1075026_1swr_CHEMBL857  14.000000\n",
       "1      CHEMBL1075027_1hp5_CHEMBL257158   4.698970\n",
       "2      CHEMBL1075027_1hp5_CHEMBL403756   4.000000\n",
       "3      CHEMBL1075027_1hp5_CHEMBL404356   3.698970\n",
       "4      CHEMBL1075027_1jak_CHEMBL253537   4.677781\n",
       "...                                ...        ...\n",
       "69751    CHEMBL6166_4zk5_CHEMBL3623138   8.431798\n",
       "69752    CHEMBL6166_4zk5_CHEMBL3623139   8.795880\n",
       "69753    CHEMBL6166_5di1_CHEMBL3754283   7.588909\n",
       "69754    CHEMBL6166_5di1_CHEMBL3754304   6.285285\n",
       "69755      CHEMBL6175_2xml_CHEMBL90852   3.301030\n",
       "\n",
       "[69756 rows x 2 columns]"
      ]
     },
     "execution_count": 18,
     "metadata": {},
     "output_type": "execute_result"
    }
   ],
   "source": [
    "Uw = pd.read_csv('/pubhome/xli02/project/PLIM/deep_learning/FAST/fast_plim/test_on_core_set/1-remove_same_id_in_core_set/PLANet_Uw/PLANet_Uw_remove_core_set_ids.csv', sep='\\t')\n",
    "Uw"
   ]
  },
  {
   "cell_type": "code",
   "execution_count": null,
   "metadata": {},
   "outputs": [],
   "source": []
  }
 ],
 "metadata": {
  "interpreter": {
   "hash": "0a139d299aa72e1e7e71fb933870bb205ad66de2df88d66811d79934985b179d"
  },
  "kernelspec": {
   "display_name": "Python 3.6.13 64-bit ('fast': conda)",
   "name": "python3"
  },
  "language_info": {
   "codemirror_mode": {
    "name": "ipython",
    "version": 3
   },
   "file_extension": ".py",
   "mimetype": "text/x-python",
   "name": "python",
   "nbconvert_exporter": "python",
   "pygments_lexer": "ipython3",
   "version": "3.6.13"
  },
  "orig_nbformat": 4
 },
 "nbformat": 4,
 "nbformat_minor": 2
}
